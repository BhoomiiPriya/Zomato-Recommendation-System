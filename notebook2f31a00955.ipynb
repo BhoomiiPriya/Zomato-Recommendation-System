{
 "cells": [
  {
   "cell_type": "code",
   "execution_count": 1,
   "id": "ff7c8030",
   "metadata": {
    "_cell_guid": "b1076dfc-b9ad-4769-8c92-a6c4dae69d19",
    "_uuid": "8f2839f25d086af736a60e9eeb907d3b93b6e0e5",
    "execution": {
     "iopub.execute_input": "2024-11-28T03:56:53.024947Z",
     "iopub.status.busy": "2024-11-28T03:56:53.024409Z",
     "iopub.status.idle": "2024-11-28T03:56:53.961956Z",
     "shell.execute_reply": "2024-11-28T03:56:53.960624Z"
    },
    "papermill": {
     "duration": 0.955493,
     "end_time": "2024-11-28T03:56:53.964678",
     "exception": false,
     "start_time": "2024-11-28T03:56:53.009185",
     "status": "completed"
    },
    "tags": []
   },
   "outputs": [
    {
     "name": "stdout",
     "output_type": "stream",
     "text": [
      "/kaggle/input/zomato-restaurant/zomato.csv\n"
     ]
    }
   ],
   "source": [
    "# This Python 3 environment comes with many helpful analytics libraries installed\n",
    "# It is defined by the kaggle/python Docker image: https://github.com/kaggle/docker-python\n",
    "# For example, here's several helpful packages to load\n",
    "\n",
    "import numpy as np # linear algebra\n",
    "import pandas as pd # data processing, CSV file I/O (e.g. pd.read_csv)\n",
    "\n",
    "# Input data files are available in the read-only \"../input/\" directory\n",
    "# For example, running this (by clicking run or pressing Shift+Enter) will list all files under the input directory\n",
    "\n",
    "import os\n",
    "for dirname, _, filenames in os.walk('/kaggle/input'):\n",
    "    for filename in filenames:\n",
    "        print(os.path.join(dirname, filename))\n",
    "\n",
    "# You can write up to 20GB to the current directory (/kaggle/working/) that gets preserved as output when you create a version using \"Save & Run All\" \n",
    "# You can also write temporary files to /kaggle/temp/, but they won't be saved outside of the current session"
   ]
  },
  {
   "cell_type": "code",
   "execution_count": 2,
   "id": "4fcc6b53",
   "metadata": {
    "execution": {
     "iopub.execute_input": "2024-11-28T03:56:53.994625Z",
     "iopub.status.busy": "2024-11-28T03:56:53.994048Z",
     "iopub.status.idle": "2024-11-28T03:57:06.348547Z",
     "shell.execute_reply": "2024-11-28T03:57:06.347283Z"
    },
    "papermill": {
     "duration": 12.371103,
     "end_time": "2024-11-28T03:57:06.351039",
     "exception": false,
     "start_time": "2024-11-28T03:56:53.979936",
     "status": "completed"
    },
    "tags": []
   },
   "outputs": [],
   "source": [
    "import pandas as pd\n",
    "data=pd.read_csv('/kaggle/input/zomato-restaurant/zomato.csv')"
   ]
  },
  {
   "cell_type": "markdown",
   "id": "f14fcea7",
   "metadata": {
    "papermill": {
     "duration": 0.01298,
     "end_time": "2024-11-28T03:57:06.377355",
     "exception": false,
     "start_time": "2024-11-28T03:57:06.364375",
     "status": "completed"
    },
    "tags": []
   },
   "source": [
    "# ROWS of DATA"
   ]
  },
  {
   "cell_type": "code",
   "execution_count": 3,
   "id": "3cb402b2",
   "metadata": {
    "execution": {
     "iopub.execute_input": "2024-11-28T03:57:06.405220Z",
     "iopub.status.busy": "2024-11-28T03:57:06.404854Z",
     "iopub.status.idle": "2024-11-28T03:57:06.431411Z",
     "shell.execute_reply": "2024-11-28T03:57:06.430190Z"
    },
    "papermill": {
     "duration": 0.043118,
     "end_time": "2024-11-28T03:57:06.433512",
     "exception": false,
     "start_time": "2024-11-28T03:57:06.390394",
     "status": "completed"
    },
    "tags": []
   },
   "outputs": [
    {
     "data": {
      "text/html": [
       "<div>\n",
       "<style scoped>\n",
       "    .dataframe tbody tr th:only-of-type {\n",
       "        vertical-align: middle;\n",
       "    }\n",
       "\n",
       "    .dataframe tbody tr th {\n",
       "        vertical-align: top;\n",
       "    }\n",
       "\n",
       "    .dataframe thead th {\n",
       "        text-align: right;\n",
       "    }\n",
       "</style>\n",
       "<table border=\"1\" class=\"dataframe\">\n",
       "  <thead>\n",
       "    <tr style=\"text-align: right;\">\n",
       "      <th></th>\n",
       "      <th>url</th>\n",
       "      <th>address</th>\n",
       "      <th>name</th>\n",
       "      <th>online_order</th>\n",
       "      <th>book_table</th>\n",
       "      <th>rate</th>\n",
       "      <th>votes</th>\n",
       "      <th>phone</th>\n",
       "      <th>location</th>\n",
       "      <th>rest_type</th>\n",
       "      <th>dish_liked</th>\n",
       "      <th>cuisines</th>\n",
       "      <th>approx_cost(for two people)</th>\n",
       "      <th>reviews_list</th>\n",
       "      <th>menu_item</th>\n",
       "      <th>listed_in(type)</th>\n",
       "      <th>listed_in(city)</th>\n",
       "    </tr>\n",
       "  </thead>\n",
       "  <tbody>\n",
       "    <tr>\n",
       "      <th>0</th>\n",
       "      <td>https://www.zomato.com/bangalore/jalsa-banasha...</td>\n",
       "      <td>942, 21st Main Road, 2nd Stage, Banashankari, ...</td>\n",
       "      <td>Jalsa</td>\n",
       "      <td>Yes</td>\n",
       "      <td>Yes</td>\n",
       "      <td>4.1/5</td>\n",
       "      <td>775</td>\n",
       "      <td>080 42297555\\r\\n+91 9743772233</td>\n",
       "      <td>Banashankari</td>\n",
       "      <td>Casual Dining</td>\n",
       "      <td>Pasta, Lunch Buffet, Masala Papad, Paneer Laja...</td>\n",
       "      <td>North Indian, Mughlai, Chinese</td>\n",
       "      <td>800</td>\n",
       "      <td>[('Rated 4.0', 'RATED\\n  A beautiful place to ...</td>\n",
       "      <td>[]</td>\n",
       "      <td>Buffet</td>\n",
       "      <td>Banashankari</td>\n",
       "    </tr>\n",
       "    <tr>\n",
       "      <th>1</th>\n",
       "      <td>https://www.zomato.com/bangalore/spice-elephan...</td>\n",
       "      <td>2nd Floor, 80 Feet Road, Near Big Bazaar, 6th ...</td>\n",
       "      <td>Spice Elephant</td>\n",
       "      <td>Yes</td>\n",
       "      <td>No</td>\n",
       "      <td>4.1/5</td>\n",
       "      <td>787</td>\n",
       "      <td>080 41714161</td>\n",
       "      <td>Banashankari</td>\n",
       "      <td>Casual Dining</td>\n",
       "      <td>Momos, Lunch Buffet, Chocolate Nirvana, Thai G...</td>\n",
       "      <td>Chinese, North Indian, Thai</td>\n",
       "      <td>800</td>\n",
       "      <td>[('Rated 4.0', 'RATED\\n  Had been here for din...</td>\n",
       "      <td>[]</td>\n",
       "      <td>Buffet</td>\n",
       "      <td>Banashankari</td>\n",
       "    </tr>\n",
       "    <tr>\n",
       "      <th>2</th>\n",
       "      <td>https://www.zomato.com/SanchurroBangalore?cont...</td>\n",
       "      <td>1112, Next to KIMS Medical College, 17th Cross...</td>\n",
       "      <td>San Churro Cafe</td>\n",
       "      <td>Yes</td>\n",
       "      <td>No</td>\n",
       "      <td>3.8/5</td>\n",
       "      <td>918</td>\n",
       "      <td>+91 9663487993</td>\n",
       "      <td>Banashankari</td>\n",
       "      <td>Cafe, Casual Dining</td>\n",
       "      <td>Churros, Cannelloni, Minestrone Soup, Hot Choc...</td>\n",
       "      <td>Cafe, Mexican, Italian</td>\n",
       "      <td>800</td>\n",
       "      <td>[('Rated 3.0', \"RATED\\n  Ambience is not that ...</td>\n",
       "      <td>[]</td>\n",
       "      <td>Buffet</td>\n",
       "      <td>Banashankari</td>\n",
       "    </tr>\n",
       "    <tr>\n",
       "      <th>3</th>\n",
       "      <td>https://www.zomato.com/bangalore/addhuri-udupi...</td>\n",
       "      <td>1st Floor, Annakuteera, 3rd Stage, Banashankar...</td>\n",
       "      <td>Addhuri Udupi Bhojana</td>\n",
       "      <td>No</td>\n",
       "      <td>No</td>\n",
       "      <td>3.7/5</td>\n",
       "      <td>88</td>\n",
       "      <td>+91 9620009302</td>\n",
       "      <td>Banashankari</td>\n",
       "      <td>Quick Bites</td>\n",
       "      <td>Masala Dosa</td>\n",
       "      <td>South Indian, North Indian</td>\n",
       "      <td>300</td>\n",
       "      <td>[('Rated 4.0', \"RATED\\n  Great food and proper...</td>\n",
       "      <td>[]</td>\n",
       "      <td>Buffet</td>\n",
       "      <td>Banashankari</td>\n",
       "    </tr>\n",
       "    <tr>\n",
       "      <th>4</th>\n",
       "      <td>https://www.zomato.com/bangalore/grand-village...</td>\n",
       "      <td>10, 3rd Floor, Lakshmi Associates, Gandhi Baza...</td>\n",
       "      <td>Grand Village</td>\n",
       "      <td>No</td>\n",
       "      <td>No</td>\n",
       "      <td>3.8/5</td>\n",
       "      <td>166</td>\n",
       "      <td>+91 8026612447\\r\\n+91 9901210005</td>\n",
       "      <td>Basavanagudi</td>\n",
       "      <td>Casual Dining</td>\n",
       "      <td>Panipuri, Gol Gappe</td>\n",
       "      <td>North Indian, Rajasthani</td>\n",
       "      <td>600</td>\n",
       "      <td>[('Rated 4.0', 'RATED\\n  Very good restaurant ...</td>\n",
       "      <td>[]</td>\n",
       "      <td>Buffet</td>\n",
       "      <td>Banashankari</td>\n",
       "    </tr>\n",
       "  </tbody>\n",
       "</table>\n",
       "</div>"
      ],
      "text/plain": [
       "                                                 url  \\\n",
       "0  https://www.zomato.com/bangalore/jalsa-banasha...   \n",
       "1  https://www.zomato.com/bangalore/spice-elephan...   \n",
       "2  https://www.zomato.com/SanchurroBangalore?cont...   \n",
       "3  https://www.zomato.com/bangalore/addhuri-udupi...   \n",
       "4  https://www.zomato.com/bangalore/grand-village...   \n",
       "\n",
       "                                             address                   name  \\\n",
       "0  942, 21st Main Road, 2nd Stage, Banashankari, ...                  Jalsa   \n",
       "1  2nd Floor, 80 Feet Road, Near Big Bazaar, 6th ...         Spice Elephant   \n",
       "2  1112, Next to KIMS Medical College, 17th Cross...        San Churro Cafe   \n",
       "3  1st Floor, Annakuteera, 3rd Stage, Banashankar...  Addhuri Udupi Bhojana   \n",
       "4  10, 3rd Floor, Lakshmi Associates, Gandhi Baza...          Grand Village   \n",
       "\n",
       "  online_order book_table   rate  votes                             phone  \\\n",
       "0          Yes        Yes  4.1/5    775    080 42297555\\r\\n+91 9743772233   \n",
       "1          Yes         No  4.1/5    787                      080 41714161   \n",
       "2          Yes         No  3.8/5    918                    +91 9663487993   \n",
       "3           No         No  3.7/5     88                    +91 9620009302   \n",
       "4           No         No  3.8/5    166  +91 8026612447\\r\\n+91 9901210005   \n",
       "\n",
       "       location            rest_type  \\\n",
       "0  Banashankari        Casual Dining   \n",
       "1  Banashankari        Casual Dining   \n",
       "2  Banashankari  Cafe, Casual Dining   \n",
       "3  Banashankari          Quick Bites   \n",
       "4  Basavanagudi        Casual Dining   \n",
       "\n",
       "                                          dish_liked  \\\n",
       "0  Pasta, Lunch Buffet, Masala Papad, Paneer Laja...   \n",
       "1  Momos, Lunch Buffet, Chocolate Nirvana, Thai G...   \n",
       "2  Churros, Cannelloni, Minestrone Soup, Hot Choc...   \n",
       "3                                        Masala Dosa   \n",
       "4                                Panipuri, Gol Gappe   \n",
       "\n",
       "                         cuisines approx_cost(for two people)  \\\n",
       "0  North Indian, Mughlai, Chinese                         800   \n",
       "1     Chinese, North Indian, Thai                         800   \n",
       "2          Cafe, Mexican, Italian                         800   \n",
       "3      South Indian, North Indian                         300   \n",
       "4        North Indian, Rajasthani                         600   \n",
       "\n",
       "                                        reviews_list menu_item  \\\n",
       "0  [('Rated 4.0', 'RATED\\n  A beautiful place to ...        []   \n",
       "1  [('Rated 4.0', 'RATED\\n  Had been here for din...        []   \n",
       "2  [('Rated 3.0', \"RATED\\n  Ambience is not that ...        []   \n",
       "3  [('Rated 4.0', \"RATED\\n  Great food and proper...        []   \n",
       "4  [('Rated 4.0', 'RATED\\n  Very good restaurant ...        []   \n",
       "\n",
       "  listed_in(type) listed_in(city)  \n",
       "0          Buffet    Banashankari  \n",
       "1          Buffet    Banashankari  \n",
       "2          Buffet    Banashankari  \n",
       "3          Buffet    Banashankari  \n",
       "4          Buffet    Banashankari  "
      ]
     },
     "execution_count": 3,
     "metadata": {},
     "output_type": "execute_result"
    }
   ],
   "source": [
    "data.head()"
   ]
  },
  {
   "cell_type": "markdown",
   "id": "14603d44",
   "metadata": {
    "papermill": {
     "duration": 0.013197,
     "end_time": "2024-11-28T03:57:06.460170",
     "exception": false,
     "start_time": "2024-11-28T03:57:06.446973",
     "status": "completed"
    },
    "tags": []
   },
   "source": [
    "# Structure"
   ]
  },
  {
   "cell_type": "code",
   "execution_count": 4,
   "id": "93aaf6fe",
   "metadata": {
    "execution": {
     "iopub.execute_input": "2024-11-28T03:57:06.488040Z",
     "iopub.status.busy": "2024-11-28T03:57:06.487666Z",
     "iopub.status.idle": "2024-11-28T03:57:06.561543Z",
     "shell.execute_reply": "2024-11-28T03:57:06.560353Z"
    },
    "papermill": {
     "duration": 0.09078,
     "end_time": "2024-11-28T03:57:06.564110",
     "exception": false,
     "start_time": "2024-11-28T03:57:06.473330",
     "status": "completed"
    },
    "tags": []
   },
   "outputs": [
    {
     "name": "stdout",
     "output_type": "stream",
     "text": [
      "<class 'pandas.core.frame.DataFrame'>\n",
      "RangeIndex: 51717 entries, 0 to 51716\n",
      "Data columns (total 17 columns):\n",
      " #   Column                       Non-Null Count  Dtype \n",
      "---  ------                       --------------  ----- \n",
      " 0   url                          51717 non-null  object\n",
      " 1   address                      51717 non-null  object\n",
      " 2   name                         51717 non-null  object\n",
      " 3   online_order                 51717 non-null  object\n",
      " 4   book_table                   51717 non-null  object\n",
      " 5   rate                         43942 non-null  object\n",
      " 6   votes                        51717 non-null  int64 \n",
      " 7   phone                        50509 non-null  object\n",
      " 8   location                     51696 non-null  object\n",
      " 9   rest_type                    51490 non-null  object\n",
      " 10  dish_liked                   23639 non-null  object\n",
      " 11  cuisines                     51672 non-null  object\n",
      " 12  approx_cost(for two people)  51371 non-null  object\n",
      " 13  reviews_list                 51717 non-null  object\n",
      " 14  menu_item                    51717 non-null  object\n",
      " 15  listed_in(type)              51717 non-null  object\n",
      " 16  listed_in(city)              51717 non-null  object\n",
      "dtypes: int64(1), object(16)\n",
      "memory usage: 6.7+ MB\n"
     ]
    }
   ],
   "source": [
    "data.info()"
   ]
  },
  {
   "cell_type": "markdown",
   "id": "d7390ff4",
   "metadata": {
    "papermill": {
     "duration": 0.013338,
     "end_time": "2024-11-28T03:57:06.591238",
     "exception": false,
     "start_time": "2024-11-28T03:57:06.577900",
     "status": "completed"
    },
    "tags": []
   },
   "source": [
    "# Summary Statistics"
   ]
  },
  {
   "cell_type": "code",
   "execution_count": 5,
   "id": "4fe88233",
   "metadata": {
    "execution": {
     "iopub.execute_input": "2024-11-28T03:57:06.619718Z",
     "iopub.status.busy": "2024-11-28T03:57:06.619341Z",
     "iopub.status.idle": "2024-11-28T03:57:06.641558Z",
     "shell.execute_reply": "2024-11-28T03:57:06.640377Z"
    },
    "papermill": {
     "duration": 0.038974,
     "end_time": "2024-11-28T03:57:06.643886",
     "exception": false,
     "start_time": "2024-11-28T03:57:06.604912",
     "status": "completed"
    },
    "tags": []
   },
   "outputs": [
    {
     "data": {
      "text/html": [
       "<div>\n",
       "<style scoped>\n",
       "    .dataframe tbody tr th:only-of-type {\n",
       "        vertical-align: middle;\n",
       "    }\n",
       "\n",
       "    .dataframe tbody tr th {\n",
       "        vertical-align: top;\n",
       "    }\n",
       "\n",
       "    .dataframe thead th {\n",
       "        text-align: right;\n",
       "    }\n",
       "</style>\n",
       "<table border=\"1\" class=\"dataframe\">\n",
       "  <thead>\n",
       "    <tr style=\"text-align: right;\">\n",
       "      <th></th>\n",
       "      <th>votes</th>\n",
       "    </tr>\n",
       "  </thead>\n",
       "  <tbody>\n",
       "    <tr>\n",
       "      <th>count</th>\n",
       "      <td>51717.000000</td>\n",
       "    </tr>\n",
       "    <tr>\n",
       "      <th>mean</th>\n",
       "      <td>283.697527</td>\n",
       "    </tr>\n",
       "    <tr>\n",
       "      <th>std</th>\n",
       "      <td>803.838853</td>\n",
       "    </tr>\n",
       "    <tr>\n",
       "      <th>min</th>\n",
       "      <td>0.000000</td>\n",
       "    </tr>\n",
       "    <tr>\n",
       "      <th>25%</th>\n",
       "      <td>7.000000</td>\n",
       "    </tr>\n",
       "    <tr>\n",
       "      <th>50%</th>\n",
       "      <td>41.000000</td>\n",
       "    </tr>\n",
       "    <tr>\n",
       "      <th>75%</th>\n",
       "      <td>198.000000</td>\n",
       "    </tr>\n",
       "    <tr>\n",
       "      <th>max</th>\n",
       "      <td>16832.000000</td>\n",
       "    </tr>\n",
       "  </tbody>\n",
       "</table>\n",
       "</div>"
      ],
      "text/plain": [
       "              votes\n",
       "count  51717.000000\n",
       "mean     283.697527\n",
       "std      803.838853\n",
       "min        0.000000\n",
       "25%        7.000000\n",
       "50%       41.000000\n",
       "75%      198.000000\n",
       "max    16832.000000"
      ]
     },
     "execution_count": 5,
     "metadata": {},
     "output_type": "execute_result"
    }
   ],
   "source": [
    "data.describe()"
   ]
  },
  {
   "cell_type": "markdown",
   "id": "630482bf",
   "metadata": {
    "papermill": {
     "duration": 0.013424,
     "end_time": "2024-11-28T03:57:06.671014",
     "exception": false,
     "start_time": "2024-11-28T03:57:06.657590",
     "status": "completed"
    },
    "tags": []
   },
   "source": [
    "# Importing Libraries"
   ]
  },
  {
   "cell_type": "code",
   "execution_count": 6,
   "id": "2de18e50",
   "metadata": {
    "execution": {
     "iopub.execute_input": "2024-11-28T03:57:06.700097Z",
     "iopub.status.busy": "2024-11-28T03:57:06.699713Z",
     "iopub.status.idle": "2024-11-28T03:57:08.403700Z",
     "shell.execute_reply": "2024-11-28T03:57:08.402561Z"
    },
    "papermill": {
     "duration": 1.721799,
     "end_time": "2024-11-28T03:57:08.406236",
     "exception": false,
     "start_time": "2024-11-28T03:57:06.684437",
     "status": "completed"
    },
    "tags": []
   },
   "outputs": [],
   "source": [
    "import numpy as np\n",
    "import pandas as pd\n",
    "import seaborn as sb\n",
    "import matplotlib.pyplot as plt\n",
    "import seaborn as sns"
   ]
  },
  {
   "cell_type": "code",
   "execution_count": 7,
   "id": "1f61a2fb",
   "metadata": {
    "execution": {
     "iopub.execute_input": "2024-11-28T03:57:08.436560Z",
     "iopub.status.busy": "2024-11-28T03:57:08.436038Z",
     "iopub.status.idle": "2024-11-28T03:57:08.822052Z",
     "shell.execute_reply": "2024-11-28T03:57:08.820913Z"
    },
    "papermill": {
     "duration": 0.40382,
     "end_time": "2024-11-28T03:57:08.824736",
     "exception": false,
     "start_time": "2024-11-28T03:57:08.420916",
     "status": "completed"
    },
    "tags": []
   },
   "outputs": [],
   "source": [
    "from sklearn.linear_model import LogisticRegression\n",
    "from sklearn.linear_model import LinearRegression\n",
    "\n",
    "\n"
   ]
  },
  {
   "cell_type": "code",
   "execution_count": 8,
   "id": "c0c9c57b",
   "metadata": {
    "execution": {
     "iopub.execute_input": "2024-11-28T03:57:08.859626Z",
     "iopub.status.busy": "2024-11-28T03:57:08.858141Z",
     "iopub.status.idle": "2024-11-28T03:57:08.865854Z",
     "shell.execute_reply": "2024-11-28T03:57:08.864362Z"
    },
    "papermill": {
     "duration": 0.030234,
     "end_time": "2024-11-28T03:57:08.869058",
     "exception": false,
     "start_time": "2024-11-28T03:57:08.838824",
     "status": "completed"
    },
    "tags": []
   },
   "outputs": [],
   "source": [
    "from sklearn.model_selection import train_test_split\n",
    "from sklearn.metrics import classification_report\n",
    "from sklearn.metrics import confusion_matrix\n",
    "from sklearn.metrics import r2_score"
   ]
  },
  {
   "cell_type": "code",
   "execution_count": 9,
   "id": "bd8d2579",
   "metadata": {
    "execution": {
     "iopub.execute_input": "2024-11-28T03:57:08.909118Z",
     "iopub.status.busy": "2024-11-28T03:57:08.908524Z",
     "iopub.status.idle": "2024-11-28T03:57:08.914139Z",
     "shell.execute_reply": "2024-11-28T03:57:08.913037Z"
    },
    "papermill": {
     "duration": 0.029452,
     "end_time": "2024-11-28T03:57:08.917240",
     "exception": false,
     "start_time": "2024-11-28T03:57:08.887788",
     "status": "completed"
    },
    "tags": []
   },
   "outputs": [],
   "source": [
    "import warnings\n",
    "warnings.filterwarnings('always')\n",
    "warnings.filterwarnings('ignore')"
   ]
  },
  {
   "cell_type": "code",
   "execution_count": 10,
   "id": "e6158f85",
   "metadata": {
    "execution": {
     "iopub.execute_input": "2024-11-28T03:57:08.956938Z",
     "iopub.status.busy": "2024-11-28T03:57:08.956455Z",
     "iopub.status.idle": "2024-11-28T03:57:09.488841Z",
     "shell.execute_reply": "2024-11-28T03:57:09.487763Z"
    },
    "papermill": {
     "duration": 0.552345,
     "end_time": "2024-11-28T03:57:09.491362",
     "exception": false,
     "start_time": "2024-11-28T03:57:08.939017",
     "status": "completed"
    },
    "tags": []
   },
   "outputs": [],
   "source": [
    "import re\n",
    "from nltk.corpus import stopwords\n",
    "from sklearn.metrics.pairwise import linear_kernel\n",
    "from sklearn.feature_extraction.text import CountVectorizer\n",
    "from sklearn.feature_extraction.text import TfidfVectorizer"
   ]
  },
  {
   "cell_type": "code",
   "execution_count": 11,
   "id": "446fb1e0",
   "metadata": {
    "execution": {
     "iopub.execute_input": "2024-11-28T03:57:09.520183Z",
     "iopub.status.busy": "2024-11-28T03:57:09.519759Z",
     "iopub.status.idle": "2024-11-28T03:57:09.582932Z",
     "shell.execute_reply": "2024-11-28T03:57:09.581634Z"
    },
    "papermill": {
     "duration": 0.080384,
     "end_time": "2024-11-28T03:57:09.585302",
     "exception": false,
     "start_time": "2024-11-28T03:57:09.504918",
     "status": "completed"
    },
    "tags": []
   },
   "outputs": [
    {
     "name": "stdout",
     "output_type": "stream",
     "text": [
      "<class 'pandas.core.frame.DataFrame'>\n",
      "RangeIndex: 51717 entries, 0 to 51716\n",
      "Data columns (total 17 columns):\n",
      " #   Column                       Non-Null Count  Dtype \n",
      "---  ------                       --------------  ----- \n",
      " 0   url                          51717 non-null  object\n",
      " 1   address                      51717 non-null  object\n",
      " 2   name                         51717 non-null  object\n",
      " 3   online_order                 51717 non-null  object\n",
      " 4   book_table                   51717 non-null  object\n",
      " 5   rate                         43942 non-null  object\n",
      " 6   votes                        51717 non-null  int64 \n",
      " 7   phone                        50509 non-null  object\n",
      " 8   location                     51696 non-null  object\n",
      " 9   rest_type                    51490 non-null  object\n",
      " 10  dish_liked                   23639 non-null  object\n",
      " 11  cuisines                     51672 non-null  object\n",
      " 12  approx_cost(for two people)  51371 non-null  object\n",
      " 13  reviews_list                 51717 non-null  object\n",
      " 14  menu_item                    51717 non-null  object\n",
      " 15  listed_in(type)              51717 non-null  object\n",
      " 16  listed_in(city)              51717 non-null  object\n",
      "dtypes: int64(1), object(16)\n",
      "memory usage: 6.7+ MB\n"
     ]
    }
   ],
   "source": [
    "data.info()"
   ]
  },
  {
   "cell_type": "markdown",
   "id": "9313ec76",
   "metadata": {
    "papermill": {
     "duration": 0.013324,
     "end_time": "2024-11-28T03:57:09.612204",
     "exception": false,
     "start_time": "2024-11-28T03:57:09.598880",
     "status": "completed"
    },
    "tags": []
   },
   "source": [
    "# Data CLeaning"
   ]
  },
  {
   "cell_type": "code",
   "execution_count": 12,
   "id": "34f1fd5c",
   "metadata": {
    "execution": {
     "iopub.execute_input": "2024-11-28T03:57:09.641369Z",
     "iopub.status.busy": "2024-11-28T03:57:09.641001Z",
     "iopub.status.idle": "2024-11-28T03:57:09.659581Z",
     "shell.execute_reply": "2024-11-28T03:57:09.658638Z"
    },
    "papermill": {
     "duration": 0.035924,
     "end_time": "2024-11-28T03:57:09.661858",
     "exception": false,
     "start_time": "2024-11-28T03:57:09.625934",
     "status": "completed"
    },
    "tags": []
   },
   "outputs": [],
   "source": [
    "#deleting unnecessary columns\n",
    "data1=data.drop(['url','dish_liked','phone'],axis=1) #dropping the column and saving the new dataset as data1"
   ]
  },
  {
   "cell_type": "code",
   "execution_count": 13,
   "id": "cd10771e",
   "metadata": {
    "execution": {
     "iopub.execute_input": "2024-11-28T03:57:09.691055Z",
     "iopub.status.busy": "2024-11-28T03:57:09.690651Z",
     "iopub.status.idle": "2024-11-28T03:57:09.740071Z",
     "shell.execute_reply": "2024-11-28T03:57:09.738793Z"
    },
    "papermill": {
     "duration": 0.066849,
     "end_time": "2024-11-28T03:57:09.742453",
     "exception": false,
     "start_time": "2024-11-28T03:57:09.675604",
     "status": "completed"
    },
    "tags": []
   },
   "outputs": [
    {
     "name": "stdout",
     "output_type": "stream",
     "text": [
      "<class 'pandas.core.frame.DataFrame'>\n",
      "RangeIndex: 51717 entries, 0 to 51716\n",
      "Data columns (total 14 columns):\n",
      " #   Column                       Non-Null Count  Dtype \n",
      "---  ------                       --------------  ----- \n",
      " 0   address                      51717 non-null  object\n",
      " 1   name                         51717 non-null  object\n",
      " 2   online_order                 51717 non-null  object\n",
      " 3   book_table                   51717 non-null  object\n",
      " 4   rate                         43942 non-null  object\n",
      " 5   votes                        51717 non-null  int64 \n",
      " 6   location                     51696 non-null  object\n",
      " 7   rest_type                    51490 non-null  object\n",
      " 8   cuisines                     51672 non-null  object\n",
      " 9   approx_cost(for two people)  51371 non-null  object\n",
      " 10  reviews_list                 51717 non-null  object\n",
      " 11  menu_item                    51717 non-null  object\n",
      " 12  listed_in(type)              51717 non-null  object\n",
      " 13  listed_in(city)              51717 non-null  object\n",
      "dtypes: int64(1), object(13)\n",
      "memory usage: 5.5+ MB\n"
     ]
    }
   ],
   "source": [
    "data1.info()"
   ]
  },
  {
   "cell_type": "code",
   "execution_count": 14,
   "id": "93c6eacb",
   "metadata": {
    "execution": {
     "iopub.execute_input": "2024-11-28T03:57:09.772714Z",
     "iopub.status.busy": "2024-11-28T03:57:09.772298Z",
     "iopub.status.idle": "2024-11-28T03:57:09.779316Z",
     "shell.execute_reply": "2024-11-28T03:57:09.778315Z"
    },
    "papermill": {
     "duration": 0.025195,
     "end_time": "2024-11-28T03:57:09.781421",
     "exception": false,
     "start_time": "2024-11-28T03:57:09.756226",
     "status": "completed"
    },
    "tags": []
   },
   "outputs": [
    {
     "data": {
      "text/plain": [
       "Index(['address', 'name', 'online_order', 'book_table', 'rate', 'votes',\n",
       "       'location', 'rest_type', 'cuisines', 'approx_cost(for two people)',\n",
       "       'reviews_list', 'menu_item', 'listed_in(type)', 'listed_in(city)'],\n",
       "      dtype='object')"
      ]
     },
     "execution_count": 14,
     "metadata": {},
     "output_type": "execute_result"
    }
   ],
   "source": [
    "data1.columns"
   ]
  },
  {
   "cell_type": "markdown",
   "id": "3b501ace",
   "metadata": {
    "papermill": {
     "duration": 0.013251,
     "end_time": "2024-11-28T03:57:09.808483",
     "exception": false,
     "start_time": "2024-11-28T03:57:09.795232",
     "status": "completed"
    },
    "tags": []
   },
   "source": []
  },
  {
   "cell_type": "code",
   "execution_count": 15,
   "id": "0040afea",
   "metadata": {
    "execution": {
     "iopub.execute_input": "2024-11-28T03:57:09.837919Z",
     "iopub.status.busy": "2024-11-28T03:57:09.837110Z",
     "iopub.status.idle": "2024-11-28T03:57:13.244063Z",
     "shell.execute_reply": "2024-11-28T03:57:13.242815Z"
    },
    "papermill": {
     "duration": 3.424452,
     "end_time": "2024-11-28T03:57:13.246597",
     "exception": false,
     "start_time": "2024-11-28T03:57:09.822145",
     "status": "completed"
    },
    "tags": []
   },
   "outputs": [],
   "source": [
    "#removing the duplicates\n",
    "data1.duplicated().sum()\n",
    "data1.drop_duplicates(inplace=True)"
   ]
  },
  {
   "cell_type": "code",
   "execution_count": 16,
   "id": "009b7edb",
   "metadata": {
    "execution": {
     "iopub.execute_input": "2024-11-28T03:57:13.275987Z",
     "iopub.status.busy": "2024-11-28T03:57:13.275587Z",
     "iopub.status.idle": "2024-11-28T03:57:13.322366Z",
     "shell.execute_reply": "2024-11-28T03:57:13.321038Z"
    },
    "papermill": {
     "duration": 0.064862,
     "end_time": "2024-11-28T03:57:13.325115",
     "exception": false,
     "start_time": "2024-11-28T03:57:13.260253",
     "status": "completed"
    },
    "tags": []
   },
   "outputs": [
    {
     "name": "stdout",
     "output_type": "stream",
     "text": [
      "<class 'pandas.core.frame.DataFrame'>\n",
      "Index: 51674 entries, 0 to 51716\n",
      "Data columns (total 14 columns):\n",
      " #   Column                       Non-Null Count  Dtype \n",
      "---  ------                       --------------  ----- \n",
      " 0   address                      51674 non-null  object\n",
      " 1   name                         51674 non-null  object\n",
      " 2   online_order                 51674 non-null  object\n",
      " 3   book_table                   51674 non-null  object\n",
      " 4   rate                         43907 non-null  object\n",
      " 5   votes                        51674 non-null  int64 \n",
      " 6   location                     51653 non-null  object\n",
      " 7   rest_type                    51447 non-null  object\n",
      " 8   cuisines                     51629 non-null  object\n",
      " 9   approx_cost(for two people)  51329 non-null  object\n",
      " 10  reviews_list                 51674 non-null  object\n",
      " 11  menu_item                    51674 non-null  object\n",
      " 12  listed_in(type)              51674 non-null  object\n",
      " 13  listed_in(city)              51674 non-null  object\n",
      "dtypes: int64(1), object(13)\n",
      "memory usage: 5.9+ MB\n"
     ]
    }
   ],
   "source": [
    "data1.info()"
   ]
  },
  {
   "cell_type": "code",
   "execution_count": 17,
   "id": "2da64013",
   "metadata": {
    "execution": {
     "iopub.execute_input": "2024-11-28T03:57:13.360736Z",
     "iopub.status.busy": "2024-11-28T03:57:13.359684Z",
     "iopub.status.idle": "2024-11-28T03:57:13.448378Z",
     "shell.execute_reply": "2024-11-28T03:57:13.447156Z"
    },
    "papermill": {
     "duration": 0.10704,
     "end_time": "2024-11-28T03:57:13.451738",
     "exception": false,
     "start_time": "2024-11-28T03:57:13.344698",
     "status": "completed"
    },
    "tags": []
   },
   "outputs": [],
   "source": [
    "#Remove the NAN values from the dataset\n",
    "data1.isnull().sum()\n",
    "data1.dropna(how='any',inplace=True)"
   ]
  },
  {
   "cell_type": "code",
   "execution_count": 18,
   "id": "4eb1661b",
   "metadata": {
    "execution": {
     "iopub.execute_input": "2024-11-28T03:57:13.486729Z",
     "iopub.status.busy": "2024-11-28T03:57:13.486210Z",
     "iopub.status.idle": "2024-11-28T03:57:13.538295Z",
     "shell.execute_reply": "2024-11-28T03:57:13.537181Z"
    },
    "papermill": {
     "duration": 0.069936,
     "end_time": "2024-11-28T03:57:13.541039",
     "exception": false,
     "start_time": "2024-11-28T03:57:13.471103",
     "status": "completed"
    },
    "tags": []
   },
   "outputs": [
    {
     "name": "stdout",
     "output_type": "stream",
     "text": [
      "<class 'pandas.core.frame.DataFrame'>\n",
      "Index: 43499 entries, 0 to 51716\n",
      "Data columns (total 14 columns):\n",
      " #   Column                       Non-Null Count  Dtype \n",
      "---  ------                       --------------  ----- \n",
      " 0   address                      43499 non-null  object\n",
      " 1   name                         43499 non-null  object\n",
      " 2   online_order                 43499 non-null  object\n",
      " 3   book_table                   43499 non-null  object\n",
      " 4   rate                         43499 non-null  object\n",
      " 5   votes                        43499 non-null  int64 \n",
      " 6   location                     43499 non-null  object\n",
      " 7   rest_type                    43499 non-null  object\n",
      " 8   cuisines                     43499 non-null  object\n",
      " 9   approx_cost(for two people)  43499 non-null  object\n",
      " 10  reviews_list                 43499 non-null  object\n",
      " 11  menu_item                    43499 non-null  object\n",
      " 12  listed_in(type)              43499 non-null  object\n",
      " 13  listed_in(city)              43499 non-null  object\n",
      "dtypes: int64(1), object(13)\n",
      "memory usage: 5.0+ MB\n"
     ]
    }
   ],
   "source": [
    "data1.info()"
   ]
  },
  {
   "cell_type": "code",
   "execution_count": 19,
   "id": "662dd1e3",
   "metadata": {
    "execution": {
     "iopub.execute_input": "2024-11-28T03:57:13.577369Z",
     "iopub.status.busy": "2024-11-28T03:57:13.576981Z",
     "iopub.status.idle": "2024-11-28T03:57:13.583988Z",
     "shell.execute_reply": "2024-11-28T03:57:13.582904Z"
    },
    "papermill": {
     "duration": 0.025513,
     "end_time": "2024-11-28T03:57:13.586831",
     "exception": false,
     "start_time": "2024-11-28T03:57:13.561318",
     "status": "completed"
    },
    "tags": []
   },
   "outputs": [
    {
     "data": {
      "text/plain": [
       "Index(['address', 'name', 'online_order', 'book_table', 'rate', 'votes',\n",
       "       'location', 'rest_type', 'cuisines', 'approx_cost(for two people)',\n",
       "       'reviews_list', 'menu_item', 'listed_in(type)', 'listed_in(city)'],\n",
       "      dtype='object')"
      ]
     },
     "execution_count": 19,
     "metadata": {},
     "output_type": "execute_result"
    }
   ],
   "source": [
    "#reading column names\n",
    "data1.columns"
   ]
  },
  {
   "cell_type": "code",
   "execution_count": 20,
   "id": "c4131559",
   "metadata": {
    "execution": {
     "iopub.execute_input": "2024-11-28T03:57:13.625904Z",
     "iopub.status.busy": "2024-11-28T03:57:13.625038Z",
     "iopub.status.idle": "2024-11-28T03:57:13.642791Z",
     "shell.execute_reply": "2024-11-28T03:57:13.641564Z"
    },
    "papermill": {
     "duration": 0.035529,
     "end_time": "2024-11-28T03:57:13.645220",
     "exception": false,
     "start_time": "2024-11-28T03:57:13.609691",
     "status": "completed"
    },
    "tags": []
   },
   "outputs": [
    {
     "data": {
      "text/plain": [
       "Index(['address', 'name', 'online_order', 'book_table', 'rate', 'votes',\n",
       "       'location', 'rest_type', 'cuisines', 'cost', 'reviews_list',\n",
       "       'menu_item', 'type', 'city'],\n",
       "      dtype='object')"
      ]
     },
     "execution_count": 20,
     "metadata": {},
     "output_type": "execute_result"
    }
   ],
   "source": [
    "#changing the column names\n",
    "data1=data1.rename(columns={'approx_cost(for two people)':'cost','listed_in(type)':'type','listed_in(city)':'city'})\n",
    "data1.columns\n",
    "                    \n",
    "                    "
   ]
  },
  {
   "cell_type": "code",
   "execution_count": 21,
   "id": "848157e6",
   "metadata": {
    "execution": {
     "iopub.execute_input": "2024-11-28T03:57:13.675062Z",
     "iopub.status.busy": "2024-11-28T03:57:13.674659Z",
     "iopub.status.idle": "2024-11-28T03:57:13.717517Z",
     "shell.execute_reply": "2024-11-28T03:57:13.716436Z"
    },
    "papermill": {
     "duration": 0.061429,
     "end_time": "2024-11-28T03:57:13.720722",
     "exception": false,
     "start_time": "2024-11-28T03:57:13.659293",
     "status": "completed"
    },
    "tags": []
   },
   "outputs": [
    {
     "name": "stdout",
     "output_type": "stream",
     "text": [
      "<class 'pandas.core.frame.DataFrame'>\n",
      "Index: 43499 entries, 0 to 51716\n",
      "Data columns (total 14 columns):\n",
      " #   Column        Non-Null Count  Dtype \n",
      "---  ------        --------------  ----- \n",
      " 0   address       43499 non-null  object\n",
      " 1   name          43499 non-null  object\n",
      " 2   online_order  43499 non-null  object\n",
      " 3   book_table    43499 non-null  object\n",
      " 4   rate          43499 non-null  object\n",
      " 5   votes         43499 non-null  int64 \n",
      " 6   location      43499 non-null  object\n",
      " 7   rest_type     43499 non-null  object\n",
      " 8   cuisines      43499 non-null  object\n",
      " 9   cost          43499 non-null  object\n",
      " 10  reviews_list  43499 non-null  object\n",
      " 11  menu_item     43499 non-null  object\n",
      " 12  type          43499 non-null  object\n",
      " 13  city          43499 non-null  object\n",
      "dtypes: int64(1), object(13)\n",
      "memory usage: 5.0+ MB\n"
     ]
    }
   ],
   "source": [
    "data1.info()"
   ]
  },
  {
   "cell_type": "code",
   "execution_count": 22,
   "id": "3af52b3f",
   "metadata": {
    "execution": {
     "iopub.execute_input": "2024-11-28T03:57:13.756402Z",
     "iopub.status.busy": "2024-11-28T03:57:13.756017Z",
     "iopub.status.idle": "2024-11-28T03:57:13.782273Z",
     "shell.execute_reply": "2024-11-28T03:57:13.781149Z"
    },
    "papermill": {
     "duration": 0.044729,
     "end_time": "2024-11-28T03:57:13.785509",
     "exception": false,
     "start_time": "2024-11-28T03:57:13.740780",
     "status": "completed"
    },
    "tags": []
   },
   "outputs": [],
   "source": [
    "#changing the cost to string\n",
    "data1['cost']=data1['cost'].astype(str)\n",
    "data1['cost']=data1['cost'].apply(lambda x: x.replace(',','.')) #using lambda function to replace ',' from cost\n",
    "data1['cost']=data1['cost'].astype(float) #changing the cost to float"
   ]
  },
  {
   "cell_type": "code",
   "execution_count": 23,
   "id": "b1e07776",
   "metadata": {
    "execution": {
     "iopub.execute_input": "2024-11-28T03:57:13.822374Z",
     "iopub.status.busy": "2024-11-28T03:57:13.821356Z",
     "iopub.status.idle": "2024-11-28T03:57:13.864869Z",
     "shell.execute_reply": "2024-11-28T03:57:13.863472Z"
    },
    "papermill": {
     "duration": 0.061239,
     "end_time": "2024-11-28T03:57:13.867318",
     "exception": false,
     "start_time": "2024-11-28T03:57:13.806079",
     "status": "completed"
    },
    "tags": []
   },
   "outputs": [
    {
     "name": "stdout",
     "output_type": "stream",
     "text": [
      "<class 'pandas.core.frame.DataFrame'>\n",
      "Index: 43499 entries, 0 to 51716\n",
      "Data columns (total 14 columns):\n",
      " #   Column        Non-Null Count  Dtype  \n",
      "---  ------        --------------  -----  \n",
      " 0   address       43499 non-null  object \n",
      " 1   name          43499 non-null  object \n",
      " 2   online_order  43499 non-null  object \n",
      " 3   book_table    43499 non-null  object \n",
      " 4   rate          43499 non-null  object \n",
      " 5   votes         43499 non-null  int64  \n",
      " 6   location      43499 non-null  object \n",
      " 7   rest_type     43499 non-null  object \n",
      " 8   cuisines      43499 non-null  object \n",
      " 9   cost          43499 non-null  float64\n",
      " 10  reviews_list  43499 non-null  object \n",
      " 11  menu_item     43499 non-null  object \n",
      " 12  type          43499 non-null  object \n",
      " 13  city          43499 non-null  object \n",
      "dtypes: float64(1), int64(1), object(12)\n",
      "memory usage: 5.0+ MB\n"
     ]
    }
   ],
   "source": [
    "data1.info()"
   ]
  },
  {
   "cell_type": "code",
   "execution_count": 24,
   "id": "97da7595",
   "metadata": {
    "execution": {
     "iopub.execute_input": "2024-11-28T03:57:13.898173Z",
     "iopub.status.busy": "2024-11-28T03:57:13.897088Z",
     "iopub.status.idle": "2024-11-28T03:57:13.905324Z",
     "shell.execute_reply": "2024-11-28T03:57:13.904244Z"
    },
    "papermill": {
     "duration": 0.026575,
     "end_time": "2024-11-28T03:57:13.908086",
     "exception": false,
     "start_time": "2024-11-28T03:57:13.881511",
     "status": "completed"
    },
    "tags": []
   },
   "outputs": [
    {
     "data": {
      "text/plain": [
       "<bound method Series.unique of 0         4.1/5\n",
       "1         4.1/5\n",
       "2         3.8/5\n",
       "3         3.7/5\n",
       "4         3.8/5\n",
       "          ...  \n",
       "51709    3.7 /5\n",
       "51711    2.5 /5\n",
       "51712    3.6 /5\n",
       "51715    4.3 /5\n",
       "51716    3.4 /5\n",
       "Name: rate, Length: 43499, dtype: object>"
      ]
     },
     "execution_count": 24,
     "metadata": {},
     "output_type": "execute_result"
    }
   ],
   "source": [
    "#reading rate of dataset\n",
    "data1['rate'].unique"
   ]
  },
  {
   "cell_type": "code",
   "execution_count": 25,
   "id": "3e56ea92",
   "metadata": {
    "execution": {
     "iopub.execute_input": "2024-11-28T03:57:13.947569Z",
     "iopub.status.busy": "2024-11-28T03:57:13.946274Z",
     "iopub.status.idle": "2024-11-28T03:57:14.015412Z",
     "shell.execute_reply": "2024-11-28T03:57:14.014216Z"
    },
    "papermill": {
     "duration": 0.087213,
     "end_time": "2024-11-28T03:57:14.017737",
     "exception": false,
     "start_time": "2024-11-28T03:57:13.930524",
     "status": "completed"
    },
    "tags": []
   },
   "outputs": [
    {
     "data": {
      "text/plain": [
       "0    4.1/5\n",
       "1    4.1/5\n",
       "2    3.8/5\n",
       "3    3.7/5\n",
       "4    3.8/5\n",
       "Name: rate, dtype: object"
      ]
     },
     "execution_count": 25,
     "metadata": {},
     "output_type": "execute_result"
    }
   ],
   "source": [
    "#removing '/5' from rates\n",
    "\n",
    "#remove unwanted values\n",
    "data1=data1.loc[data1.rate !='NEW']\n",
    "data1=data1.loc[data1.rate != '-'].reset_index(drop=True)\n",
    "\n",
    "#define a lambda function to remove '/5'\n",
    "remove_slash=lambda x: x.replace('/5','').strip() if type(x) ==np.str_ else x\n",
    "\n",
    "#apply the function and convert to float\n",
    "#data1['rate']= data1['rate'].apply(remove_slash).astype('float')\n",
    "\n",
    "#check the output\n",
    "data1['rate'].head()\n"
   ]
  },
  {
   "cell_type": "code",
   "execution_count": 26,
   "id": "6f3a83c1",
   "metadata": {
    "execution": {
     "iopub.execute_input": "2024-11-28T03:57:14.051003Z",
     "iopub.status.busy": "2024-11-28T03:57:14.050598Z",
     "iopub.status.idle": "2024-11-28T03:57:14.121873Z",
     "shell.execute_reply": "2024-11-28T03:57:14.120414Z"
    },
    "papermill": {
     "duration": 0.092163,
     "end_time": "2024-11-28T03:57:14.124446",
     "exception": false,
     "start_time": "2024-11-28T03:57:14.032283",
     "status": "completed"
    },
    "tags": []
   },
   "outputs": [
    {
     "data": {
      "text/plain": [
       "0    4.1\n",
       "1    4.1\n",
       "2    3.8\n",
       "3    3.7\n",
       "4    3.8\n",
       "Name: rate, dtype: float64"
      ]
     },
     "execution_count": 26,
     "metadata": {},
     "output_type": "execute_result"
    }
   ],
   "source": [
    "# Remove unwanted values(gpt code)\n",
    "data1 = data1.loc[data1.rate != 'NEW']\n",
    "data1 = data1.loc[data1.rate != '-'].reset_index(drop=True)\n",
    "\n",
    "# Define the function to remove '/5'\n",
    "remove_slash = lambda x: x.replace('/5', '').strip() if isinstance(x, str) else x\n",
    "\n",
    "# Apply the function and convert to float, handling non-numeric values\n",
    "data1['rate'] = data1['rate'].apply(remove_slash)\n",
    "data1['rate'] = pd.to_numeric(data1['rate'], errors='coerce')  # Convert to float, non-numeric values become NaN\n",
    "data1['rate'].head()"
   ]
  },
  {
   "cell_type": "code",
   "execution_count": 27,
   "id": "fa16c043",
   "metadata": {
    "execution": {
     "iopub.execute_input": "2024-11-28T03:57:14.156134Z",
     "iopub.status.busy": "2024-11-28T03:57:14.155746Z",
     "iopub.status.idle": "2024-11-28T03:57:14.200980Z",
     "shell.execute_reply": "2024-11-28T03:57:14.199881Z"
    },
    "papermill": {
     "duration": 0.064177,
     "end_time": "2024-11-28T03:57:14.203405",
     "exception": false,
     "start_time": "2024-11-28T03:57:14.139228",
     "status": "completed"
    },
    "tags": []
   },
   "outputs": [
    {
     "data": {
      "text/plain": [
       "array([800.  , 300.  , 600.  , 700.  , 550.  , 500.  , 450.  , 650.  ,\n",
       "       400.  , 900.  , 200.  , 750.  , 150.  , 850.  , 100.  ,   1.2 ,\n",
       "       350.  , 250.  , 950.  ,   1.  ,   1.5 ,   1.3 , 199.  ,   1.1 ,\n",
       "         1.6 , 230.  , 130.  ,   1.7 ,   1.35,   2.2 ,   1.4 ,   2.  ,\n",
       "         1.8 ,   1.9 , 180.  , 330.  ,   2.5 ,   2.1 ,   3.  ,   2.8 ,\n",
       "         3.4 ,  50.  ,  40.  ,   1.25,   3.5 ,   4.  ,   2.4 ,   2.6 ,\n",
       "         1.45,  70.  ,   3.2 , 240.  ,   6.  ,   1.05,   2.3 ,   4.1 ,\n",
       "       120.  ,   5.  ,   3.7 ,   1.65,   2.7 ,   4.5 ,  80.  ])"
      ]
     },
     "execution_count": 27,
     "metadata": {},
     "output_type": "execute_result"
    }
   ],
   "source": [
    "#change yes no to true false\n",
    "data1.name=data1.name.apply(lambda x:x.title())\n",
    "data1.online_order.replace(('Yes','No'),('True','False'),inplace=True)\n",
    "data1.book_table.replace(('Yes','No'),('True','False'),inplace=True)\n",
    "\n",
    "data1.cost.unique()"
   ]
  },
  {
   "cell_type": "code",
   "execution_count": 28,
   "id": "53fec712",
   "metadata": {
    "execution": {
     "iopub.execute_input": "2024-11-28T03:57:14.235751Z",
     "iopub.status.busy": "2024-11-28T03:57:14.234518Z",
     "iopub.status.idle": "2024-11-28T03:57:14.252310Z",
     "shell.execute_reply": "2024-11-28T03:57:14.251192Z"
    },
    "papermill": {
     "duration": 0.03577,
     "end_time": "2024-11-28T03:57:14.254371",
     "exception": false,
     "start_time": "2024-11-28T03:57:14.218601",
     "status": "completed"
    },
    "tags": []
   },
   "outputs": [
    {
     "data": {
      "text/html": [
       "<div>\n",
       "<style scoped>\n",
       "    .dataframe tbody tr th:only-of-type {\n",
       "        vertical-align: middle;\n",
       "    }\n",
       "\n",
       "    .dataframe tbody tr th {\n",
       "        vertical-align: top;\n",
       "    }\n",
       "\n",
       "    .dataframe thead th {\n",
       "        text-align: right;\n",
       "    }\n",
       "</style>\n",
       "<table border=\"1\" class=\"dataframe\">\n",
       "  <thead>\n",
       "    <tr style=\"text-align: right;\">\n",
       "      <th></th>\n",
       "      <th>address</th>\n",
       "      <th>name</th>\n",
       "      <th>online_order</th>\n",
       "      <th>book_table</th>\n",
       "      <th>rate</th>\n",
       "      <th>votes</th>\n",
       "      <th>location</th>\n",
       "      <th>rest_type</th>\n",
       "      <th>cuisines</th>\n",
       "      <th>cost</th>\n",
       "      <th>reviews_list</th>\n",
       "      <th>menu_item</th>\n",
       "      <th>type</th>\n",
       "      <th>city</th>\n",
       "    </tr>\n",
       "  </thead>\n",
       "  <tbody>\n",
       "    <tr>\n",
       "      <th>0</th>\n",
       "      <td>942, 21st Main Road, 2nd Stage, Banashankari, ...</td>\n",
       "      <td>Jalsa</td>\n",
       "      <td>True</td>\n",
       "      <td>True</td>\n",
       "      <td>4.1</td>\n",
       "      <td>775</td>\n",
       "      <td>Banashankari</td>\n",
       "      <td>Casual Dining</td>\n",
       "      <td>North Indian, Mughlai, Chinese</td>\n",
       "      <td>800.0</td>\n",
       "      <td>[('Rated 4.0', 'RATED\\n  A beautiful place to ...</td>\n",
       "      <td>[]</td>\n",
       "      <td>Buffet</td>\n",
       "      <td>Banashankari</td>\n",
       "    </tr>\n",
       "    <tr>\n",
       "      <th>1</th>\n",
       "      <td>2nd Floor, 80 Feet Road, Near Big Bazaar, 6th ...</td>\n",
       "      <td>Spice Elephant</td>\n",
       "      <td>True</td>\n",
       "      <td>False</td>\n",
       "      <td>4.1</td>\n",
       "      <td>787</td>\n",
       "      <td>Banashankari</td>\n",
       "      <td>Casual Dining</td>\n",
       "      <td>Chinese, North Indian, Thai</td>\n",
       "      <td>800.0</td>\n",
       "      <td>[('Rated 4.0', 'RATED\\n  Had been here for din...</td>\n",
       "      <td>[]</td>\n",
       "      <td>Buffet</td>\n",
       "      <td>Banashankari</td>\n",
       "    </tr>\n",
       "    <tr>\n",
       "      <th>2</th>\n",
       "      <td>1112, Next to KIMS Medical College, 17th Cross...</td>\n",
       "      <td>San Churro Cafe</td>\n",
       "      <td>True</td>\n",
       "      <td>False</td>\n",
       "      <td>3.8</td>\n",
       "      <td>918</td>\n",
       "      <td>Banashankari</td>\n",
       "      <td>Cafe, Casual Dining</td>\n",
       "      <td>Cafe, Mexican, Italian</td>\n",
       "      <td>800.0</td>\n",
       "      <td>[('Rated 3.0', \"RATED\\n  Ambience is not that ...</td>\n",
       "      <td>[]</td>\n",
       "      <td>Buffet</td>\n",
       "      <td>Banashankari</td>\n",
       "    </tr>\n",
       "    <tr>\n",
       "      <th>3</th>\n",
       "      <td>1st Floor, Annakuteera, 3rd Stage, Banashankar...</td>\n",
       "      <td>Addhuri Udupi Bhojana</td>\n",
       "      <td>False</td>\n",
       "      <td>False</td>\n",
       "      <td>3.7</td>\n",
       "      <td>88</td>\n",
       "      <td>Banashankari</td>\n",
       "      <td>Quick Bites</td>\n",
       "      <td>South Indian, North Indian</td>\n",
       "      <td>300.0</td>\n",
       "      <td>[('Rated 4.0', \"RATED\\n  Great food and proper...</td>\n",
       "      <td>[]</td>\n",
       "      <td>Buffet</td>\n",
       "      <td>Banashankari</td>\n",
       "    </tr>\n",
       "    <tr>\n",
       "      <th>4</th>\n",
       "      <td>10, 3rd Floor, Lakshmi Associates, Gandhi Baza...</td>\n",
       "      <td>Grand Village</td>\n",
       "      <td>False</td>\n",
       "      <td>False</td>\n",
       "      <td>3.8</td>\n",
       "      <td>166</td>\n",
       "      <td>Basavanagudi</td>\n",
       "      <td>Casual Dining</td>\n",
       "      <td>North Indian, Rajasthani</td>\n",
       "      <td>600.0</td>\n",
       "      <td>[('Rated 4.0', 'RATED\\n  Very good restaurant ...</td>\n",
       "      <td>[]</td>\n",
       "      <td>Buffet</td>\n",
       "      <td>Banashankari</td>\n",
       "    </tr>\n",
       "  </tbody>\n",
       "</table>\n",
       "</div>"
      ],
      "text/plain": [
       "                                             address                   name  \\\n",
       "0  942, 21st Main Road, 2nd Stage, Banashankari, ...                  Jalsa   \n",
       "1  2nd Floor, 80 Feet Road, Near Big Bazaar, 6th ...         Spice Elephant   \n",
       "2  1112, Next to KIMS Medical College, 17th Cross...        San Churro Cafe   \n",
       "3  1st Floor, Annakuteera, 3rd Stage, Banashankar...  Addhuri Udupi Bhojana   \n",
       "4  10, 3rd Floor, Lakshmi Associates, Gandhi Baza...          Grand Village   \n",
       "\n",
       "  online_order book_table  rate  votes      location            rest_type  \\\n",
       "0         True       True   4.1    775  Banashankari        Casual Dining   \n",
       "1         True      False   4.1    787  Banashankari        Casual Dining   \n",
       "2         True      False   3.8    918  Banashankari  Cafe, Casual Dining   \n",
       "3        False      False   3.7     88  Banashankari          Quick Bites   \n",
       "4        False      False   3.8    166  Basavanagudi        Casual Dining   \n",
       "\n",
       "                         cuisines   cost  \\\n",
       "0  North Indian, Mughlai, Chinese  800.0   \n",
       "1     Chinese, North Indian, Thai  800.0   \n",
       "2          Cafe, Mexican, Italian  800.0   \n",
       "3      South Indian, North Indian  300.0   \n",
       "4        North Indian, Rajasthani  600.0   \n",
       "\n",
       "                                        reviews_list menu_item    type  \\\n",
       "0  [('Rated 4.0', 'RATED\\n  A beautiful place to ...        []  Buffet   \n",
       "1  [('Rated 4.0', 'RATED\\n  Had been here for din...        []  Buffet   \n",
       "2  [('Rated 3.0', \"RATED\\n  Ambience is not that ...        []  Buffet   \n",
       "3  [('Rated 4.0', \"RATED\\n  Great food and proper...        []  Buffet   \n",
       "4  [('Rated 4.0', 'RATED\\n  Very good restaurant ...        []  Buffet   \n",
       "\n",
       "           city  \n",
       "0  Banashankari  \n",
       "1  Banashankari  \n",
       "2  Banashankari  \n",
       "3  Banashankari  \n",
       "4  Banashankari  "
      ]
     },
     "execution_count": 28,
     "metadata": {},
     "output_type": "execute_result"
    }
   ],
   "source": [
    "data1.head()"
   ]
  },
  {
   "cell_type": "code",
   "execution_count": 29,
   "id": "fe2dc972",
   "metadata": {
    "execution": {
     "iopub.execute_input": "2024-11-28T03:57:14.286233Z",
     "iopub.status.busy": "2024-11-28T03:57:14.285851Z",
     "iopub.status.idle": "2024-11-28T03:57:14.295258Z",
     "shell.execute_reply": "2024-11-28T03:57:14.293823Z"
    },
    "papermill": {
     "duration": 0.028141,
     "end_time": "2024-11-28T03:57:14.297567",
     "exception": false,
     "start_time": "2024-11-28T03:57:14.269426",
     "status": "completed"
    },
    "tags": []
   },
   "outputs": [
    {
     "data": {
      "text/plain": [
       "array(['Banashankari', 'Bannerghatta Road', 'Basavanagudi', 'Bellandur',\n",
       "       'Brigade Road', 'Brookefield', 'BTM', 'Church Street',\n",
       "       'Electronic City', 'Frazer Town', 'HSR', 'Indiranagar',\n",
       "       'Jayanagar', 'JP Nagar', 'Kalyan Nagar', 'Kammanahalli',\n",
       "       'Koramangala 4th Block', 'Koramangala 5th Block',\n",
       "       'Koramangala 6th Block', 'Koramangala 7th Block', 'Lavelle Road',\n",
       "       'Malleshwaram', 'Marathahalli', 'MG Road', 'New BEL Road',\n",
       "       'Old Airport Road', 'Rajajinagar', 'Residency Road',\n",
       "       'Sarjapur Road', 'Whitefield'], dtype=object)"
      ]
     },
     "execution_count": 29,
     "metadata": {},
     "output_type": "execute_result"
    }
   ],
   "source": [
    "data1['city'].unique()"
   ]
  },
  {
   "cell_type": "code",
   "execution_count": 30,
   "id": "6710ce37",
   "metadata": {
    "execution": {
     "iopub.execute_input": "2024-11-28T03:57:14.329292Z",
     "iopub.status.busy": "2024-11-28T03:57:14.328927Z",
     "iopub.status.idle": "2024-11-28T03:57:14.347232Z",
     "shell.execute_reply": "2024-11-28T03:57:14.346028Z"
    },
    "papermill": {
     "duration": 0.037258,
     "end_time": "2024-11-28T03:57:14.349967",
     "exception": false,
     "start_time": "2024-11-28T03:57:14.312709",
     "status": "completed"
    },
    "tags": []
   },
   "outputs": [
    {
     "data": {
      "text/html": [
       "<div>\n",
       "<style scoped>\n",
       "    .dataframe tbody tr th:only-of-type {\n",
       "        vertical-align: middle;\n",
       "    }\n",
       "\n",
       "    .dataframe tbody tr th {\n",
       "        vertical-align: top;\n",
       "    }\n",
       "\n",
       "    .dataframe thead th {\n",
       "        text-align: right;\n",
       "    }\n",
       "</style>\n",
       "<table border=\"1\" class=\"dataframe\">\n",
       "  <thead>\n",
       "    <tr style=\"text-align: right;\">\n",
       "      <th></th>\n",
       "      <th>address</th>\n",
       "      <th>name</th>\n",
       "      <th>online_order</th>\n",
       "      <th>book_table</th>\n",
       "      <th>rate</th>\n",
       "      <th>votes</th>\n",
       "      <th>location</th>\n",
       "      <th>rest_type</th>\n",
       "      <th>cuisines</th>\n",
       "      <th>cost</th>\n",
       "      <th>reviews_list</th>\n",
       "      <th>menu_item</th>\n",
       "      <th>type</th>\n",
       "      <th>city</th>\n",
       "    </tr>\n",
       "  </thead>\n",
       "  <tbody>\n",
       "    <tr>\n",
       "      <th>0</th>\n",
       "      <td>942, 21st Main Road, 2nd Stage, Banashankari, ...</td>\n",
       "      <td>Jalsa</td>\n",
       "      <td>True</td>\n",
       "      <td>True</td>\n",
       "      <td>4.1</td>\n",
       "      <td>775</td>\n",
       "      <td>Banashankari</td>\n",
       "      <td>Casual Dining</td>\n",
       "      <td>North Indian, Mughlai, Chinese</td>\n",
       "      <td>800.0</td>\n",
       "      <td>[('Rated 4.0', 'RATED\\n  A beautiful place to ...</td>\n",
       "      <td>[]</td>\n",
       "      <td>Buffet</td>\n",
       "      <td>Banashankari</td>\n",
       "    </tr>\n",
       "    <tr>\n",
       "      <th>1</th>\n",
       "      <td>2nd Floor, 80 Feet Road, Near Big Bazaar, 6th ...</td>\n",
       "      <td>Spice Elephant</td>\n",
       "      <td>True</td>\n",
       "      <td>False</td>\n",
       "      <td>4.1</td>\n",
       "      <td>787</td>\n",
       "      <td>Banashankari</td>\n",
       "      <td>Casual Dining</td>\n",
       "      <td>Chinese, North Indian, Thai</td>\n",
       "      <td>800.0</td>\n",
       "      <td>[('Rated 4.0', 'RATED\\n  Had been here for din...</td>\n",
       "      <td>[]</td>\n",
       "      <td>Buffet</td>\n",
       "      <td>Banashankari</td>\n",
       "    </tr>\n",
       "    <tr>\n",
       "      <th>2</th>\n",
       "      <td>1112, Next to KIMS Medical College, 17th Cross...</td>\n",
       "      <td>San Churro Cafe</td>\n",
       "      <td>True</td>\n",
       "      <td>False</td>\n",
       "      <td>3.8</td>\n",
       "      <td>918</td>\n",
       "      <td>Banashankari</td>\n",
       "      <td>Cafe, Casual Dining</td>\n",
       "      <td>Cafe, Mexican, Italian</td>\n",
       "      <td>800.0</td>\n",
       "      <td>[('Rated 3.0', \"RATED\\n  Ambience is not that ...</td>\n",
       "      <td>[]</td>\n",
       "      <td>Buffet</td>\n",
       "      <td>Banashankari</td>\n",
       "    </tr>\n",
       "    <tr>\n",
       "      <th>3</th>\n",
       "      <td>1st Floor, Annakuteera, 3rd Stage, Banashankar...</td>\n",
       "      <td>Addhuri Udupi Bhojana</td>\n",
       "      <td>False</td>\n",
       "      <td>False</td>\n",
       "      <td>3.7</td>\n",
       "      <td>88</td>\n",
       "      <td>Banashankari</td>\n",
       "      <td>Quick Bites</td>\n",
       "      <td>South Indian, North Indian</td>\n",
       "      <td>300.0</td>\n",
       "      <td>[('Rated 4.0', \"RATED\\n  Great food and proper...</td>\n",
       "      <td>[]</td>\n",
       "      <td>Buffet</td>\n",
       "      <td>Banashankari</td>\n",
       "    </tr>\n",
       "    <tr>\n",
       "      <th>4</th>\n",
       "      <td>10, 3rd Floor, Lakshmi Associates, Gandhi Baza...</td>\n",
       "      <td>Grand Village</td>\n",
       "      <td>False</td>\n",
       "      <td>False</td>\n",
       "      <td>3.8</td>\n",
       "      <td>166</td>\n",
       "      <td>Basavanagudi</td>\n",
       "      <td>Casual Dining</td>\n",
       "      <td>North Indian, Rajasthani</td>\n",
       "      <td>600.0</td>\n",
       "      <td>[('Rated 4.0', 'RATED\\n  Very good restaurant ...</td>\n",
       "      <td>[]</td>\n",
       "      <td>Buffet</td>\n",
       "      <td>Banashankari</td>\n",
       "    </tr>\n",
       "  </tbody>\n",
       "</table>\n",
       "</div>"
      ],
      "text/plain": [
       "                                             address                   name  \\\n",
       "0  942, 21st Main Road, 2nd Stage, Banashankari, ...                  Jalsa   \n",
       "1  2nd Floor, 80 Feet Road, Near Big Bazaar, 6th ...         Spice Elephant   \n",
       "2  1112, Next to KIMS Medical College, 17th Cross...        San Churro Cafe   \n",
       "3  1st Floor, Annakuteera, 3rd Stage, Banashankar...  Addhuri Udupi Bhojana   \n",
       "4  10, 3rd Floor, Lakshmi Associates, Gandhi Baza...          Grand Village   \n",
       "\n",
       "  online_order book_table  rate  votes      location            rest_type  \\\n",
       "0         True       True   4.1    775  Banashankari        Casual Dining   \n",
       "1         True      False   4.1    787  Banashankari        Casual Dining   \n",
       "2         True      False   3.8    918  Banashankari  Cafe, Casual Dining   \n",
       "3        False      False   3.7     88  Banashankari          Quick Bites   \n",
       "4        False      False   3.8    166  Basavanagudi        Casual Dining   \n",
       "\n",
       "                         cuisines   cost  \\\n",
       "0  North Indian, Mughlai, Chinese  800.0   \n",
       "1     Chinese, North Indian, Thai  800.0   \n",
       "2          Cafe, Mexican, Italian  800.0   \n",
       "3      South Indian, North Indian  300.0   \n",
       "4        North Indian, Rajasthani  600.0   \n",
       "\n",
       "                                        reviews_list menu_item    type  \\\n",
       "0  [('Rated 4.0', 'RATED\\n  A beautiful place to ...        []  Buffet   \n",
       "1  [('Rated 4.0', 'RATED\\n  Had been here for din...        []  Buffet   \n",
       "2  [('Rated 3.0', \"RATED\\n  Ambience is not that ...        []  Buffet   \n",
       "3  [('Rated 4.0', \"RATED\\n  Great food and proper...        []  Buffet   \n",
       "4  [('Rated 4.0', 'RATED\\n  Very good restaurant ...        []  Buffet   \n",
       "\n",
       "           city  \n",
       "0  Banashankari  \n",
       "1  Banashankari  \n",
       "2  Banashankari  \n",
       "3  Banashankari  \n",
       "4  Banashankari  "
      ]
     },
     "execution_count": 30,
     "metadata": {},
     "output_type": "execute_result"
    }
   ],
   "source": [
    "data1.head()"
   ]
  },
  {
   "cell_type": "code",
   "execution_count": 31,
   "id": "75b36a53",
   "metadata": {
    "execution": {
     "iopub.execute_input": "2024-11-28T03:57:14.382454Z",
     "iopub.status.busy": "2024-11-28T03:57:14.382103Z",
     "iopub.status.idle": "2024-11-28T03:57:14.418798Z",
     "shell.execute_reply": "2024-11-28T03:57:14.417681Z"
    },
    "papermill": {
     "duration": 0.055756,
     "end_time": "2024-11-28T03:57:14.421112",
     "exception": false,
     "start_time": "2024-11-28T03:57:14.365356",
     "status": "completed"
    },
    "tags": []
   },
   "outputs": [
    {
     "data": {
      "text/plain": [
       "address         0\n",
       "name            0\n",
       "online_order    0\n",
       "book_table      0\n",
       "rate            0\n",
       "votes           0\n",
       "location        0\n",
       "rest_type       0\n",
       "cuisines        0\n",
       "cost            0\n",
       "reviews_list    0\n",
       "menu_item       0\n",
       "type            0\n",
       "city            0\n",
       "dtype: int64"
      ]
     },
     "execution_count": 31,
     "metadata": {},
     "output_type": "execute_result"
    }
   ],
   "source": [
    "#checking Null Values\n",
    "data1.isnull().sum()"
   ]
  },
  {
   "cell_type": "code",
   "execution_count": 32,
   "id": "e710f992",
   "metadata": {
    "execution": {
     "iopub.execute_input": "2024-11-28T03:57:14.453607Z",
     "iopub.status.busy": "2024-11-28T03:57:14.453194Z",
     "iopub.status.idle": "2024-11-28T03:58:06.405878Z",
     "shell.execute_reply": "2024-11-28T03:58:06.404801Z"
    },
    "papermill": {
     "duration": 51.972168,
     "end_time": "2024-11-28T03:58:06.408628",
     "exception": false,
     "start_time": "2024-11-28T03:57:14.436460",
     "status": "completed"
    },
    "tags": []
   },
   "outputs": [],
   "source": [
    "##computing mean rating\n",
    "restaurants=list(data1['name'].unique())\n",
    "data1['Mean Rating']=0\n",
    "\n",
    "for i in range(len(restaurants)):\n",
    "    data1['Mean Rating'][data1['name']==restaurants[i]]=data1['rate'][data1['name']==restaurants[i]].mean()\n",
    "    #data1['Mean Rating'] = data1.groupby('name')['rate'].transform('mean')\n",
    "     # Calculate mean rating for the current restaurant\n",
    "    #mean_rating = data1[data1['name'] == restaurants]['rate'].mean()\n",
    "    \n",
    "    # Assign this mean rating to the 'Mean Rating' column for all rows of this restaurant\n",
    "    #data1.loc[data1['name'] == restaurants, 'Mean Rating'] = mean_rating\n"
   ]
  },
  {
   "cell_type": "code",
   "execution_count": 33,
   "id": "5ec2d39c",
   "metadata": {
    "execution": {
     "iopub.execute_input": "2024-11-28T03:58:06.443222Z",
     "iopub.status.busy": "2024-11-28T03:58:06.442365Z",
     "iopub.status.idle": "2024-11-28T03:58:06.451655Z",
     "shell.execute_reply": "2024-11-28T03:58:06.450572Z"
    },
    "papermill": {
     "duration": 0.029129,
     "end_time": "2024-11-28T03:58:06.454018",
     "exception": false,
     "start_time": "2024-11-28T03:58:06.424889",
     "status": "completed"
    },
    "tags": []
   },
   "outputs": [
    {
     "data": {
      "text/plain": [
       "array([4.11818182, 4.1       , 3.8       , ..., 2.65      , 3.38      ,\n",
       "       4.9       ])"
      ]
     },
     "execution_count": 33,
     "metadata": {},
     "output_type": "execute_result"
    }
   ],
   "source": [
    "data1['Mean Rating'].unique()"
   ]
  },
  {
   "cell_type": "code",
   "execution_count": 34,
   "id": "a443c5c8",
   "metadata": {
    "execution": {
     "iopub.execute_input": "2024-11-28T03:58:06.487133Z",
     "iopub.status.busy": "2024-11-28T03:58:06.486732Z",
     "iopub.status.idle": "2024-11-28T03:58:06.504938Z",
     "shell.execute_reply": "2024-11-28T03:58:06.503907Z"
    },
    "papermill": {
     "duration": 0.037502,
     "end_time": "2024-11-28T03:58:06.507130",
     "exception": false,
     "start_time": "2024-11-28T03:58:06.469628",
     "status": "completed"
    },
    "tags": []
   },
   "outputs": [
    {
     "data": {
      "text/html": [
       "<div>\n",
       "<style scoped>\n",
       "    .dataframe tbody tr th:only-of-type {\n",
       "        vertical-align: middle;\n",
       "    }\n",
       "\n",
       "    .dataframe tbody tr th {\n",
       "        vertical-align: top;\n",
       "    }\n",
       "\n",
       "    .dataframe thead th {\n",
       "        text-align: right;\n",
       "    }\n",
       "</style>\n",
       "<table border=\"1\" class=\"dataframe\">\n",
       "  <thead>\n",
       "    <tr style=\"text-align: right;\">\n",
       "      <th></th>\n",
       "      <th>address</th>\n",
       "      <th>name</th>\n",
       "      <th>online_order</th>\n",
       "      <th>book_table</th>\n",
       "      <th>rate</th>\n",
       "      <th>votes</th>\n",
       "      <th>location</th>\n",
       "      <th>rest_type</th>\n",
       "      <th>cuisines</th>\n",
       "      <th>cost</th>\n",
       "      <th>reviews_list</th>\n",
       "      <th>menu_item</th>\n",
       "      <th>type</th>\n",
       "      <th>city</th>\n",
       "      <th>Mean Rating</th>\n",
       "    </tr>\n",
       "  </thead>\n",
       "  <tbody>\n",
       "    <tr>\n",
       "      <th>0</th>\n",
       "      <td>942, 21st Main Road, 2nd Stage, Banashankari, ...</td>\n",
       "      <td>Jalsa</td>\n",
       "      <td>True</td>\n",
       "      <td>True</td>\n",
       "      <td>4.1</td>\n",
       "      <td>775</td>\n",
       "      <td>Banashankari</td>\n",
       "      <td>Casual Dining</td>\n",
       "      <td>North Indian, Mughlai, Chinese</td>\n",
       "      <td>800.0</td>\n",
       "      <td>[('Rated 4.0', 'RATED\\n  A beautiful place to ...</td>\n",
       "      <td>[]</td>\n",
       "      <td>Buffet</td>\n",
       "      <td>Banashankari</td>\n",
       "      <td>4.118182</td>\n",
       "    </tr>\n",
       "    <tr>\n",
       "      <th>1</th>\n",
       "      <td>2nd Floor, 80 Feet Road, Near Big Bazaar, 6th ...</td>\n",
       "      <td>Spice Elephant</td>\n",
       "      <td>True</td>\n",
       "      <td>False</td>\n",
       "      <td>4.1</td>\n",
       "      <td>787</td>\n",
       "      <td>Banashankari</td>\n",
       "      <td>Casual Dining</td>\n",
       "      <td>Chinese, North Indian, Thai</td>\n",
       "      <td>800.0</td>\n",
       "      <td>[('Rated 4.0', 'RATED\\n  Had been here for din...</td>\n",
       "      <td>[]</td>\n",
       "      <td>Buffet</td>\n",
       "      <td>Banashankari</td>\n",
       "      <td>4.100000</td>\n",
       "    </tr>\n",
       "    <tr>\n",
       "      <th>2</th>\n",
       "      <td>1112, Next to KIMS Medical College, 17th Cross...</td>\n",
       "      <td>San Churro Cafe</td>\n",
       "      <td>True</td>\n",
       "      <td>False</td>\n",
       "      <td>3.8</td>\n",
       "      <td>918</td>\n",
       "      <td>Banashankari</td>\n",
       "      <td>Cafe, Casual Dining</td>\n",
       "      <td>Cafe, Mexican, Italian</td>\n",
       "      <td>800.0</td>\n",
       "      <td>[('Rated 3.0', \"RATED\\n  Ambience is not that ...</td>\n",
       "      <td>[]</td>\n",
       "      <td>Buffet</td>\n",
       "      <td>Banashankari</td>\n",
       "      <td>3.800000</td>\n",
       "    </tr>\n",
       "    <tr>\n",
       "      <th>3</th>\n",
       "      <td>1st Floor, Annakuteera, 3rd Stage, Banashankar...</td>\n",
       "      <td>Addhuri Udupi Bhojana</td>\n",
       "      <td>False</td>\n",
       "      <td>False</td>\n",
       "      <td>3.7</td>\n",
       "      <td>88</td>\n",
       "      <td>Banashankari</td>\n",
       "      <td>Quick Bites</td>\n",
       "      <td>South Indian, North Indian</td>\n",
       "      <td>300.0</td>\n",
       "      <td>[('Rated 4.0', \"RATED\\n  Great food and proper...</td>\n",
       "      <td>[]</td>\n",
       "      <td>Buffet</td>\n",
       "      <td>Banashankari</td>\n",
       "      <td>3.700000</td>\n",
       "    </tr>\n",
       "    <tr>\n",
       "      <th>4</th>\n",
       "      <td>10, 3rd Floor, Lakshmi Associates, Gandhi Baza...</td>\n",
       "      <td>Grand Village</td>\n",
       "      <td>False</td>\n",
       "      <td>False</td>\n",
       "      <td>3.8</td>\n",
       "      <td>166</td>\n",
       "      <td>Basavanagudi</td>\n",
       "      <td>Casual Dining</td>\n",
       "      <td>North Indian, Rajasthani</td>\n",
       "      <td>600.0</td>\n",
       "      <td>[('Rated 4.0', 'RATED\\n  Very good restaurant ...</td>\n",
       "      <td>[]</td>\n",
       "      <td>Buffet</td>\n",
       "      <td>Banashankari</td>\n",
       "      <td>3.800000</td>\n",
       "    </tr>\n",
       "  </tbody>\n",
       "</table>\n",
       "</div>"
      ],
      "text/plain": [
       "                                             address                   name  \\\n",
       "0  942, 21st Main Road, 2nd Stage, Banashankari, ...                  Jalsa   \n",
       "1  2nd Floor, 80 Feet Road, Near Big Bazaar, 6th ...         Spice Elephant   \n",
       "2  1112, Next to KIMS Medical College, 17th Cross...        San Churro Cafe   \n",
       "3  1st Floor, Annakuteera, 3rd Stage, Banashankar...  Addhuri Udupi Bhojana   \n",
       "4  10, 3rd Floor, Lakshmi Associates, Gandhi Baza...          Grand Village   \n",
       "\n",
       "  online_order book_table  rate  votes      location            rest_type  \\\n",
       "0         True       True   4.1    775  Banashankari        Casual Dining   \n",
       "1         True      False   4.1    787  Banashankari        Casual Dining   \n",
       "2         True      False   3.8    918  Banashankari  Cafe, Casual Dining   \n",
       "3        False      False   3.7     88  Banashankari          Quick Bites   \n",
       "4        False      False   3.8    166  Basavanagudi        Casual Dining   \n",
       "\n",
       "                         cuisines   cost  \\\n",
       "0  North Indian, Mughlai, Chinese  800.0   \n",
       "1     Chinese, North Indian, Thai  800.0   \n",
       "2          Cafe, Mexican, Italian  800.0   \n",
       "3      South Indian, North Indian  300.0   \n",
       "4        North Indian, Rajasthani  600.0   \n",
       "\n",
       "                                        reviews_list menu_item    type  \\\n",
       "0  [('Rated 4.0', 'RATED\\n  A beautiful place to ...        []  Buffet   \n",
       "1  [('Rated 4.0', 'RATED\\n  Had been here for din...        []  Buffet   \n",
       "2  [('Rated 3.0', \"RATED\\n  Ambience is not that ...        []  Buffet   \n",
       "3  [('Rated 4.0', \"RATED\\n  Great food and proper...        []  Buffet   \n",
       "4  [('Rated 4.0', 'RATED\\n  Very good restaurant ...        []  Buffet   \n",
       "\n",
       "           city  Mean Rating  \n",
       "0  Banashankari     4.118182  \n",
       "1  Banashankari     4.100000  \n",
       "2  Banashankari     3.800000  \n",
       "3  Banashankari     3.700000  \n",
       "4  Banashankari     3.800000  "
      ]
     },
     "execution_count": 34,
     "metadata": {},
     "output_type": "execute_result"
    }
   ],
   "source": [
    "data1.head()"
   ]
  },
  {
   "cell_type": "code",
   "execution_count": 35,
   "id": "d4f4fda8",
   "metadata": {
    "execution": {
     "iopub.execute_input": "2024-11-28T03:58:06.541196Z",
     "iopub.status.busy": "2024-11-28T03:58:06.540377Z",
     "iopub.status.idle": "2024-11-28T03:58:06.545208Z",
     "shell.execute_reply": "2024-11-28T03:58:06.544149Z"
    },
    "papermill": {
     "duration": 0.024047,
     "end_time": "2024-11-28T03:58:06.547265",
     "exception": false,
     "start_time": "2024-11-28T03:58:06.523218",
     "status": "completed"
    },
    "tags": []
   },
   "outputs": [],
   "source": [
    "from sklearn.preprocessing import MinMaxScaler"
   ]
  },
  {
   "cell_type": "code",
   "execution_count": 36,
   "id": "5cf917c3",
   "metadata": {
    "execution": {
     "iopub.execute_input": "2024-11-28T03:58:06.580533Z",
     "iopub.status.busy": "2024-11-28T03:58:06.580088Z",
     "iopub.status.idle": "2024-11-28T03:58:06.597035Z",
     "shell.execute_reply": "2024-11-28T03:58:06.595784Z"
    },
    "papermill": {
     "duration": 0.036554,
     "end_time": "2024-11-28T03:58:06.599636",
     "exception": false,
     "start_time": "2024-11-28T03:58:06.563082",
     "status": "completed"
    },
    "tags": []
   },
   "outputs": [
    {
     "data": {
      "text/plain": [
       "25755    3.95\n",
       "35043    3.71\n",
       "20474    3.84\n",
       "Name: Mean Rating, dtype: float64"
      ]
     },
     "execution_count": 36,
     "metadata": {},
     "output_type": "execute_result"
    }
   ],
   "source": [
    "var = MinMaxScaler(feature_range = (1,5))\n",
    "data1[['Mean Rating']] = var.fit_transform(data1[['Mean Rating']]).round(2)\n",
    "\n",
    "data1['Mean Rating'].sample(3)"
   ]
  },
  {
   "cell_type": "markdown",
   "id": "419aca6f",
   "metadata": {
    "papermill": {
     "duration": 0.016687,
     "end_time": "2024-11-28T03:58:06.632338",
     "exception": false,
     "start_time": "2024-11-28T03:58:06.615651",
     "status": "completed"
    },
    "tags": []
   },
   "source": [
    "# Text Preprocessing"
   ]
  },
  {
   "cell_type": "code",
   "execution_count": 37,
   "id": "054cf1c6",
   "metadata": {
    "execution": {
     "iopub.execute_input": "2024-11-28T03:58:06.667117Z",
     "iopub.status.busy": "2024-11-28T03:58:06.666690Z",
     "iopub.status.idle": "2024-11-28T03:58:06.685945Z",
     "shell.execute_reply": "2024-11-28T03:58:06.684807Z"
    },
    "papermill": {
     "duration": 0.039373,
     "end_time": "2024-11-28T03:58:06.688391",
     "exception": false,
     "start_time": "2024-11-28T03:58:06.649018",
     "status": "completed"
    },
    "tags": []
   },
   "outputs": [
    {
     "data": {
      "text/html": [
       "<div>\n",
       "<style scoped>\n",
       "    .dataframe tbody tr th:only-of-type {\n",
       "        vertical-align: middle;\n",
       "    }\n",
       "\n",
       "    .dataframe tbody tr th {\n",
       "        vertical-align: top;\n",
       "    }\n",
       "\n",
       "    .dataframe thead th {\n",
       "        text-align: right;\n",
       "    }\n",
       "</style>\n",
       "<table border=\"1\" class=\"dataframe\">\n",
       "  <thead>\n",
       "    <tr style=\"text-align: right;\">\n",
       "      <th></th>\n",
       "      <th>address</th>\n",
       "      <th>name</th>\n",
       "      <th>online_order</th>\n",
       "      <th>book_table</th>\n",
       "      <th>rate</th>\n",
       "      <th>votes</th>\n",
       "      <th>location</th>\n",
       "      <th>rest_type</th>\n",
       "      <th>cuisines</th>\n",
       "      <th>cost</th>\n",
       "      <th>reviews_list</th>\n",
       "      <th>menu_item</th>\n",
       "      <th>type</th>\n",
       "      <th>city</th>\n",
       "      <th>Mean Rating</th>\n",
       "    </tr>\n",
       "  </thead>\n",
       "  <tbody>\n",
       "    <tr>\n",
       "      <th>0</th>\n",
       "      <td>942, 21st Main Road, 2nd Stage, Banashankari, ...</td>\n",
       "      <td>Jalsa</td>\n",
       "      <td>True</td>\n",
       "      <td>True</td>\n",
       "      <td>4.1</td>\n",
       "      <td>775</td>\n",
       "      <td>Banashankari</td>\n",
       "      <td>Casual Dining</td>\n",
       "      <td>North Indian, Mughlai, Chinese</td>\n",
       "      <td>800.0</td>\n",
       "      <td>[('Rated 4.0', 'RATED\\n  A beautiful place to ...</td>\n",
       "      <td>[]</td>\n",
       "      <td>Buffet</td>\n",
       "      <td>Banashankari</td>\n",
       "      <td>3.99</td>\n",
       "    </tr>\n",
       "    <tr>\n",
       "      <th>1</th>\n",
       "      <td>2nd Floor, 80 Feet Road, Near Big Bazaar, 6th ...</td>\n",
       "      <td>Spice Elephant</td>\n",
       "      <td>True</td>\n",
       "      <td>False</td>\n",
       "      <td>4.1</td>\n",
       "      <td>787</td>\n",
       "      <td>Banashankari</td>\n",
       "      <td>Casual Dining</td>\n",
       "      <td>Chinese, North Indian, Thai</td>\n",
       "      <td>800.0</td>\n",
       "      <td>[('Rated 4.0', 'RATED\\n  Had been here for din...</td>\n",
       "      <td>[]</td>\n",
       "      <td>Buffet</td>\n",
       "      <td>Banashankari</td>\n",
       "      <td>3.97</td>\n",
       "    </tr>\n",
       "    <tr>\n",
       "      <th>2</th>\n",
       "      <td>1112, Next to KIMS Medical College, 17th Cross...</td>\n",
       "      <td>San Churro Cafe</td>\n",
       "      <td>True</td>\n",
       "      <td>False</td>\n",
       "      <td>3.8</td>\n",
       "      <td>918</td>\n",
       "      <td>Banashankari</td>\n",
       "      <td>Cafe, Casual Dining</td>\n",
       "      <td>Cafe, Mexican, Italian</td>\n",
       "      <td>800.0</td>\n",
       "      <td>[('Rated 3.0', \"RATED\\n  Ambience is not that ...</td>\n",
       "      <td>[]</td>\n",
       "      <td>Buffet</td>\n",
       "      <td>Banashankari</td>\n",
       "      <td>3.58</td>\n",
       "    </tr>\n",
       "    <tr>\n",
       "      <th>3</th>\n",
       "      <td>1st Floor, Annakuteera, 3rd Stage, Banashankar...</td>\n",
       "      <td>Addhuri Udupi Bhojana</td>\n",
       "      <td>False</td>\n",
       "      <td>False</td>\n",
       "      <td>3.7</td>\n",
       "      <td>88</td>\n",
       "      <td>Banashankari</td>\n",
       "      <td>Quick Bites</td>\n",
       "      <td>South Indian, North Indian</td>\n",
       "      <td>300.0</td>\n",
       "      <td>[('Rated 4.0', \"RATED\\n  Great food and proper...</td>\n",
       "      <td>[]</td>\n",
       "      <td>Buffet</td>\n",
       "      <td>Banashankari</td>\n",
       "      <td>3.45</td>\n",
       "    </tr>\n",
       "    <tr>\n",
       "      <th>4</th>\n",
       "      <td>10, 3rd Floor, Lakshmi Associates, Gandhi Baza...</td>\n",
       "      <td>Grand Village</td>\n",
       "      <td>False</td>\n",
       "      <td>False</td>\n",
       "      <td>3.8</td>\n",
       "      <td>166</td>\n",
       "      <td>Basavanagudi</td>\n",
       "      <td>Casual Dining</td>\n",
       "      <td>North Indian, Rajasthani</td>\n",
       "      <td>600.0</td>\n",
       "      <td>[('Rated 4.0', 'RATED\\n  Very good restaurant ...</td>\n",
       "      <td>[]</td>\n",
       "      <td>Buffet</td>\n",
       "      <td>Banashankari</td>\n",
       "      <td>3.58</td>\n",
       "    </tr>\n",
       "  </tbody>\n",
       "</table>\n",
       "</div>"
      ],
      "text/plain": [
       "                                             address                   name  \\\n",
       "0  942, 21st Main Road, 2nd Stage, Banashankari, ...                  Jalsa   \n",
       "1  2nd Floor, 80 Feet Road, Near Big Bazaar, 6th ...         Spice Elephant   \n",
       "2  1112, Next to KIMS Medical College, 17th Cross...        San Churro Cafe   \n",
       "3  1st Floor, Annakuteera, 3rd Stage, Banashankar...  Addhuri Udupi Bhojana   \n",
       "4  10, 3rd Floor, Lakshmi Associates, Gandhi Baza...          Grand Village   \n",
       "\n",
       "  online_order book_table  rate  votes      location            rest_type  \\\n",
       "0         True       True   4.1    775  Banashankari        Casual Dining   \n",
       "1         True      False   4.1    787  Banashankari        Casual Dining   \n",
       "2         True      False   3.8    918  Banashankari  Cafe, Casual Dining   \n",
       "3        False      False   3.7     88  Banashankari          Quick Bites   \n",
       "4        False      False   3.8    166  Basavanagudi        Casual Dining   \n",
       "\n",
       "                         cuisines   cost  \\\n",
       "0  North Indian, Mughlai, Chinese  800.0   \n",
       "1     Chinese, North Indian, Thai  800.0   \n",
       "2          Cafe, Mexican, Italian  800.0   \n",
       "3      South Indian, North Indian  300.0   \n",
       "4        North Indian, Rajasthani  600.0   \n",
       "\n",
       "                                        reviews_list menu_item    type  \\\n",
       "0  [('Rated 4.0', 'RATED\\n  A beautiful place to ...        []  Buffet   \n",
       "1  [('Rated 4.0', 'RATED\\n  Had been here for din...        []  Buffet   \n",
       "2  [('Rated 3.0', \"RATED\\n  Ambience is not that ...        []  Buffet   \n",
       "3  [('Rated 4.0', \"RATED\\n  Great food and proper...        []  Buffet   \n",
       "4  [('Rated 4.0', 'RATED\\n  Very good restaurant ...        []  Buffet   \n",
       "\n",
       "           city  Mean Rating  \n",
       "0  Banashankari         3.99  \n",
       "1  Banashankari         3.97  \n",
       "2  Banashankari         3.58  \n",
       "3  Banashankari         3.45  \n",
       "4  Banashankari         3.58  "
      ]
     },
     "execution_count": 37,
     "metadata": {},
     "output_type": "execute_result"
    }
   ],
   "source": [
    "data1.head(5)"
   ]
  },
  {
   "cell_type": "code",
   "execution_count": 38,
   "id": "33f0232f",
   "metadata": {
    "execution": {
     "iopub.execute_input": "2024-11-28T03:58:06.722694Z",
     "iopub.status.busy": "2024-11-28T03:58:06.722249Z",
     "iopub.status.idle": "2024-11-28T03:58:11.674120Z",
     "shell.execute_reply": "2024-11-28T03:58:11.673003Z"
    },
    "papermill": {
     "duration": 4.971922,
     "end_time": "2024-11-28T03:58:11.676628",
     "exception": false,
     "start_time": "2024-11-28T03:58:06.704706",
     "status": "completed"
    },
    "tags": []
   },
   "outputs": [],
   "source": [
    "data1['reviews_list'] = data1['reviews_list'].str.lower()"
   ]
  },
  {
   "cell_type": "code",
   "execution_count": 39,
   "id": "284ce59a",
   "metadata": {
    "execution": {
     "iopub.execute_input": "2024-11-28T03:58:11.713681Z",
     "iopub.status.busy": "2024-11-28T03:58:11.713216Z",
     "iopub.status.idle": "2024-11-28T03:58:11.721304Z",
     "shell.execute_reply": "2024-11-28T03:58:11.720304Z"
    },
    "papermill": {
     "duration": 0.029014,
     "end_time": "2024-11-28T03:58:11.723483",
     "exception": false,
     "start_time": "2024-11-28T03:58:11.694469",
     "status": "completed"
    },
    "tags": []
   },
   "outputs": [
    {
     "data": {
      "text/plain": [
       "0    [('rated 4.0', 'rated\\n  a beautiful place to ...\n",
       "1    [('rated 4.0', 'rated\\n  had been here for din...\n",
       "2    [('rated 3.0', \"rated\\n  ambience is not that ...\n",
       "3    [('rated 4.0', \"rated\\n  great food and proper...\n",
       "4    [('rated 4.0', 'rated\\n  very good restaurant ...\n",
       "Name: reviews_list, dtype: object"
      ]
     },
     "execution_count": 39,
     "metadata": {},
     "output_type": "execute_result"
    }
   ],
   "source": [
    "data1['reviews_list'].head()"
   ]
  },
  {
   "cell_type": "code",
   "execution_count": 40,
   "id": "eedffdf2",
   "metadata": {
    "execution": {
     "iopub.execute_input": "2024-11-28T03:58:11.758418Z",
     "iopub.status.busy": "2024-11-28T03:58:11.758019Z",
     "iopub.status.idle": "2024-11-28T03:58:48.338016Z",
     "shell.execute_reply": "2024-11-28T03:58:48.336798Z"
    },
    "papermill": {
     "duration": 36.616473,
     "end_time": "2024-11-28T03:58:48.356876",
     "exception": false,
     "start_time": "2024-11-28T03:58:11.740403",
     "status": "completed"
    },
    "tags": []
   },
   "outputs": [
    {
     "data": {
      "text/html": [
       "<div>\n",
       "<style scoped>\n",
       "    .dataframe tbody tr th:only-of-type {\n",
       "        vertical-align: middle;\n",
       "    }\n",
       "\n",
       "    .dataframe tbody tr th {\n",
       "        vertical-align: top;\n",
       "    }\n",
       "\n",
       "    .dataframe thead th {\n",
       "        text-align: right;\n",
       "    }\n",
       "</style>\n",
       "<table border=\"1\" class=\"dataframe\">\n",
       "  <thead>\n",
       "    <tr style=\"text-align: right;\">\n",
       "      <th></th>\n",
       "      <th>reviews_list</th>\n",
       "      <th>cuisines</th>\n",
       "    </tr>\n",
       "  </thead>\n",
       "  <tbody>\n",
       "    <tr>\n",
       "      <th>15719</th>\n",
       "      <td>rated 50 ratedn  the parathas are the best and...</td>\n",
       "      <td>South Indian, North Indian</td>\n",
       "    </tr>\n",
       "    <tr>\n",
       "      <th>22891</th>\n",
       "      <td>rated 40 ratedn  my review 11th january 2019 d...</td>\n",
       "      <td>Arabian, North Indian, Chinese, Fast Food</td>\n",
       "    </tr>\n",
       "    <tr>\n",
       "      <th>32734</th>\n",
       "      <td>rated 10 ratedn  worst place for dinning i tol...</td>\n",
       "      <td>North Indian</td>\n",
       "    </tr>\n",
       "    <tr>\n",
       "      <th>39298</th>\n",
       "      <td>rated 40 ratedn  good place for mexican food l...</td>\n",
       "      <td>Mexican, Fast Food</td>\n",
       "    </tr>\n",
       "    <tr>\n",
       "      <th>1245</th>\n",
       "      <td>rated 30 ratedn  ordered hot and sour chicken ...</td>\n",
       "      <td>Seafood</td>\n",
       "    </tr>\n",
       "  </tbody>\n",
       "</table>\n",
       "</div>"
      ],
      "text/plain": [
       "                                            reviews_list  \\\n",
       "15719  rated 50 ratedn  the parathas are the best and...   \n",
       "22891  rated 40 ratedn  my review 11th january 2019 d...   \n",
       "32734  rated 10 ratedn  worst place for dinning i tol...   \n",
       "39298  rated 40 ratedn  good place for mexican food l...   \n",
       "1245   rated 30 ratedn  ordered hot and sour chicken ...   \n",
       "\n",
       "                                        cuisines  \n",
       "15719                 South Indian, North Indian  \n",
       "22891  Arabian, North Indian, Chinese, Fast Food  \n",
       "32734                               North Indian  \n",
       "39298                         Mexican, Fast Food  \n",
       "1245                                     Seafood  "
      ]
     },
     "execution_count": 40,
     "metadata": {},
     "output_type": "execute_result"
    }
   ],
   "source": [
    "## removal of punctuations\n",
    "\n",
    "\n",
    "import string\n",
    "PUNCT_TO_REMOVE = string.punctuation\n",
    "def remove_punctuation(text):\n",
    "    return text.translate(str.maketrans('','',PUNCT_TO_REMOVE))\n",
    "    \n",
    "data1['reviews_list'] = data1['reviews_list'].apply(lambda text:remove_punctuation(text))\n",
    "\n",
    "data1[['reviews_list','cuisines']].sample(5)\n"
   ]
  },
  {
   "cell_type": "code",
   "execution_count": 41,
   "id": "24c56563",
   "metadata": {
    "execution": {
     "iopub.execute_input": "2024-11-28T03:58:48.395372Z",
     "iopub.status.busy": "2024-11-28T03:58:48.394946Z",
     "iopub.status.idle": "2024-11-28T03:59:01.065252Z",
     "shell.execute_reply": "2024-11-28T03:59:01.063975Z"
    },
    "papermill": {
     "duration": 12.693636,
     "end_time": "2024-11-28T03:59:01.067793",
     "exception": false,
     "start_time": "2024-11-28T03:58:48.374157",
     "status": "completed"
    },
    "tags": []
   },
   "outputs": [],
   "source": [
    "#Removal of stopwords\n",
    "\n",
    "from nltk.corpus import stopwords\n",
    "\n",
    "STOPWORDS = set(stopwords.words('english'))\n",
    "def remove_stopwords(text):\n",
    "    return \" \".join([word for word in str(text).split() if word not in STOPWORDS])\n",
    "\n",
    "data1['reviews_list'] = data1['reviews_list'].apply(lambda text:remove_stopwords(text))"
   ]
  },
  {
   "cell_type": "code",
   "execution_count": 42,
   "id": "f9e862a9",
   "metadata": {
    "execution": {
     "iopub.execute_input": "2024-11-28T03:59:01.104964Z",
     "iopub.status.busy": "2024-11-28T03:59:01.104411Z",
     "iopub.status.idle": "2024-11-28T03:59:01.114403Z",
     "shell.execute_reply": "2024-11-28T03:59:01.113177Z"
    },
    "papermill": {
     "duration": 0.032323,
     "end_time": "2024-11-28T03:59:01.116524",
     "exception": false,
     "start_time": "2024-11-28T03:59:01.084201",
     "status": "completed"
    },
    "tags": []
   },
   "outputs": [
    {
     "data": {
      "text/plain": [
       "11723    rated 10 ratedn chicken biriyani today ordered...\n",
       "3717     rated 30 ratedn located inside embassy tech vi...\n",
       "Name: reviews_list, dtype: object"
      ]
     },
     "execution_count": 42,
     "metadata": {},
     "output_type": "execute_result"
    }
   ],
   "source": [
    "data1['reviews_list'].sample(2)"
   ]
  },
  {
   "cell_type": "code",
   "execution_count": 43,
   "id": "55141384",
   "metadata": {
    "execution": {
     "iopub.execute_input": "2024-11-28T03:59:01.152512Z",
     "iopub.status.busy": "2024-11-28T03:59:01.152082Z",
     "iopub.status.idle": "2024-11-28T03:59:01.536373Z",
     "shell.execute_reply": "2024-11-28T03:59:01.535276Z"
    },
    "papermill": {
     "duration": 0.405305,
     "end_time": "2024-11-28T03:59:01.538892",
     "exception": false,
     "start_time": "2024-11-28T03:59:01.133587",
     "status": "completed"
    },
    "tags": []
   },
   "outputs": [],
   "source": [
    "##Removals of URLS\n",
    "def remove_urls(text):\n",
    "    url_pattern=re.compile(r'https?://\\S+')\n",
    "    return url_pattern.sub(r'',text)\n",
    "data1[\"reviews_list\"]=data1[\"reviews_list\"].apply(lambda text: remove_urls(text))"
   ]
  },
  {
   "cell_type": "code",
   "execution_count": 44,
   "id": "250179f1",
   "metadata": {
    "execution": {
     "iopub.execute_input": "2024-11-28T03:59:01.573426Z",
     "iopub.status.busy": "2024-11-28T03:59:01.573068Z",
     "iopub.status.idle": "2024-11-28T03:59:01.590712Z",
     "shell.execute_reply": "2024-11-28T03:59:01.589557Z"
    },
    "papermill": {
     "duration": 0.037615,
     "end_time": "2024-11-28T03:59:01.593021",
     "exception": false,
     "start_time": "2024-11-28T03:59:01.555406",
     "status": "completed"
    },
    "tags": []
   },
   "outputs": [
    {
     "data": {
      "text/html": [
       "<div>\n",
       "<style scoped>\n",
       "    .dataframe tbody tr th:only-of-type {\n",
       "        vertical-align: middle;\n",
       "    }\n",
       "\n",
       "    .dataframe tbody tr th {\n",
       "        vertical-align: top;\n",
       "    }\n",
       "\n",
       "    .dataframe thead th {\n",
       "        text-align: right;\n",
       "    }\n",
       "</style>\n",
       "<table border=\"1\" class=\"dataframe\">\n",
       "  <thead>\n",
       "    <tr style=\"text-align: right;\">\n",
       "      <th></th>\n",
       "      <th>reviews_list</th>\n",
       "      <th>cuisines</th>\n",
       "    </tr>\n",
       "  </thead>\n",
       "  <tbody>\n",
       "    <tr>\n",
       "      <th>8609</th>\n",
       "      <td>rated 50 ratedn awesome place staffs friendly ...</td>\n",
       "      <td>North Indian, European, Mediterranean, BBQ, Kebab</td>\n",
       "    </tr>\n",
       "    <tr>\n",
       "      <th>28279</th>\n",
       "      <td>rated 20 ratedn menu looks interesting little ...</td>\n",
       "      <td>Street Food</td>\n",
       "    </tr>\n",
       "  </tbody>\n",
       "</table>\n",
       "</div>"
      ],
      "text/plain": [
       "                                            reviews_list  \\\n",
       "8609   rated 50 ratedn awesome place staffs friendly ...   \n",
       "28279  rated 20 ratedn menu looks interesting little ...   \n",
       "\n",
       "                                                cuisines  \n",
       "8609   North Indian, European, Mediterranean, BBQ, Kebab  \n",
       "28279                                        Street Food  "
      ]
     },
     "execution_count": 44,
     "metadata": {},
     "output_type": "execute_result"
    }
   ],
   "source": [
    "data1[['reviews_list','cuisines']].sample(2)"
   ]
  },
  {
   "cell_type": "code",
   "execution_count": 45,
   "id": "147491f3",
   "metadata": {
    "execution": {
     "iopub.execute_input": "2024-11-28T03:59:01.628804Z",
     "iopub.status.busy": "2024-11-28T03:59:01.628384Z",
     "iopub.status.idle": "2024-11-28T03:59:01.647564Z",
     "shell.execute_reply": "2024-11-28T03:59:01.646234Z"
    },
    "papermill": {
     "duration": 0.039884,
     "end_time": "2024-11-28T03:59:01.649878",
     "exception": false,
     "start_time": "2024-11-28T03:59:01.609994",
     "status": "completed"
    },
    "tags": []
   },
   "outputs": [
    {
     "data": {
      "text/html": [
       "<div>\n",
       "<style scoped>\n",
       "    .dataframe tbody tr th:only-of-type {\n",
       "        vertical-align: middle;\n",
       "    }\n",
       "\n",
       "    .dataframe tbody tr th {\n",
       "        vertical-align: top;\n",
       "    }\n",
       "\n",
       "    .dataframe thead th {\n",
       "        text-align: right;\n",
       "    }\n",
       "</style>\n",
       "<table border=\"1\" class=\"dataframe\">\n",
       "  <thead>\n",
       "    <tr style=\"text-align: right;\">\n",
       "      <th></th>\n",
       "      <th>address</th>\n",
       "      <th>name</th>\n",
       "      <th>online_order</th>\n",
       "      <th>book_table</th>\n",
       "      <th>rate</th>\n",
       "      <th>votes</th>\n",
       "      <th>location</th>\n",
       "      <th>rest_type</th>\n",
       "      <th>cuisines</th>\n",
       "      <th>cost</th>\n",
       "      <th>reviews_list</th>\n",
       "      <th>menu_item</th>\n",
       "      <th>type</th>\n",
       "      <th>city</th>\n",
       "      <th>Mean Rating</th>\n",
       "    </tr>\n",
       "  </thead>\n",
       "  <tbody>\n",
       "    <tr>\n",
       "      <th>0</th>\n",
       "      <td>942, 21st Main Road, 2nd Stage, Banashankari, ...</td>\n",
       "      <td>Jalsa</td>\n",
       "      <td>True</td>\n",
       "      <td>True</td>\n",
       "      <td>4.1</td>\n",
       "      <td>775</td>\n",
       "      <td>Banashankari</td>\n",
       "      <td>Casual Dining</td>\n",
       "      <td>North Indian, Mughlai, Chinese</td>\n",
       "      <td>800.0</td>\n",
       "      <td>rated 40 ratedn beautiful place dine inthe int...</td>\n",
       "      <td>[]</td>\n",
       "      <td>Buffet</td>\n",
       "      <td>Banashankari</td>\n",
       "      <td>3.99</td>\n",
       "    </tr>\n",
       "    <tr>\n",
       "      <th>1</th>\n",
       "      <td>2nd Floor, 80 Feet Road, Near Big Bazaar, 6th ...</td>\n",
       "      <td>Spice Elephant</td>\n",
       "      <td>True</td>\n",
       "      <td>False</td>\n",
       "      <td>4.1</td>\n",
       "      <td>787</td>\n",
       "      <td>Banashankari</td>\n",
       "      <td>Casual Dining</td>\n",
       "      <td>Chinese, North Indian, Thai</td>\n",
       "      <td>800.0</td>\n",
       "      <td>rated 40 ratedn dinner family turned good choo...</td>\n",
       "      <td>[]</td>\n",
       "      <td>Buffet</td>\n",
       "      <td>Banashankari</td>\n",
       "      <td>3.97</td>\n",
       "    </tr>\n",
       "    <tr>\n",
       "      <th>2</th>\n",
       "      <td>1112, Next to KIMS Medical College, 17th Cross...</td>\n",
       "      <td>San Churro Cafe</td>\n",
       "      <td>True</td>\n",
       "      <td>False</td>\n",
       "      <td>3.8</td>\n",
       "      <td>918</td>\n",
       "      <td>Banashankari</td>\n",
       "      <td>Cafe, Casual Dining</td>\n",
       "      <td>Cafe, Mexican, Italian</td>\n",
       "      <td>800.0</td>\n",
       "      <td>rated 30 ratedn ambience good enough pocket fr...</td>\n",
       "      <td>[]</td>\n",
       "      <td>Buffet</td>\n",
       "      <td>Banashankari</td>\n",
       "      <td>3.58</td>\n",
       "    </tr>\n",
       "    <tr>\n",
       "      <th>3</th>\n",
       "      <td>1st Floor, Annakuteera, 3rd Stage, Banashankar...</td>\n",
       "      <td>Addhuri Udupi Bhojana</td>\n",
       "      <td>False</td>\n",
       "      <td>False</td>\n",
       "      <td>3.7</td>\n",
       "      <td>88</td>\n",
       "      <td>Banashankari</td>\n",
       "      <td>Quick Bites</td>\n",
       "      <td>South Indian, North Indian</td>\n",
       "      <td>300.0</td>\n",
       "      <td>rated 40 ratedn great food proper karnataka st...</td>\n",
       "      <td>[]</td>\n",
       "      <td>Buffet</td>\n",
       "      <td>Banashankari</td>\n",
       "      <td>3.45</td>\n",
       "    </tr>\n",
       "    <tr>\n",
       "      <th>4</th>\n",
       "      <td>10, 3rd Floor, Lakshmi Associates, Gandhi Baza...</td>\n",
       "      <td>Grand Village</td>\n",
       "      <td>False</td>\n",
       "      <td>False</td>\n",
       "      <td>3.8</td>\n",
       "      <td>166</td>\n",
       "      <td>Basavanagudi</td>\n",
       "      <td>Casual Dining</td>\n",
       "      <td>North Indian, Rajasthani</td>\n",
       "      <td>600.0</td>\n",
       "      <td>rated 40 ratedn good restaurant neighbourhood ...</td>\n",
       "      <td>[]</td>\n",
       "      <td>Buffet</td>\n",
       "      <td>Banashankari</td>\n",
       "      <td>3.58</td>\n",
       "    </tr>\n",
       "  </tbody>\n",
       "</table>\n",
       "</div>"
      ],
      "text/plain": [
       "                                             address                   name  \\\n",
       "0  942, 21st Main Road, 2nd Stage, Banashankari, ...                  Jalsa   \n",
       "1  2nd Floor, 80 Feet Road, Near Big Bazaar, 6th ...         Spice Elephant   \n",
       "2  1112, Next to KIMS Medical College, 17th Cross...        San Churro Cafe   \n",
       "3  1st Floor, Annakuteera, 3rd Stage, Banashankar...  Addhuri Udupi Bhojana   \n",
       "4  10, 3rd Floor, Lakshmi Associates, Gandhi Baza...          Grand Village   \n",
       "\n",
       "  online_order book_table  rate  votes      location            rest_type  \\\n",
       "0         True       True   4.1    775  Banashankari        Casual Dining   \n",
       "1         True      False   4.1    787  Banashankari        Casual Dining   \n",
       "2         True      False   3.8    918  Banashankari  Cafe, Casual Dining   \n",
       "3        False      False   3.7     88  Banashankari          Quick Bites   \n",
       "4        False      False   3.8    166  Basavanagudi        Casual Dining   \n",
       "\n",
       "                         cuisines   cost  \\\n",
       "0  North Indian, Mughlai, Chinese  800.0   \n",
       "1     Chinese, North Indian, Thai  800.0   \n",
       "2          Cafe, Mexican, Italian  800.0   \n",
       "3      South Indian, North Indian  300.0   \n",
       "4        North Indian, Rajasthani  600.0   \n",
       "\n",
       "                                        reviews_list menu_item    type  \\\n",
       "0  rated 40 ratedn beautiful place dine inthe int...        []  Buffet   \n",
       "1  rated 40 ratedn dinner family turned good choo...        []  Buffet   \n",
       "2  rated 30 ratedn ambience good enough pocket fr...        []  Buffet   \n",
       "3  rated 40 ratedn great food proper karnataka st...        []  Buffet   \n",
       "4  rated 40 ratedn good restaurant neighbourhood ...        []  Buffet   \n",
       "\n",
       "           city  Mean Rating  \n",
       "0  Banashankari         3.99  \n",
       "1  Banashankari         3.97  \n",
       "2  Banashankari         3.58  \n",
       "3  Banashankari         3.45  \n",
       "4  Banashankari         3.58  "
      ]
     },
     "execution_count": 45,
     "metadata": {},
     "output_type": "execute_result"
    }
   ],
   "source": [
    "data1.head()"
   ]
  },
  {
   "cell_type": "code",
   "execution_count": 46,
   "id": "6b332aea",
   "metadata": {
    "execution": {
     "iopub.execute_input": "2024-11-28T03:59:01.685479Z",
     "iopub.status.busy": "2024-11-28T03:59:01.685069Z",
     "iopub.status.idle": "2024-11-28T03:59:01.706857Z",
     "shell.execute_reply": "2024-11-28T03:59:01.705793Z"
    },
    "papermill": {
     "duration": 0.042595,
     "end_time": "2024-11-28T03:59:01.709474",
     "exception": false,
     "start_time": "2024-11-28T03:59:01.666879",
     "status": "completed"
    },
    "tags": []
   },
   "outputs": [
    {
     "data": {
      "text/plain": [
       "['Jalsa',\n",
       " 'Spice Elephant',\n",
       " 'San Churro Cafe',\n",
       " 'Addhuri Udupi Bhojana',\n",
       " 'Grand Village',\n",
       " 'Timepass Dinner',\n",
       " 'Rosewood International Hotel - Bar & Restaurant',\n",
       " 'Onesta',\n",
       " 'Penthouse Cafe',\n",
       " 'Smacznego',\n",
       " 'Cafã\\x83Â\\x83Ã\\x82Â\\x83Ã\\x83Â\\x82Ã\\x82Â\\x83Ã\\x83Â\\x83Ã\\x82Â\\x82Ã\\x83Â\\x82Ã\\x82Â© Down The Alley',\n",
       " 'Cafe Shuffle',\n",
       " 'The Coffee Shack',\n",
       " 'Caf-Eleven',\n",
       " 'Cafe Vivacity',\n",
       " 'Catch-Up-Ino',\n",
       " \"Kirthi'S Biryani\",\n",
       " 'T3H Cafe',\n",
       " '360 Atoms Restaurant And Cafe',\n",
       " 'The Vintage Cafe',\n",
       " 'Woodee Pizza',\n",
       " 'Cafe Coffee Day',\n",
       " 'My Tea House',\n",
       " 'Hide Out Cafe',\n",
       " 'Cafe Nova',\n",
       " 'Coffee Tindi',\n",
       " 'Sea Green Cafe',\n",
       " 'Cuppa',\n",
       " \"Srinathji'S Cafe\",\n",
       " 'Redberrys',\n",
       " 'Foodiction',\n",
       " 'Sweet Truth',\n",
       " 'Ovenstory Pizza',\n",
       " 'Faasos',\n",
       " 'Behrouz Biryani',\n",
       " 'Fast And Fresh',\n",
       " 'Szechuan Dragon',\n",
       " 'Empire Restaurant',\n",
       " 'Maruthi Davangere Benne Dosa',\n",
       " 'Chaatimes',\n",
       " 'Havyaka Mess',\n",
       " \"Mcdonald'S\",\n",
       " \"Domino'S Pizza\",\n",
       " 'Hotboxit',\n",
       " 'Kitchen Garden',\n",
       " 'Recipe',\n",
       " 'Beijing Bites',\n",
       " 'Tasty Bytes',\n",
       " 'Petoo',\n",
       " 'Shree Cool Point',\n",
       " 'Corner House Ice Cream',\n",
       " 'Biryanis And More',\n",
       " 'Roving Feast',\n",
       " 'Freshmenu',\n",
       " 'Banashankari Donne Biriyani',\n",
       " 'Wamama',\n",
       " 'Five Star Chicken',\n",
       " 'Xo Belgian Waffle',\n",
       " 'Peppy Peppers',\n",
       " 'Goa 0 Km',\n",
       " 'Chinese Kitchen',\n",
       " '1947',\n",
       " 'Cake Of The Day',\n",
       " 'Kabab Magic',\n",
       " \"Namma Brahmin'S Idli\",\n",
       " 'Gustoes Beer House',\n",
       " 'Sugar Rush',\n",
       " 'Burger King',\n",
       " 'The Good Bowl',\n",
       " 'The Biryani Cafe',\n",
       " 'Lsd Cafe',\n",
       " 'Rolls On Wheels',\n",
       " 'Sri Guru Kottureshwara Davangere Benne Dosa',\n",
       " 'Devanna Dum Biriyani Centre',\n",
       " 'Kolbeh',\n",
       " 'Upahar Sagar',\n",
       " 'Kadalu Sea Food Restaurant',\n",
       " 'Frozen Bottle',\n",
       " 'Parimala Sweets',\n",
       " 'Vaishali Deluxe',\n",
       " 'The Big O Bakes',\n",
       " 'Meghana Foods',\n",
       " 'Krishna Sagar',\n",
       " 'Dessert Rose',\n",
       " 'Chickpet Donne Biryani House',\n",
       " \"Thanco'S Natural Ice Creams\",\n",
       " 'Nandhini Deluxe',\n",
       " \"Vi Ra'S Bar And Restaurant\",\n",
       " 'Kaggis',\n",
       " 'Ayda Persian Kitchen',\n",
       " 'Chatar Patar',\n",
       " 'Polar Bear',\n",
       " \"Kidambi'S Kitchen\",\n",
       " 'Mane Thindi',\n",
       " 'Kotian Karavali Restaurant',\n",
       " 'Floured-Baked With Love',\n",
       " 'Cakes & Slices',\n",
       " 'Spice 9',\n",
       " 'Naveen Kabab & Biriyani Mane',\n",
       " 'Katriguppe Donne Biryani',\n",
       " 'Atithi Point Ande Ka Funda',\n",
       " 'Just Bake',\n",
       " 'K27 - The Pub',\n",
       " 'Bengaluru Coffee House',\n",
       " 'New Mangalore Lunch Home',\n",
       " 'Coffee Bytes',\n",
       " 'Parjanya Chat Zone',\n",
       " \"Kwality Wall'S Swirl'S Happiness Station\",\n",
       " 'Ruchi Maayaka',\n",
       " 'Anna Kuteera',\n",
       " 'Darbar',\n",
       " 'Vijayalakshmi',\n",
       " 'Sri Udupi Food Hub',\n",
       " 'Udupi Upahar',\n",
       " 'House Of Kebabs',\n",
       " 'Roll N Rock',\n",
       " 'Box8- Desi Meals',\n",
       " 'Kfc',\n",
       " 'Roll Over',\n",
       " 'Imperial Restaurant',\n",
       " 'Lassi Shop',\n",
       " 'The Fortuna',\n",
       " 'Wahab',\n",
       " 'Al Diwan Biryanis And More',\n",
       " \"New Gowda'S Fried Chicken\",\n",
       " 'Canton',\n",
       " 'Diabetics Dezire Sugarless Sweets And Bakes',\n",
       " 'The Blue Wagon - Kitchen',\n",
       " 'Hot Coffee',\n",
       " 'Patio 805',\n",
       " 'Lassi Corner',\n",
       " 'Sagar Deluxe',\n",
       " 'Kanti Sweets',\n",
       " 'Vegetalia',\n",
       " 'Aramane Donne Biryani',\n",
       " 'Ande Ka Funda',\n",
       " 'Cake Ghar',\n",
       " 'Energy Addaa',\n",
       " 'Bhattara Bhojana',\n",
       " 'Tandoori Knight',\n",
       " 'Dev Sagar - Food Street',\n",
       " 'Mitraa Da Pizza',\n",
       " 'Paradise Premium',\n",
       " 'Grazers',\n",
       " 'Shakes Theory',\n",
       " '@Italy',\n",
       " 'Chilli Flakes',\n",
       " 'Calcutta Cafe',\n",
       " 'Old Mumbai Ice Cream',\n",
       " 'Donne Biriyani House',\n",
       " 'By 2 Coffee',\n",
       " \"Kedia'S Fun Food\",\n",
       " 'Davangere Butter Dosa Hotel',\n",
       " 'Just Shawarma',\n",
       " 'Mini Punjabi Dhaba',\n",
       " 'Mulabagilu Dosa',\n",
       " 'Gokul Veg',\n",
       " 'Olive - Era',\n",
       " 'Udupi Ruchi',\n",
       " 'Madhappa Hindu Military Hotel',\n",
       " 'Gama Gama',\n",
       " 'Pizza Hut',\n",
       " 'Mangalore Pearl',\n",
       " 'Asha Sweets Centre',\n",
       " 'Twiststick House',\n",
       " 'Cool Corner',\n",
       " 'Pizza Mane',\n",
       " 'Dal Tadkaa',\n",
       " 'Chutney Chang',\n",
       " 'Mystique Palate',\n",
       " 'Thamboola',\n",
       " 'Castle Rock',\n",
       " 'Vietnamese Kitchen',\n",
       " 'C Corner',\n",
       " 'Paratha Merchant',\n",
       " 'North Rasoe',\n",
       " 'Toscano',\n",
       " 'Lord Of The Kitchen',\n",
       " 'Stoned Monkey',\n",
       " 'Central Jail Restaurant',\n",
       " 'Bella',\n",
       " 'Vennela Andhra Meals',\n",
       " 'New Prashanth Hotel',\n",
       " 'The Grillo',\n",
       " 'Re Malnad Nati Style Hotel',\n",
       " 'Karma Kaapi',\n",
       " \"Tiwari'S\",\n",
       " 'Pizza Stop',\n",
       " \"Biggies Burger 'N' More\",\n",
       " \"Kollapuri'S\",\n",
       " 'Kadamba Classic',\n",
       " 'Rs Shiv Sagar',\n",
       " 'Kholi Mane',\n",
       " 'Harshi Super Sandwich',\n",
       " 'Cake Yard',\n",
       " 'Sri Udupi Veg',\n",
       " 'Cake Art',\n",
       " 'Potato House',\n",
       " 'Matru Sagar',\n",
       " 'Ugadi',\n",
       " 'Sri Krishna Sweets',\n",
       " 'In Time Cane Juice',\n",
       " 'Subway',\n",
       " 'Daal Roti',\n",
       " 'The Lassi Park',\n",
       " 'A2B - Adyar Ananda Bhavan',\n",
       " 'Srikrishna Bhavan',\n",
       " 'Green Gardenia',\n",
       " 'J Spice',\n",
       " 'Karavali Family Restaurant',\n",
       " 'Karavali Lunch Home',\n",
       " 'Hatti Kaapi',\n",
       " \"Kolkata Kathi Roll'S\",\n",
       " 'Upahara Darshini',\n",
       " 'The Chaat Shop',\n",
       " 'Anda Ka Funda',\n",
       " 'Shri Vinayaka Ice N Juice',\n",
       " 'Ibaco',\n",
       " 'Jalaram Sweets',\n",
       " 'Samskruti - Sanman Gardenia',\n",
       " 'Bendakaluru Bytes',\n",
       " 'Cocoa Bakes',\n",
       " 'Chumma Delicious',\n",
       " 'Dwaraka Grand',\n",
       " 'Gufha - The President Hotel',\n",
       " \"Tanna'S Kitchen\",\n",
       " 'Shree Mandarathi Grand',\n",
       " 'Mojo Pizza - 2X Toppings',\n",
       " 'Iceberg Icecreams',\n",
       " 'South Kitchen',\n",
       " 'Chung Wah',\n",
       " 'Shanthi Sagar',\n",
       " 'Millet Mama',\n",
       " 'Bangarpet Chat Express',\n",
       " 'Prems Graama Bhojanam',\n",
       " 'Java City',\n",
       " 'Kamat Bugle Rock',\n",
       " 'Puliyogare Point',\n",
       " 'Bangalore Agarwal Bhavan',\n",
       " 'Rustic Stove',\n",
       " 'Udupi Ruchi Grand',\n",
       " 'De Thaali',\n",
       " 'Just Thindi',\n",
       " 'Vasanth Vihar - Since 1965',\n",
       " 'Sea Spice By 7 Star',\n",
       " 'Desi Dawat',\n",
       " 'Cafe Aira',\n",
       " 'Mast Punjabi',\n",
       " 'South Grand',\n",
       " 'The Pizzeria',\n",
       " 'Cafe Zone',\n",
       " 'Ruchis Point',\n",
       " 'Firangi Bake',\n",
       " 'The Royal Corner - Pai Viceroy',\n",
       " 'Hara Fine Dine',\n",
       " 'Chocoberry',\n",
       " 'Dakshin Grand',\n",
       " 'Sandwichwallas',\n",
       " 'Chai Mane',\n",
       " 'Slv Upachar',\n",
       " 'Waffle-A-Go Go',\n",
       " 'Cross Road Cafe',\n",
       " 'Anand Donne Biriyani',\n",
       " 'Seven Star',\n",
       " \"Stop 'N' Joy\",\n",
       " 'Sri Yaksha Shiv Sagar',\n",
       " 'Fudge',\n",
       " 'Just Bunny',\n",
       " 'Bakers Town',\n",
       " 'Shree Mahalakshmi Sweets',\n",
       " 'Kaapi Kendra',\n",
       " 'Ivy',\n",
       " 'The Airos',\n",
       " 'Chai Kraft',\n",
       " 'South Point Pub',\n",
       " 'The Trundle',\n",
       " 'The Krishna Grand Xpress',\n",
       " 'Sri Krishna Darshini',\n",
       " 'Shringar Sweets & Snacks',\n",
       " 'Udupi Grand',\n",
       " 'Ganesh Grand',\n",
       " 'Shreyas Upahar & Burger Point',\n",
       " 'Little Cafe',\n",
       " 'Mumbai Badam Milk & Lassi Center',\n",
       " 'Sri Krishna Sagar',\n",
       " 'Mylari Biryani Family Restaurant',\n",
       " '1980S Games Cafe',\n",
       " 'Kadala Tarangaa',\n",
       " 'Namma Biryani',\n",
       " \"Nandhanu'S Rasoi\",\n",
       " 'Hotel Pork Paradise',\n",
       " 'As On Fire',\n",
       " 'J K Fish Land',\n",
       " 'Curry Leaves',\n",
       " 'Magic Meals',\n",
       " 'Desi Cream Junction',\n",
       " 'Drunken Monkey',\n",
       " \"Ruchi'S Corner\",\n",
       " 'Tandoori Bytes',\n",
       " 'Bangalore Donne Biriyani',\n",
       " 'Sgs Non Veg - Gundu Pulav',\n",
       " 'Keventers',\n",
       " 'Navi Food Point',\n",
       " 'Shawarma Inc',\n",
       " 'The Cafe Nuts And Bolts',\n",
       " 'Am Wow',\n",
       " 'Lalbagh Grand',\n",
       " 'Funjabi Curries',\n",
       " 'Eat Repeat',\n",
       " 'Salut',\n",
       " 'Nammura Donne Biriyani',\n",
       " 'Lassi Stop',\n",
       " 'Dakshin Kitchen',\n",
       " 'Sri Sai Cafe',\n",
       " 'Sri Sai 99 Variety Dosa',\n",
       " 'Utsav Restaurant',\n",
       " 'Crunch And Munch',\n",
       " 'Food Geek',\n",
       " 'Sri Krishna Aramane',\n",
       " 'Great Indian Rolls',\n",
       " 'Chats Point',\n",
       " 'Food Point',\n",
       " 'Swarga Ruchi',\n",
       " 'Kolkata King',\n",
       " \"Sandwich Mama'S And Frozen Monster\",\n",
       " 'New Rajadhani Spicy',\n",
       " 'Big Mishra Pedha',\n",
       " 'Vegeatz',\n",
       " 'Foodizo',\n",
       " 'Food Springs',\n",
       " \"Chung'S Chinese Corner\",\n",
       " 'Eurasia Pasta And Barbeque By Little Italy',\n",
       " 'Goli Vada Pav No. 1',\n",
       " \"Ragoo'S\",\n",
       " 'Pure & Natural',\n",
       " 'Maiyas',\n",
       " 'Sip N Dine',\n",
       " 'Cafe Mondo',\n",
       " 'Jalpaan',\n",
       " \"Kataria'S Pakwan\",\n",
       " 'Juicy Momos',\n",
       " 'Amande Patisserie',\n",
       " 'Anand Sweets And Savouries',\n",
       " 'Chicken Hunt',\n",
       " 'Swadesh Tadka',\n",
       " 'Cane-O-La',\n",
       " 'New Biryani Mane',\n",
       " 'Karnataka Bhel House',\n",
       " 'Sreeraj Lassi Bar',\n",
       " 'Juice Junction Food Court',\n",
       " \"Bunt'S Biriyani Palace\",\n",
       " 'Chai Point',\n",
       " 'Janahaar',\n",
       " 'Utsav',\n",
       " 'Meat And Eat',\n",
       " 'Snacks Bite',\n",
       " 'The Spice Saga',\n",
       " 'Dakshin Cafe',\n",
       " 'Kaulige Millet Corner',\n",
       " 'Ifruit Ice Cream',\n",
       " 'Havmor',\n",
       " 'Grand Food',\n",
       " 'Dining Hut',\n",
       " 'Desi Swaad',\n",
       " 'Yummy Momos',\n",
       " 'Masale Daan',\n",
       " 'Grow Fit',\n",
       " 'Sandwich Hub',\n",
       " 'Udupi Sri Krishna Cafe',\n",
       " 'Starlite Bakery & Fastfood',\n",
       " 'Veganbreak24X7',\n",
       " 'Aadhya Hotel',\n",
       " 'Dodda Mane Baaduta',\n",
       " 'Swadd Kitchen',\n",
       " 'Happy Chopsticks',\n",
       " 'Udupi Upachar',\n",
       " 'Davanagere Benne Dose Hut',\n",
       " 'Subz',\n",
       " 'Mint And Mustard',\n",
       " 'Chinese Square',\n",
       " 'Punjabi Raswada',\n",
       " \"Vinny'S\",\n",
       " \"Chetty'S Corner\",\n",
       " \"Kapoor'S Cafe\",\n",
       " 'Donne Biryani & Kabab Corner',\n",
       " 'Sukh Sagar',\n",
       " 'S M V Snacks Corner',\n",
       " 'Andhra Ruchulu',\n",
       " 'Steaming Mugs',\n",
       " 'Rajathadri Food Fort',\n",
       " 'Brew Meister',\n",
       " 'Rasoi',\n",
       " 'Mr. Singh Da Dhaba',\n",
       " 'Kababs N Biryani',\n",
       " 'Ayodhya Upachar',\n",
       " 'Biriyani Mane',\n",
       " 'Cafe Ajfan',\n",
       " 'Brundhavana Food Point',\n",
       " 'Slv Corner Restaurant',\n",
       " 'Hotel New Karavali',\n",
       " 'The Krishna Grand',\n",
       " 'Roti Ghar',\n",
       " 'Kettle & Kegs',\n",
       " 'Baisakhi',\n",
       " 'Poonam Sweets',\n",
       " \"Amma'S Pastries\",\n",
       " 'The Lassi And Juice Park',\n",
       " 'Corner Stone',\n",
       " 'Arun Ice Cream',\n",
       " 'Sweet N Swirl',\n",
       " 'Sri Venkateshwara Sweet Meat Stall',\n",
       " 'Baskin Robbins',\n",
       " 'Srinivasa Brahmins Bakery',\n",
       " 'Jain Bakes',\n",
       " 'Kc Das - Sweet Spot',\n",
       " 'A2B Veg - Adyar Ananda Bhavan',\n",
       " 'Jcubez',\n",
       " 'Blue Wings Bar & Restaurant',\n",
       " 'New Imperial Restaurant',\n",
       " 'Karavali Fish Center',\n",
       " \"Iyer'S Tiffin Centre\",\n",
       " 'Kydz Adda',\n",
       " 'Food Box Cafe',\n",
       " 'Sri Ganesh Juice And Chats',\n",
       " 'Manifest Cafe',\n",
       " 'Taaza Thindi',\n",
       " 'Sri Laxmi Venkateshwara Coffee Bar',\n",
       " 'Messy Bowl',\n",
       " 'Brahmin Cafe',\n",
       " 'Hotel Mangala',\n",
       " 'Simple Thindies',\n",
       " 'Slv Swadishta',\n",
       " 'New Sagar Fast Food',\n",
       " 'Parama Ruchi',\n",
       " 'Thrilok Restaurant',\n",
       " 'Hanumanthanagar Biryani Junction',\n",
       " 'Slv Refreshment',\n",
       " 'Svkp Daily Fresh',\n",
       " 'Srinagar Kabab Corner',\n",
       " 'Sri Venkateshwara Chat Centre',\n",
       " 'Vinay Bhel Corner',\n",
       " 'Nandi Chats And Juice',\n",
       " 'Food Adda',\n",
       " 'Hotel Nisarga',\n",
       " 'Yo Roll Corner',\n",
       " 'New Quality Dum Biryani',\n",
       " 'Sri Lakshmi Kabab Center',\n",
       " 'Tasty Bites',\n",
       " 'Raams Chicken',\n",
       " 'Panchami',\n",
       " 'Kavali',\n",
       " 'Ranganna Military Hotel',\n",
       " 'Vidyarthi Bhavan',\n",
       " 'Bharjari Oota',\n",
       " 'Bridgeway',\n",
       " 'Soho Bar & Grill',\n",
       " 'Bhavani Restaurant',\n",
       " 'Zephyr',\n",
       " 'Hotel Dwarka',\n",
       " 'Nisarga Garden Restaurant',\n",
       " 'Ma-Arya Family Restaurant',\n",
       " 'Udupi Sri Krishna Bhavan',\n",
       " 'Ice Thunder',\n",
       " 'Mahalaxmi Tiffin Room',\n",
       " 'Basavanagudi Mylari',\n",
       " 'Shrinidhi Military Hotel',\n",
       " 'Pramukh Family Restaurant',\n",
       " 'Vybhava',\n",
       " 'Shree Venkateshwara North Karnataka Hotel',\n",
       " 'Anand Sagar Inn',\n",
       " 'Sangam Military Hotel',\n",
       " 'Belly Squad Food Truck',\n",
       " '50-50 Eating House',\n",
       " 'Om Shiva Shakthi Chats Centre',\n",
       " 'Rolls Corner',\n",
       " 'New Ambur Hot Dum Biryani',\n",
       " 'Deja Vu Resto Bar',\n",
       " 'Fattoush',\n",
       " 'Abhiruchi Hotel',\n",
       " 'Tulips',\n",
       " 'Barbeque Nation',\n",
       " 'Sattvam',\n",
       " '24Th Main',\n",
       " 'Zaitoon',\n",
       " 'Mango Greens',\n",
       " 'Oye Amritsar',\n",
       " 'Melt - Eden Park',\n",
       " 'Spice Code',\n",
       " 'The Onyx - The Hhi Select Bengaluru',\n",
       " 'The Pavillion',\n",
       " 'Sankranthi Veg Restaurant',\n",
       " 'Tisano Cafe',\n",
       " 'Cafe Kabana',\n",
       " 'Butterly',\n",
       " 'Black Mug Cafe',\n",
       " '#Refuel',\n",
       " 'Wafl',\n",
       " 'Vaho Kafe & Pressery',\n",
       " 'Dreamcatcher',\n",
       " 'Cafe Arabica',\n",
       " 'Starbucks',\n",
       " 'Smoor',\n",
       " 'Kalmane Koffees',\n",
       " 'Shee-Sha Cafe',\n",
       " 'Brews N Bites',\n",
       " 'D2V Cafe',\n",
       " 'Cafe Talk',\n",
       " 'Cafe Choco Craze',\n",
       " 'Slate Cafe',\n",
       " 'Dialogues',\n",
       " 'Mudpipe Cafe',\n",
       " 'Tab - Take A Break',\n",
       " 'Cafe Potpourri',\n",
       " 'De Oxford Cafe',\n",
       " 'Vinaya Coffee Moments',\n",
       " 'Brew Point',\n",
       " 'The Cravery',\n",
       " \"Anju'S Cafe\",\n",
       " 'Skytouch Le Cafe',\n",
       " 'Hearts Unlock Cafe',\n",
       " 'Eat.Fit',\n",
       " 'Sai Abhiruchi',\n",
       " 'Capsicum Family Restaurant',\n",
       " 'Box Magic',\n",
       " \"Maa'R Rannaghor\",\n",
       " 'Easy Bites',\n",
       " 'Hiyar Majhe Kolkata',\n",
       " 'Dabba Gosht',\n",
       " 'Punjabites',\n",
       " 'Sri Lakshmi Dhaba',\n",
       " 'Swadista Aahar',\n",
       " 'Vegetarea',\n",
       " 'Al-Bek',\n",
       " \"Aniram'S\",\n",
       " 'Punjabi Nawabi',\n",
       " 'Yummrajj',\n",
       " 'Swad Punjab Da',\n",
       " 'Roti Wala',\n",
       " 'Midnight Mania',\n",
       " 'Kitchens@Jp Nagar',\n",
       " 'Krishna Kuteera',\n",
       " 'Apna Punjab',\n",
       " 'Paratha Junction',\n",
       " 'Nellore Bhojanam',\n",
       " 'Momoz',\n",
       " 'Kalingas',\n",
       " 'Kanteen The Eatery',\n",
       " 'Kullad Cafe',\n",
       " 'Litti Twist',\n",
       " 'Cakebuy',\n",
       " 'Delight Food',\n",
       " 'Andhra Kitchen',\n",
       " 'Veg By Nature',\n",
       " 'Chicken Magic',\n",
       " 'Swathi Restaurant',\n",
       " 'Fresh Kitchen',\n",
       " 'Hind Ka Chulah',\n",
       " 'Kuttanad',\n",
       " 'New Mahesh Friends Food Corner',\n",
       " 'Bohra Bohra Cafã\\x83Â\\x83Ã\\x82Â\\x83Ã\\x83Â\\x82Ã\\x82Â\\x83Ã\\x83Â\\x83Ã\\x82Â\\x82Ã\\x83Â\\x82Ã\\x82Â©',\n",
       " 'Shree Krishna Sannidhi',\n",
       " 'Bingejoy!',\n",
       " 'Shiv Sai Hotel',\n",
       " 'Mra',\n",
       " 'Burj Hotel',\n",
       " 'Shaadi Ki Biryani',\n",
       " 'Madeena Hotel',\n",
       " 'Biryani Durbar',\n",
       " 'Mahesh Friends Food Center',\n",
       " 'Juice Shop',\n",
       " \"Dadi'S Dum Biryani\",\n",
       " 'Krishna Kuteera South',\n",
       " 'Alankrutha',\n",
       " 'Paradise',\n",
       " 'Kabab Mehal',\n",
       " 'Sri Punjabi Dhaba',\n",
       " 'Arabian Mexico',\n",
       " 'Cakezone',\n",
       " 'Fujian Express',\n",
       " 'Indian Food',\n",
       " 'Tandoori Paradise',\n",
       " 'Kolkata Kathi Rolls',\n",
       " 'Adithya',\n",
       " 'Cheesiano Pizza',\n",
       " 'Nati Palace',\n",
       " \"Dande'S Hyderabad Biryani\",\n",
       " 'Upahara Bhavan',\n",
       " 'Sher-E-Punjab',\n",
       " 'Shuddh Desi Khana',\n",
       " 'Karama Restaurant',\n",
       " 'Jaganath Hotel And Restaurant',\n",
       " 'Aramane Donne Biriyani',\n",
       " \"Mani'S Dum Biryani\",\n",
       " 'Amontron',\n",
       " 'A M Biryani Hotel',\n",
       " 'Birinz',\n",
       " 'Hyderabadi Bawarchi',\n",
       " 'Fish Chain',\n",
       " 'Prasiddhi Food Corner',\n",
       " 'Biriyani Bhatti',\n",
       " 'Hyderabad Biryaani House',\n",
       " \"Galito'S\",\n",
       " 'C. K. Mega Hot Food',\n",
       " 'Red Chilli Restaurant',\n",
       " 'Rss Donne Biryani',\n",
       " 'Rajdhani Thali Restaurant',\n",
       " 'Phew (Play Hard Eat Wild)',\n",
       " 'New Kabab Zone',\n",
       " 'Bawarchi Paradise',\n",
       " 'Shree Udupi Grand',\n",
       " 'Chicken County Grand',\n",
       " 'Darjeeling Momos & Fast Food Center',\n",
       " 'Veruthe Oru Thattukada',\n",
       " 'Savoury - Sea Shell Restaurant',\n",
       " 'Warm Oven',\n",
       " 'Kundana',\n",
       " 'Food Ka Masti',\n",
       " 'The Shawarma Shop',\n",
       " 'Momo Junction',\n",
       " 'Antilla Aromas',\n",
       " 'Punjabi Food Corner',\n",
       " 'Mealer.In',\n",
       " 'Pathaan Sir',\n",
       " 'Cold Stone Creamery',\n",
       " 'Hari Super Sandwich',\n",
       " 'Amritsari Kulcha Land',\n",
       " 'Chokha Chowka',\n",
       " 'Gorbandh',\n",
       " 'Grills & Rolls',\n",
       " 'Bathinda Junction',\n",
       " 'Stories',\n",
       " \"New Gongura'S\",\n",
       " 'Sagar Grand',\n",
       " 'Ubq By Barbeque Nation',\n",
       " 'Agarwal Food Service',\n",
       " \"Daniyal'S\",\n",
       " 'Seasons',\n",
       " 'Chef Delicacies',\n",
       " 'Indiana Burgers',\n",
       " 'Moksha',\n",
       " 'Marwa Restaurant',\n",
       " 'Shanghai Court',\n",
       " 'Akshaya Donne Biriyani',\n",
       " 'Bhojohori Manna',\n",
       " 'Richie Rich',\n",
       " 'Hunger Bee',\n",
       " 'Yum In My Tum',\n",
       " 'Maggi N Maggi House',\n",
       " 'Fresh Dinner',\n",
       " 'B.M.W Bhookh Mitaane Wala',\n",
       " 'Biryani Miya',\n",
       " 'Krispy Kreme',\n",
       " 'Paani Kum Chai',\n",
       " 'Chulha Chauki Da Dhaba',\n",
       " \"Magix'S Parattha Roll\",\n",
       " 'Elegant Dining',\n",
       " 'Aliensip',\n",
       " 'Waffle Head',\n",
       " 'Samruddhi Biryani',\n",
       " 'Basmati Delights',\n",
       " \"Charlee'S Chicken\",\n",
       " 'Samosa Singh',\n",
       " 'Cravings',\n",
       " 'Nagas',\n",
       " 'Matka',\n",
       " 'Punjabi Swag',\n",
       " 'Taco Bell',\n",
       " 'Ambur Star Dum Biryani',\n",
       " \"Mother'S Rasoi\",\n",
       " 'Dosa Bazaar',\n",
       " 'Babu Moshai',\n",
       " 'The Bong Palate',\n",
       " 'Gowdru Mane Oota',\n",
       " 'Banashankari Nati Style',\n",
       " \"Chandrima'S Kitchen\",\n",
       " 'Bikaner Jn',\n",
       " 'Crunch Pizzas',\n",
       " 'Lassi Berg',\n",
       " 'Kakal-Kai Ruchi',\n",
       " 'Manchu Cafe',\n",
       " 'Calorie Express',\n",
       " 'Bangalore Box',\n",
       " 'Hotel Khaaja',\n",
       " 'The Gujarat Express',\n",
       " 'Vishal Foods',\n",
       " 'Lassi Darbar',\n",
       " 'Chavadi',\n",
       " 'Nanna Munna Paratha House',\n",
       " 'Cucumber Town',\n",
       " 'Kolkata Famous Kati Roll',\n",
       " 'Nellore Ruchulu',\n",
       " 'Brewsky',\n",
       " 'Chefeana',\n",
       " 'Bangaliana',\n",
       " 'Gud Dhani',\n",
       " 'The Hunger Room',\n",
       " 'Parisar Veg Restaurant',\n",
       " 'Deejas Kitchen',\n",
       " 'Pancuzzi',\n",
       " \"Zhang'S - Chinese Restaurant\",\n",
       " 'Shagun Sweets & Foods',\n",
       " 'Eat Well',\n",
       " \"Dev'S Gugababa\",\n",
       " 'Oogway Express',\n",
       " 'Balaji Bombay Vada Pav Gujrati Dalebi',\n",
       " 'The Cake Ville',\n",
       " 'The Egg Factory',\n",
       " 'Chow San',\n",
       " 'New Udupi Grand',\n",
       " 'New Karawali Lunch Home',\n",
       " 'Sr Choco Station',\n",
       " 'Momo Jojo',\n",
       " 'Simply Indian',\n",
       " 'Delhi Biryani Cafe',\n",
       " \"Rithika'S Kitchen\",\n",
       " 'Punjabi Times',\n",
       " 'Cravy Wings',\n",
       " 'Funky Punjab',\n",
       " 'A1 Garam Masala',\n",
       " 'Punjabi Corner',\n",
       " 'Guru Palace',\n",
       " 'Zeeshan',\n",
       " 'Ambara Gardenia',\n",
       " 'Layerbite',\n",
       " 'Bhavani Chats',\n",
       " 'More Pizza',\n",
       " 'Crafted Plate',\n",
       " \"Shetty'S Kitchen\",\n",
       " 'Machali Port',\n",
       " 'Naati Manae',\n",
       " 'Mad Over Biryani',\n",
       " 'Garma Garam',\n",
       " 'Sambram Biriyani Paradise',\n",
       " 'Mr. Meetharam',\n",
       " 'The Coastal Crew By Fujian On 24Th',\n",
       " 'Bib - Breakfast In The Box',\n",
       " 'Angel Restaurant',\n",
       " 'Wow Momo',\n",
       " 'Pizza Da Dhaba',\n",
       " 'Kalpavruksha',\n",
       " 'Juice Land',\n",
       " 'Tandoor And Spice',\n",
       " 'Rock Stone Ice Cream Factory',\n",
       " 'Paratha Plaza',\n",
       " 'Krishna Vijayashree',\n",
       " 'Soup Station',\n",
       " 'Tasty Point',\n",
       " 'Natural Mumbai Kulfi',\n",
       " 'Namma Kudla',\n",
       " 'Triveni',\n",
       " 'Wangs Kitchen',\n",
       " 'Rk Fresh Food',\n",
       " 'Alif Restaurant',\n",
       " 'Dine One One Restaurant',\n",
       " 'Pallavas Veg Cuisine',\n",
       " 'The Food Cottage',\n",
       " 'Brundhavana Pure Veg',\n",
       " 'Spice Up',\n",
       " 'Suryawanshi',\n",
       " 'Tempteys',\n",
       " 'Delibox.In',\n",
       " 'Frybies',\n",
       " 'Crumb Together',\n",
       " 'The Foodyz',\n",
       " \"Bean D'Er Cafe\",\n",
       " 'Chaat Chatore',\n",
       " 'Taste Of Kolkata',\n",
       " 'Y Not Restaurant',\n",
       " '24/7 Food Service',\n",
       " 'Modern Restaurant',\n",
       " 'Burrito Boys',\n",
       " 'Trippy Paradise',\n",
       " 'Biryani Magic',\n",
       " 'Nagarjuna',\n",
       " 'Laddoos',\n",
       " 'Waffle Stories',\n",
       " 'Late Night',\n",
       " 'Waffle Walle',\n",
       " 'Shake It Off',\n",
       " 'Bombay Kulfi',\n",
       " 'Chaat Central',\n",
       " 'Two Friends Cauldron',\n",
       " 'Bun Town',\n",
       " 'Garden Fresh',\n",
       " 'Dhabeliwala',\n",
       " \"Rayaan'S Bbq\",\n",
       " 'Chaat Junction',\n",
       " 'Asharfilal',\n",
       " 'Street Foods By Punjab Grill',\n",
       " \"Tiwari'S Ghee Paratha And Chats\",\n",
       " 'Spurthi Foods',\n",
       " 'Melting Pot At Woodrose',\n",
       " 'Pot Biryani',\n",
       " \"Thanco'S Natural Ice Cream\",\n",
       " 'Mango Tree- The Beer Garden',\n",
       " 'Dessi Cuppa',\n",
       " 'Halli Mane Mudde Oota',\n",
       " 'Wow Vada Pav',\n",
       " 'The Jade Kitchen',\n",
       " 'Krishna Vaibhava',\n",
       " 'Nandhanus Rasoi',\n",
       " 'Donne Biriyani Mane',\n",
       " 'Fish And Dish',\n",
       " 'Miss Momo',\n",
       " 'Intalia',\n",
       " 'Chicken County Restaurant',\n",
       " 'Velvet Kitchen',\n",
       " 'Hotel Aradhana',\n",
       " 'The Chervil',\n",
       " 'Sri Rajasthani Foods',\n",
       " 'New Royal Treat',\n",
       " 'I Cool',\n",
       " 'Mahek Pizza',\n",
       " 'Kc Das- Sweet World',\n",
       " 'Panther Cafe',\n",
       " 'Roots N Fruits',\n",
       " 'Kaizen Wellness Kitchen',\n",
       " 'Mad Over Donuts',\n",
       " 'Kolkata Famous Kati Rolls',\n",
       " 'Vinaya Cafe',\n",
       " 'Rbp Greens Garden',\n",
       " 'Dazu Momoz',\n",
       " 'Desi Dhaba',\n",
       " 'World Of Waffles',\n",
       " \"Pika'S Kitchen\",\n",
       " 'Lassi Cafe',\n",
       " 'New Mogul Empire',\n",
       " 'Atithi Biryani Corner',\n",
       " 'Oottupura Family Restaurant',\n",
       " 'Yumme Veg',\n",
       " 'Shree Guru Raghavendra Chats Chintamani Special',\n",
       " 'Vyanjan',\n",
       " 'Sri Sankara Cafe',\n",
       " 'Bhaijaan Barbeques',\n",
       " 'Chatter Platter',\n",
       " 'Bikaneri Sweets',\n",
       " \"Watson'S\",\n",
       " 'Sri Nandi Grand',\n",
       " 'Chicken Man',\n",
       " \"Chef Baker'S\",\n",
       " 'Sree Ganesha Fruits & Juice',\n",
       " 'Nandhana Palace',\n",
       " 'Biryani Nights',\n",
       " 'Thejas Bhavan',\n",
       " 'Graffitea',\n",
       " 'Gappe',\n",
       " 'On The Nose',\n",
       " 'Juicy & Spicy',\n",
       " 'Eat Repeat Express',\n",
       " 'Tfi - The Fresh Ice Cream',\n",
       " 'Mirch Masala',\n",
       " 'Just Chill',\n",
       " \"Bengalooru Tiffany'S\",\n",
       " 'Udupi Thaja Thindi',\n",
       " 'Baba Ka Dhaba',\n",
       " 'Hot Burg',\n",
       " 'Northern Bites',\n",
       " 'Hotel Smile',\n",
       " 'Roll Wala',\n",
       " 'Natural Ice Cream',\n",
       " 'F3 Food Fun Fiesta',\n",
       " \"Churchill'S\",\n",
       " \"Kulkarni'S New Uttara Karnataka Food Speciality Stores\",\n",
       " 'The Hungers Zone',\n",
       " 'The Chocolate Room',\n",
       " 'Aramane Restaurant',\n",
       " 'Hunger2Eat',\n",
       " 'Bbq Ride 46',\n",
       " 'Bawarchi Inn',\n",
       " \"Ruh'S Cafe\",\n",
       " 'Eatery Have U Been',\n",
       " 'Upahar Banashree',\n",
       " 'Me And My Cake',\n",
       " 'Bhojon Tripti',\n",
       " 'New South Corner',\n",
       " 'Khana Khazana',\n",
       " 'China Tang',\n",
       " 'California Burrito',\n",
       " 'Tandoor Garden',\n",
       " 'Caffe Pascucci',\n",
       " 'Freeze It',\n",
       " 'Meal Square',\n",
       " 'Chaitanya Cafe',\n",
       " 'Tasty Jigarthanda',\n",
       " 'Berrylicious',\n",
       " 'Rcs Kitchen',\n",
       " 'Pappu Da Dhaba',\n",
       " 'Smoke - The Sizzler House',\n",
       " 'Sandwich Shop',\n",
       " 'Joon Restaurant',\n",
       " 'Snack Knack',\n",
       " 'Chung Wah Opus',\n",
       " 'Chef & Dine',\n",
       " 'Once In Nature',\n",
       " 'Manjushree Upahara',\n",
       " 'Hotel Annapoorna',\n",
       " 'Dream A Dozen',\n",
       " 'Bread Crumbs Bakery',\n",
       " 'Nite Out',\n",
       " 'Cupcake Bliss',\n",
       " 'Armaani Caffe',\n",
       " 'Muddhe Bytes',\n",
       " 'Bombay Kulfis',\n",
       " 'Willys Top Cafe',\n",
       " 'Mist N Creams',\n",
       " 'Papacream',\n",
       " \"Woody'S\",\n",
       " 'Jp Fish Land',\n",
       " 'Pepper Crown Restaurant',\n",
       " 'Pizza Paradise',\n",
       " 'The Curry Hut Plus',\n",
       " 'Malabar Mess',\n",
       " 'Malabar Cafe',\n",
       " 'Tangra Indo - Chinese Cuisine',\n",
       " 'Juice Junction',\n",
       " 'Xpress Chai',\n",
       " 'Zhangs Classic',\n",
       " 'Guru Greens',\n",
       " 'D View Cafe',\n",
       " 'The Cuboidal',\n",
       " 'Delifusion - Hunger Sorted',\n",
       " 'Flavour Of China',\n",
       " 'Gujrati Mess',\n",
       " 'Cake-O-Mania',\n",
       " 'The Park Inn Restaurant',\n",
       " 'Eagle Ridge',\n",
       " 'Vidya Cafe',\n",
       " 'Kabab Treat',\n",
       " 'Limra Hotel',\n",
       " 'Kafe Nook',\n",
       " 'Kumbha Bhojanam',\n",
       " 'Yummerica Fries',\n",
       " 'Casa Piccosa',\n",
       " 'Bake Addiction',\n",
       " 'Tongue Twisters',\n",
       " 'Hot Rolls & House Of Kebabs',\n",
       " 'Aami Kolkata',\n",
       " 'Vaathsalya Millet Cafe',\n",
       " 'Hungry Buddies',\n",
       " 'Thericebowl.In',\n",
       " 'Guru Garden',\n",
       " 'Cakes By M',\n",
       " 'Brewz Coffee',\n",
       " 'Fritz Haber',\n",
       " 'Athithi',\n",
       " 'Smooth Blender',\n",
       " 'Sri Bhagya Grand',\n",
       " \"Shree Guru Juice 'N' Ice\",\n",
       " 'Bhavya Military Hotel',\n",
       " 'Neals Cafe',\n",
       " 'Flavorsome Bakes',\n",
       " 'Bake-Ooh',\n",
       " 'The Yummy Tummy',\n",
       " 'Mast Kalandar',\n",
       " \"Sultan'S Biryani\",\n",
       " 'Halli Sogasu',\n",
       " 'Crepe Nation',\n",
       " 'Rice Bar',\n",
       " 'Kanika Biryani Paradise',\n",
       " 'Resto',\n",
       " 'New Tandoori Point',\n",
       " 'Shiv Sagar',\n",
       " 'Little Shangai',\n",
       " \"Nadella'S Kitchen\",\n",
       " \"Uncle'S Kitchen\",\n",
       " 'Coastal Inn',\n",
       " \"Mom'S Momos\",\n",
       " 'Aishwarya Parkland',\n",
       " 'Slice Of Spice',\n",
       " 'Bao And Rolls',\n",
       " 'Andhra Bhojanam',\n",
       " 'Kanchan Dhaba',\n",
       " 'Encyclofoodia',\n",
       " 'Bella?S Kitchen',\n",
       " 'Food Feast Multicusine Restaurant',\n",
       " 'Bangalir Rannaghar',\n",
       " 'Sai Samosa & Chat Corner',\n",
       " \"Lalchee'S Rasoi\",\n",
       " 'Kailash Parbat',\n",
       " \"Dream'S Kitchen\",\n",
       " 'Tandoor Hut',\n",
       " 'The Chocolatiers',\n",
       " 'Ballava',\n",
       " 'Zaika Take Away',\n",
       " 'Snackiey',\n",
       " 'Sandwich Mamas',\n",
       " 'The Shake Factory Originals',\n",
       " 'Hotel Lakshmi Paradise',\n",
       " 'Desi Bites',\n",
       " 'Shiv Sai',\n",
       " 'The Juicy',\n",
       " 'Feast And Burp',\n",
       " 'Zengi Pub & Restaurant',\n",
       " 'Cafe Indiana',\n",
       " 'Multi Cakes',\n",
       " 'Bhukkad',\n",
       " 'Malhar Maharashtrian Cuisine',\n",
       " 'Mandi',\n",
       " 'Pallavi North Indian Veg Restaurant',\n",
       " 'Restro Cafe',\n",
       " ...]"
      ]
     },
     "execution_count": 46,
     "metadata": {},
     "output_type": "execute_result"
    }
   ],
   "source": [
    "restaurant_names=list(data1['name'].unique())\n",
    "restaurant_names"
   ]
  },
  {
   "cell_type": "code",
   "execution_count": 47,
   "id": "06573373",
   "metadata": {
    "execution": {
     "iopub.execute_input": "2024-11-28T03:59:01.748136Z",
     "iopub.status.busy": "2024-11-28T03:59:01.747734Z",
     "iopub.status.idle": "2024-11-28T03:59:01.754673Z",
     "shell.execute_reply": "2024-11-28T03:59:01.753377Z"
    },
    "papermill": {
     "duration": 0.029172,
     "end_time": "2024-11-28T03:59:01.756783",
     "exception": false,
     "start_time": "2024-11-28T03:59:01.727611",
     "status": "completed"
    },
    "tags": []
   },
   "outputs": [],
   "source": [
    "def get_top_words(column, top_nu_of_words, nu_of_word):\n",
    "    \n",
    "    vec = CountVectorizer(ngram_range= nu_of_word, stop_words='english')\n",
    "    \n",
    "    bag_of_words = vec.fit_transform(column)\n",
    "    \n",
    "    sum_words = bag_of_words.sum(axis=0)\n",
    "    \n",
    "    words_freq = [(word, sum_words[0, idx]) for word, idx in vec.vocabulary_.items()]\n",
    "    \n",
    "    words_freq =sorted(words_freq, key = lambda x: x[1], reverse=True)\n",
    "    \n",
    "    return words_freq[:top_nu_of_words]\n"
   ]
  },
  {
   "cell_type": "code",
   "execution_count": 48,
   "id": "e4749a7b",
   "metadata": {
    "execution": {
     "iopub.execute_input": "2024-11-28T03:59:01.795364Z",
     "iopub.status.busy": "2024-11-28T03:59:01.795012Z",
     "iopub.status.idle": "2024-11-28T03:59:01.814716Z",
     "shell.execute_reply": "2024-11-28T03:59:01.813438Z"
    },
    "papermill": {
     "duration": 0.041618,
     "end_time": "2024-11-28T03:59:01.817005",
     "exception": false,
     "start_time": "2024-11-28T03:59:01.775387",
     "status": "completed"
    },
    "tags": []
   },
   "outputs": [
    {
     "data": {
      "text/html": [
       "<div>\n",
       "<style scoped>\n",
       "    .dataframe tbody tr th:only-of-type {\n",
       "        vertical-align: middle;\n",
       "    }\n",
       "\n",
       "    .dataframe tbody tr th {\n",
       "        vertical-align: top;\n",
       "    }\n",
       "\n",
       "    .dataframe thead th {\n",
       "        text-align: right;\n",
       "    }\n",
       "</style>\n",
       "<table border=\"1\" class=\"dataframe\">\n",
       "  <thead>\n",
       "    <tr style=\"text-align: right;\">\n",
       "      <th></th>\n",
       "      <th>address</th>\n",
       "      <th>name</th>\n",
       "      <th>online_order</th>\n",
       "      <th>book_table</th>\n",
       "      <th>rate</th>\n",
       "      <th>votes</th>\n",
       "      <th>location</th>\n",
       "      <th>rest_type</th>\n",
       "      <th>cuisines</th>\n",
       "      <th>cost</th>\n",
       "      <th>reviews_list</th>\n",
       "      <th>menu_item</th>\n",
       "      <th>type</th>\n",
       "      <th>city</th>\n",
       "      <th>Mean Rating</th>\n",
       "    </tr>\n",
       "  </thead>\n",
       "  <tbody>\n",
       "    <tr>\n",
       "      <th>0</th>\n",
       "      <td>942, 21st Main Road, 2nd Stage, Banashankari, ...</td>\n",
       "      <td>Jalsa</td>\n",
       "      <td>True</td>\n",
       "      <td>True</td>\n",
       "      <td>4.1</td>\n",
       "      <td>775</td>\n",
       "      <td>Banashankari</td>\n",
       "      <td>Casual Dining</td>\n",
       "      <td>North Indian, Mughlai, Chinese</td>\n",
       "      <td>800.0</td>\n",
       "      <td>rated 40 ratedn beautiful place dine inthe int...</td>\n",
       "      <td>[]</td>\n",
       "      <td>Buffet</td>\n",
       "      <td>Banashankari</td>\n",
       "      <td>3.99</td>\n",
       "    </tr>\n",
       "    <tr>\n",
       "      <th>1</th>\n",
       "      <td>2nd Floor, 80 Feet Road, Near Big Bazaar, 6th ...</td>\n",
       "      <td>Spice Elephant</td>\n",
       "      <td>True</td>\n",
       "      <td>False</td>\n",
       "      <td>4.1</td>\n",
       "      <td>787</td>\n",
       "      <td>Banashankari</td>\n",
       "      <td>Casual Dining</td>\n",
       "      <td>Chinese, North Indian, Thai</td>\n",
       "      <td>800.0</td>\n",
       "      <td>rated 40 ratedn dinner family turned good choo...</td>\n",
       "      <td>[]</td>\n",
       "      <td>Buffet</td>\n",
       "      <td>Banashankari</td>\n",
       "      <td>3.97</td>\n",
       "    </tr>\n",
       "    <tr>\n",
       "      <th>2</th>\n",
       "      <td>1112, Next to KIMS Medical College, 17th Cross...</td>\n",
       "      <td>San Churro Cafe</td>\n",
       "      <td>True</td>\n",
       "      <td>False</td>\n",
       "      <td>3.8</td>\n",
       "      <td>918</td>\n",
       "      <td>Banashankari</td>\n",
       "      <td>Cafe, Casual Dining</td>\n",
       "      <td>Cafe, Mexican, Italian</td>\n",
       "      <td>800.0</td>\n",
       "      <td>rated 30 ratedn ambience good enough pocket fr...</td>\n",
       "      <td>[]</td>\n",
       "      <td>Buffet</td>\n",
       "      <td>Banashankari</td>\n",
       "      <td>3.58</td>\n",
       "    </tr>\n",
       "    <tr>\n",
       "      <th>3</th>\n",
       "      <td>1st Floor, Annakuteera, 3rd Stage, Banashankar...</td>\n",
       "      <td>Addhuri Udupi Bhojana</td>\n",
       "      <td>False</td>\n",
       "      <td>False</td>\n",
       "      <td>3.7</td>\n",
       "      <td>88</td>\n",
       "      <td>Banashankari</td>\n",
       "      <td>Quick Bites</td>\n",
       "      <td>South Indian, North Indian</td>\n",
       "      <td>300.0</td>\n",
       "      <td>rated 40 ratedn great food proper karnataka st...</td>\n",
       "      <td>[]</td>\n",
       "      <td>Buffet</td>\n",
       "      <td>Banashankari</td>\n",
       "      <td>3.45</td>\n",
       "    </tr>\n",
       "    <tr>\n",
       "      <th>4</th>\n",
       "      <td>10, 3rd Floor, Lakshmi Associates, Gandhi Baza...</td>\n",
       "      <td>Grand Village</td>\n",
       "      <td>False</td>\n",
       "      <td>False</td>\n",
       "      <td>3.8</td>\n",
       "      <td>166</td>\n",
       "      <td>Basavanagudi</td>\n",
       "      <td>Casual Dining</td>\n",
       "      <td>North Indian, Rajasthani</td>\n",
       "      <td>600.0</td>\n",
       "      <td>rated 40 ratedn good restaurant neighbourhood ...</td>\n",
       "      <td>[]</td>\n",
       "      <td>Buffet</td>\n",
       "      <td>Banashankari</td>\n",
       "      <td>3.58</td>\n",
       "    </tr>\n",
       "  </tbody>\n",
       "</table>\n",
       "</div>"
      ],
      "text/plain": [
       "                                             address                   name  \\\n",
       "0  942, 21st Main Road, 2nd Stage, Banashankari, ...                  Jalsa   \n",
       "1  2nd Floor, 80 Feet Road, Near Big Bazaar, 6th ...         Spice Elephant   \n",
       "2  1112, Next to KIMS Medical College, 17th Cross...        San Churro Cafe   \n",
       "3  1st Floor, Annakuteera, 3rd Stage, Banashankar...  Addhuri Udupi Bhojana   \n",
       "4  10, 3rd Floor, Lakshmi Associates, Gandhi Baza...          Grand Village   \n",
       "\n",
       "  online_order book_table  rate  votes      location            rest_type  \\\n",
       "0         True       True   4.1    775  Banashankari        Casual Dining   \n",
       "1         True      False   4.1    787  Banashankari        Casual Dining   \n",
       "2         True      False   3.8    918  Banashankari  Cafe, Casual Dining   \n",
       "3        False      False   3.7     88  Banashankari          Quick Bites   \n",
       "4        False      False   3.8    166  Basavanagudi        Casual Dining   \n",
       "\n",
       "                         cuisines   cost  \\\n",
       "0  North Indian, Mughlai, Chinese  800.0   \n",
       "1     Chinese, North Indian, Thai  800.0   \n",
       "2          Cafe, Mexican, Italian  800.0   \n",
       "3      South Indian, North Indian  300.0   \n",
       "4        North Indian, Rajasthani  600.0   \n",
       "\n",
       "                                        reviews_list menu_item    type  \\\n",
       "0  rated 40 ratedn beautiful place dine inthe int...        []  Buffet   \n",
       "1  rated 40 ratedn dinner family turned good choo...        []  Buffet   \n",
       "2  rated 30 ratedn ambience good enough pocket fr...        []  Buffet   \n",
       "3  rated 40 ratedn great food proper karnataka st...        []  Buffet   \n",
       "4  rated 40 ratedn good restaurant neighbourhood ...        []  Buffet   \n",
       "\n",
       "           city  Mean Rating  \n",
       "0  Banashankari         3.99  \n",
       "1  Banashankari         3.97  \n",
       "2  Banashankari         3.58  \n",
       "3  Banashankari         3.45  \n",
       "4  Banashankari         3.58  "
      ]
     },
     "execution_count": 48,
     "metadata": {},
     "output_type": "execute_result"
    }
   ],
   "source": [
    "data1.head()\n"
   ]
  },
  {
   "cell_type": "code",
   "execution_count": 49,
   "id": "57c1eb48",
   "metadata": {
    "execution": {
     "iopub.execute_input": "2024-11-28T03:59:01.855933Z",
     "iopub.status.busy": "2024-11-28T03:59:01.855518Z",
     "iopub.status.idle": "2024-11-28T03:59:01.862862Z",
     "shell.execute_reply": "2024-11-28T03:59:01.861751Z"
    },
    "papermill": {
     "duration": 0.029361,
     "end_time": "2024-11-28T03:59:01.865083",
     "exception": false,
     "start_time": "2024-11-28T03:59:01.835722",
     "status": "completed"
    },
    "tags": []
   },
   "outputs": [
    {
     "data": {
      "text/plain": [
       "(41237, 15)"
      ]
     },
     "execution_count": 49,
     "metadata": {},
     "output_type": "execute_result"
    }
   ],
   "source": [
    "data1.shape"
   ]
  },
  {
   "cell_type": "code",
   "execution_count": 50,
   "id": "d22be10f",
   "metadata": {
    "execution": {
     "iopub.execute_input": "2024-11-28T03:59:01.903833Z",
     "iopub.status.busy": "2024-11-28T03:59:01.903383Z",
     "iopub.status.idle": "2024-11-28T03:59:01.910708Z",
     "shell.execute_reply": "2024-11-28T03:59:01.909569Z"
    },
    "papermill": {
     "duration": 0.029434,
     "end_time": "2024-11-28T03:59:01.912904",
     "exception": false,
     "start_time": "2024-11-28T03:59:01.883470",
     "status": "completed"
    },
    "tags": []
   },
   "outputs": [
    {
     "data": {
      "text/plain": [
       "Index(['address', 'name', 'online_order', 'book_table', 'rate', 'votes',\n",
       "       'location', 'rest_type', 'cuisines', 'cost', 'reviews_list',\n",
       "       'menu_item', 'type', 'city', 'Mean Rating'],\n",
       "      dtype='object')"
      ]
     },
     "execution_count": 50,
     "metadata": {},
     "output_type": "execute_result"
    }
   ],
   "source": [
    "data1.columns\n"
   ]
  },
  {
   "cell_type": "code",
   "execution_count": 51,
   "id": "54b26d78",
   "metadata": {
    "execution": {
     "iopub.execute_input": "2024-11-28T03:59:01.951838Z",
     "iopub.status.busy": "2024-11-28T03:59:01.951185Z",
     "iopub.status.idle": "2024-11-28T03:59:01.963050Z",
     "shell.execute_reply": "2024-11-28T03:59:01.961813Z"
    },
    "papermill": {
     "duration": 0.034184,
     "end_time": "2024-11-28T03:59:01.965543",
     "exception": false,
     "start_time": "2024-11-28T03:59:01.931359",
     "status": "completed"
    },
    "tags": []
   },
   "outputs": [],
   "source": [
    "data1 = data1.drop(['address','rest_type', 'type', 'menu_item', 'votes'],axis=1)"
   ]
  },
  {
   "cell_type": "code",
   "execution_count": 52,
   "id": "a5e7fb94",
   "metadata": {
    "execution": {
     "iopub.execute_input": "2024-11-28T03:59:02.005378Z",
     "iopub.status.busy": "2024-11-28T03:59:02.004971Z",
     "iopub.status.idle": "2024-11-28T03:59:02.011767Z",
     "shell.execute_reply": "2024-11-28T03:59:02.010705Z"
    },
    "papermill": {
     "duration": 0.02973,
     "end_time": "2024-11-28T03:59:02.013950",
     "exception": false,
     "start_time": "2024-11-28T03:59:01.984220",
     "status": "completed"
    },
    "tags": []
   },
   "outputs": [
    {
     "data": {
      "text/plain": [
       "Index(['name', 'online_order', 'book_table', 'rate', 'location', 'cuisines',\n",
       "       'cost', 'reviews_list', 'city', 'Mean Rating'],\n",
       "      dtype='object')"
      ]
     },
     "execution_count": 52,
     "metadata": {},
     "output_type": "execute_result"
    }
   ],
   "source": [
    "data1.columns"
   ]
  },
  {
   "cell_type": "code",
   "execution_count": 53,
   "id": "fa0a87bf",
   "metadata": {
    "execution": {
     "iopub.execute_input": "2024-11-28T03:59:02.115215Z",
     "iopub.status.busy": "2024-11-28T03:59:02.114795Z",
     "iopub.status.idle": "2024-11-28T03:59:02.130251Z",
     "shell.execute_reply": "2024-11-28T03:59:02.128945Z"
    },
    "papermill": {
     "duration": 0.042775,
     "end_time": "2024-11-28T03:59:02.133476",
     "exception": false,
     "start_time": "2024-11-28T03:59:02.090701",
     "status": "completed"
    },
    "tags": []
   },
   "outputs": [],
   "source": [
    "\n",
    "\n",
    "# Randomly sample 60% of your dataframe\n",
    "df_percent = data1.sample(frac=0.5)"
   ]
  },
  {
   "cell_type": "code",
   "execution_count": 54,
   "id": "79eb7634",
   "metadata": {
    "execution": {
     "iopub.execute_input": "2024-11-28T03:59:02.175882Z",
     "iopub.status.busy": "2024-11-28T03:59:02.175458Z",
     "iopub.status.idle": "2024-11-28T03:59:02.182169Z",
     "shell.execute_reply": "2024-11-28T03:59:02.181107Z"
    },
    "papermill": {
     "duration": 0.031042,
     "end_time": "2024-11-28T03:59:02.184331",
     "exception": false,
     "start_time": "2024-11-28T03:59:02.153289",
     "status": "completed"
    },
    "tags": []
   },
   "outputs": [
    {
     "data": {
      "text/plain": [
       "(20618, 10)"
      ]
     },
     "execution_count": 54,
     "metadata": {},
     "output_type": "execute_result"
    }
   ],
   "source": [
    "df_percent.shape"
   ]
  },
  {
   "cell_type": "markdown",
   "id": "096b4445",
   "metadata": {
    "papermill": {
     "duration": 0.018257,
     "end_time": "2024-11-28T03:59:02.221318",
     "exception": false,
     "start_time": "2024-11-28T03:59:02.203061",
     "status": "completed"
    },
    "tags": []
   },
   "source": [
    "# TF-IDF "
   ]
  },
  {
   "cell_type": "code",
   "execution_count": 55,
   "id": "3119c43d",
   "metadata": {
    "execution": {
     "iopub.execute_input": "2024-11-28T03:59:02.260303Z",
     "iopub.status.busy": "2024-11-28T03:59:02.259930Z",
     "iopub.status.idle": "2024-11-28T03:59:02.267557Z",
     "shell.execute_reply": "2024-11-28T03:59:02.266204Z"
    },
    "papermill": {
     "duration": 0.030241,
     "end_time": "2024-11-28T03:59:02.270053",
     "exception": false,
     "start_time": "2024-11-28T03:59:02.239812",
     "status": "completed"
    },
    "tags": []
   },
   "outputs": [
    {
     "data": {
      "text/plain": [
       "Index(['name', 'online_order', 'book_table', 'rate', 'location', 'cuisines',\n",
       "       'cost', 'reviews_list', 'city', 'Mean Rating'],\n",
       "      dtype='object')"
      ]
     },
     "execution_count": 55,
     "metadata": {},
     "output_type": "execute_result"
    }
   ],
   "source": [
    "df_percent.columns"
   ]
  },
  {
   "cell_type": "code",
   "execution_count": 56,
   "id": "fe8398c6",
   "metadata": {
    "execution": {
     "iopub.execute_input": "2024-11-28T03:59:02.309937Z",
     "iopub.status.busy": "2024-11-28T03:59:02.309560Z",
     "iopub.status.idle": "2024-11-28T03:59:02.315609Z",
     "shell.execute_reply": "2024-11-28T03:59:02.314578Z"
    },
    "papermill": {
     "duration": 0.028405,
     "end_time": "2024-11-28T03:59:02.317882",
     "exception": false,
     "start_time": "2024-11-28T03:59:02.289477",
     "status": "completed"
    },
    "tags": []
   },
   "outputs": [],
   "source": [
    "df_percent.set_index('name', inplace=True)\n"
   ]
  },
  {
   "cell_type": "code",
   "execution_count": 57,
   "id": "93e8406d",
   "metadata": {
    "execution": {
     "iopub.execute_input": "2024-11-28T03:59:02.356701Z",
     "iopub.status.busy": "2024-11-28T03:59:02.356298Z",
     "iopub.status.idle": "2024-11-28T03:59:02.363394Z",
     "shell.execute_reply": "2024-11-28T03:59:02.362222Z"
    },
    "papermill": {
     "duration": 0.029194,
     "end_time": "2024-11-28T03:59:02.365632",
     "exception": false,
     "start_time": "2024-11-28T03:59:02.336438",
     "status": "completed"
    },
    "tags": []
   },
   "outputs": [
    {
     "data": {
      "text/plain": [
       "(20618, 9)"
      ]
     },
     "execution_count": 57,
     "metadata": {},
     "output_type": "execute_result"
    }
   ],
   "source": [
    "df_percent.shape"
   ]
  },
  {
   "cell_type": "code",
   "execution_count": null,
   "id": "9d7cca90",
   "metadata": {
    "papermill": {
     "duration": 0.01924,
     "end_time": "2024-11-28T03:59:02.404205",
     "exception": false,
     "start_time": "2024-11-28T03:59:02.384965",
     "status": "completed"
    },
    "tags": []
   },
   "outputs": [],
   "source": []
  },
  {
   "cell_type": "code",
   "execution_count": 58,
   "id": "933b3bb7",
   "metadata": {
    "execution": {
     "iopub.execute_input": "2024-11-28T03:59:02.444062Z",
     "iopub.status.busy": "2024-11-28T03:59:02.443675Z",
     "iopub.status.idle": "2024-11-28T03:59:02.451314Z",
     "shell.execute_reply": "2024-11-28T03:59:02.450141Z"
    },
    "papermill": {
     "duration": 0.030523,
     "end_time": "2024-11-28T03:59:02.453635",
     "exception": false,
     "start_time": "2024-11-28T03:59:02.423112",
     "status": "completed"
    },
    "tags": []
   },
   "outputs": [
    {
     "data": {
      "text/plain": [
       "Index(['online_order', 'book_table', 'rate', 'location', 'cuisines', 'cost',\n",
       "       'reviews_list', 'city', 'Mean Rating'],\n",
       "      dtype='object')"
      ]
     },
     "execution_count": 58,
     "metadata": {},
     "output_type": "execute_result"
    }
   ],
   "source": [
    "df_percent.columns"
   ]
  },
  {
   "cell_type": "code",
   "execution_count": 59,
   "id": "2407312e",
   "metadata": {
    "execution": {
     "iopub.execute_input": "2024-11-28T03:59:02.494576Z",
     "iopub.status.busy": "2024-11-28T03:59:02.494155Z",
     "iopub.status.idle": "2024-11-28T03:59:02.500574Z",
     "shell.execute_reply": "2024-11-28T03:59:02.499363Z"
    },
    "papermill": {
     "duration": 0.029467,
     "end_time": "2024-11-28T03:59:02.502817",
     "exception": false,
     "start_time": "2024-11-28T03:59:02.473350",
     "status": "completed"
    },
    "tags": []
   },
   "outputs": [],
   "source": [
    "indices = pd.Series(df_percent.index)"
   ]
  },
  {
   "cell_type": "code",
   "execution_count": 60,
   "id": "7127fcae",
   "metadata": {
    "execution": {
     "iopub.execute_input": "2024-11-28T03:59:02.543797Z",
     "iopub.status.busy": "2024-11-28T03:59:02.543225Z",
     "iopub.status.idle": "2024-11-28T03:59:52.016108Z",
     "shell.execute_reply": "2024-11-28T03:59:52.015045Z"
    },
    "papermill": {
     "duration": 49.496255,
     "end_time": "2024-11-28T03:59:52.018649",
     "exception": false,
     "start_time": "2024-11-28T03:59:02.522394",
     "status": "completed"
    },
    "tags": []
   },
   "outputs": [],
   "source": [
    "# Creating tf-idf matrix\n",
    "tfidf = TfidfVectorizer(analyzer='word', ngram_range=(1, 2), min_df=0, stop_words='english')\n",
    "tfidf_matrix = tfidf.fit_transform(df_percent['reviews_list'])"
   ]
  },
  {
   "cell_type": "code",
   "execution_count": 61,
   "id": "0d99133c",
   "metadata": {
    "execution": {
     "iopub.execute_input": "2024-11-28T03:59:52.059465Z",
     "iopub.status.busy": "2024-11-28T03:59:52.059075Z",
     "iopub.status.idle": "2024-11-28T04:01:00.657517Z",
     "shell.execute_reply": "2024-11-28T04:01:00.656446Z"
    },
    "papermill": {
     "duration": 68.622172,
     "end_time": "2024-11-28T04:01:00.660925",
     "exception": false,
     "start_time": "2024-11-28T03:59:52.038753",
     "status": "completed"
    },
    "tags": []
   },
   "outputs": [],
   "source": [
    "cosine_similarities = linear_kernel(tfidf_matrix, tfidf_matrix)"
   ]
  },
  {
   "cell_type": "code",
   "execution_count": 62,
   "id": "18e8d01d",
   "metadata": {
    "execution": {
     "iopub.execute_input": "2024-11-28T04:01:00.701473Z",
     "iopub.status.busy": "2024-11-28T04:01:00.701035Z",
     "iopub.status.idle": "2024-11-28T04:01:00.711163Z",
     "shell.execute_reply": "2024-11-28T04:01:00.709741Z"
    },
    "papermill": {
     "duration": 0.032836,
     "end_time": "2024-11-28T04:01:00.713587",
     "exception": false,
     "start_time": "2024-11-28T04:01:00.680751",
     "status": "completed"
    },
    "tags": []
   },
   "outputs": [],
   "source": [
    "def recommend(name, cosine_similarities=cosine_similarities):\n",
    "    \n",
    "    # Create a list to store recommended restaurant names\n",
    "    recommend_restaurant = []\n",
    "    \n",
    "    # Find the index of the restaurant entered\n",
    "    idx = indices[indices == name].index[0]\n",
    "    \n",
    "    # Find restaurants with a similar cosine similarity value and order them in descending order\n",
    "    score_series = pd.Series(cosine_similarities[idx]).sort_values(ascending=False)\n",
    "    \n",
    "    # Extract top 30 restaurant indexes with a similar cosine similarity value\n",
    "    top30_indexes = list(score_series.iloc[0:31].index)\n",
    "    \n",
    "    # Get the names of the top 30 restaurants\n",
    "    for each in top30_indexes:\n",
    "        recommend_restaurant.append(list(df_percent.index)[each])\n",
    "    \n",
    "    # Creating a new DataFrame to show similar restaurants\n",
    "    df_new = pd.DataFrame(columns=['name', 'cuisines', 'Mean Rating', 'cost'])\n",
    "    \n",
    "    # List to hold DataFrames for each similar restaurant\n",
    "    temp_dfs = []\n",
    "    \n",
    "    # Populate `temp_dfs` with restaurant data, including the name as a new column\n",
    "    for each in recommend_restaurant:\n",
    "        temp_df = df_percent[['cuisines', 'Mean Rating', 'cost']][df_percent.index == each].sample()\n",
    "        temp_df['name'] = each  # Add restaurant name as a column\n",
    "        temp_dfs.append(temp_df)\n",
    "    \n",
    "    # Concatenate all temporary DataFrames into `df_new`\n",
    "    df_new = pd.concat(temp_dfs, ignore_index=True)\n",
    "    \n",
    "    # Drop duplicates and sort by the highest rating\n",
    "    df_new = df_new.drop_duplicates(subset=['name', 'cuisines', 'Mean Rating', 'cost'], keep=False)\n",
    "    df_new = df_new.sort_values(by='Mean Rating', ascending=False).head(10)\n",
    "    \n",
    "    print('TOP %s RESTAURANTS LIKE %s WITH SIMILAR REVIEWS:' % (str(len(df_new)), name))\n",
    "    \n",
    "    return df_new\n"
   ]
  },
  {
   "cell_type": "code",
   "execution_count": 63,
   "id": "409555f9",
   "metadata": {
    "execution": {
     "iopub.execute_input": "2024-11-28T04:01:00.752923Z",
     "iopub.status.busy": "2024-11-28T04:01:00.752399Z",
     "iopub.status.idle": "2024-11-28T04:01:00.772758Z",
     "shell.execute_reply": "2024-11-28T04:01:00.771671Z"
    },
    "papermill": {
     "duration": 0.042384,
     "end_time": "2024-11-28T04:01:00.774922",
     "exception": false,
     "start_time": "2024-11-28T04:01:00.732538",
     "status": "completed"
    },
    "tags": []
   },
   "outputs": [
    {
     "data": {
      "text/html": [
       "<div>\n",
       "<style scoped>\n",
       "    .dataframe tbody tr th:only-of-type {\n",
       "        vertical-align: middle;\n",
       "    }\n",
       "\n",
       "    .dataframe tbody tr th {\n",
       "        vertical-align: top;\n",
       "    }\n",
       "\n",
       "    .dataframe thead th {\n",
       "        text-align: right;\n",
       "    }\n",
       "</style>\n",
       "<table border=\"1\" class=\"dataframe\">\n",
       "  <thead>\n",
       "    <tr style=\"text-align: right;\">\n",
       "      <th></th>\n",
       "      <th>online_order</th>\n",
       "      <th>book_table</th>\n",
       "      <th>rate</th>\n",
       "      <th>location</th>\n",
       "      <th>cuisines</th>\n",
       "      <th>cost</th>\n",
       "      <th>reviews_list</th>\n",
       "      <th>city</th>\n",
       "      <th>Mean Rating</th>\n",
       "    </tr>\n",
       "    <tr>\n",
       "      <th>name</th>\n",
       "      <th></th>\n",
       "      <th></th>\n",
       "      <th></th>\n",
       "      <th></th>\n",
       "      <th></th>\n",
       "      <th></th>\n",
       "      <th></th>\n",
       "      <th></th>\n",
       "      <th></th>\n",
       "    </tr>\n",
       "  </thead>\n",
       "  <tbody>\n",
       "    <tr>\n",
       "      <th>Pai Vihar</th>\n",
       "      <td>True</td>\n",
       "      <td>False</td>\n",
       "      <td>2.8</td>\n",
       "      <td>Vasanth Nagar</td>\n",
       "      <td>South Indian, Street Food, Chinese, Fast Food</td>\n",
       "      <td>400.0</td>\n",
       "      <td>rated 30 ratedn 12 rate herenneven though tast...</td>\n",
       "      <td>Church Street</td>\n",
       "      <td>2.48</td>\n",
       "    </tr>\n",
       "    <tr>\n",
       "      <th>Pai Vihar</th>\n",
       "      <td>True</td>\n",
       "      <td>False</td>\n",
       "      <td>2.8</td>\n",
       "      <td>Vasanth Nagar</td>\n",
       "      <td>South Indian, Street Food, Chinese, Fast Food</td>\n",
       "      <td>400.0</td>\n",
       "      <td>rated 30 ratedn 12 rate herenneven though tast...</td>\n",
       "      <td>Frazer Town</td>\n",
       "      <td>2.48</td>\n",
       "    </tr>\n",
       "    <tr>\n",
       "      <th>Pai Vihar</th>\n",
       "      <td>False</td>\n",
       "      <td>False</td>\n",
       "      <td>3.2</td>\n",
       "      <td>City Market</td>\n",
       "      <td>South Indian, Street Food, Chinese, Fast Food</td>\n",
       "      <td>400.0</td>\n",
       "      <td>rated 20 ratedn food dry bland dont understand...</td>\n",
       "      <td>Church Street</td>\n",
       "      <td>2.48</td>\n",
       "    </tr>\n",
       "    <tr>\n",
       "      <th>Pai Vihar</th>\n",
       "      <td>True</td>\n",
       "      <td>False</td>\n",
       "      <td>2.8</td>\n",
       "      <td>Vasanth Nagar</td>\n",
       "      <td>South Indian, Street Food, Chinese, Fast Food</td>\n",
       "      <td>400.0</td>\n",
       "      <td>rated 30 ratedn 12 rate hereãx83ãx83ãx82ãx...</td>\n",
       "      <td>MG Road</td>\n",
       "      <td>2.48</td>\n",
       "    </tr>\n",
       "    <tr>\n",
       "      <th>Pai Vihar</th>\n",
       "      <td>True</td>\n",
       "      <td>False</td>\n",
       "      <td>2.8</td>\n",
       "      <td>Vasanth Nagar</td>\n",
       "      <td>South Indian, Street Food, Chinese, Fast Food</td>\n",
       "      <td>400.0</td>\n",
       "      <td>rated 30 ratedn 12 rate hereãx83ãx83ãx82ãx...</td>\n",
       "      <td>Malleshwaram</td>\n",
       "      <td>2.48</td>\n",
       "    </tr>\n",
       "  </tbody>\n",
       "</table>\n",
       "</div>"
      ],
      "text/plain": [
       "          online_order book_table  rate       location  \\\n",
       "name                                                     \n",
       "Pai Vihar         True      False   2.8  Vasanth Nagar   \n",
       "Pai Vihar         True      False   2.8  Vasanth Nagar   \n",
       "Pai Vihar        False      False   3.2    City Market   \n",
       "Pai Vihar         True      False   2.8  Vasanth Nagar   \n",
       "Pai Vihar         True      False   2.8  Vasanth Nagar   \n",
       "\n",
       "                                                cuisines   cost  \\\n",
       "name                                                              \n",
       "Pai Vihar  South Indian, Street Food, Chinese, Fast Food  400.0   \n",
       "Pai Vihar  South Indian, Street Food, Chinese, Fast Food  400.0   \n",
       "Pai Vihar  South Indian, Street Food, Chinese, Fast Food  400.0   \n",
       "Pai Vihar  South Indian, Street Food, Chinese, Fast Food  400.0   \n",
       "Pai Vihar  South Indian, Street Food, Chinese, Fast Food  400.0   \n",
       "\n",
       "                                                reviews_list           city  \\\n",
       "name                                                                          \n",
       "Pai Vihar  rated 30 ratedn 12 rate herenneven though tast...  Church Street   \n",
       "Pai Vihar  rated 30 ratedn 12 rate herenneven though tast...    Frazer Town   \n",
       "Pai Vihar  rated 20 ratedn food dry bland dont understand...  Church Street   \n",
       "Pai Vihar  rated 30 ratedn 12 rate hereãx83ãx83ãx82ãx...        MG Road   \n",
       "Pai Vihar  rated 30 ratedn 12 rate hereãx83ãx83ãx82ãx...   Malleshwaram   \n",
       "\n",
       "           Mean Rating  \n",
       "name                    \n",
       "Pai Vihar         2.48  \n",
       "Pai Vihar         2.48  \n",
       "Pai Vihar         2.48  \n",
       "Pai Vihar         2.48  \n",
       "Pai Vihar         2.48  "
      ]
     },
     "execution_count": 63,
     "metadata": {},
     "output_type": "execute_result"
    }
   ],
   "source": [
    "# HERE IS A RANDOM RESTAURANT. LET'S SEE THE DETAILS ABOUT THIS RESTAURANT:\n",
    "df_percent[df_percent.index == 'Pai Vihar'].head()"
   ]
  },
  {
   "cell_type": "code",
   "execution_count": 64,
   "id": "a5822314",
   "metadata": {
    "execution": {
     "iopub.execute_input": "2024-11-28T04:01:00.814691Z",
     "iopub.status.busy": "2024-11-28T04:01:00.814261Z",
     "iopub.status.idle": "2024-11-28T04:01:01.043917Z",
     "shell.execute_reply": "2024-11-28T04:01:01.042652Z"
    },
    "papermill": {
     "duration": 0.251931,
     "end_time": "2024-11-28T04:01:01.046084",
     "exception": false,
     "start_time": "2024-11-28T04:01:00.794153",
     "status": "completed"
    },
    "tags": []
   },
   "outputs": [
    {
     "name": "stdout",
     "output_type": "stream",
     "text": [
      "TOP 6 RESTAURANTS LIKE Pai Vihar WITH SIMILAR REVIEWS:\n"
     ]
    },
    {
     "data": {
      "text/html": [
       "<div>\n",
       "<style scoped>\n",
       "    .dataframe tbody tr th:only-of-type {\n",
       "        vertical-align: middle;\n",
       "    }\n",
       "\n",
       "    .dataframe tbody tr th {\n",
       "        vertical-align: top;\n",
       "    }\n",
       "\n",
       "    .dataframe thead th {\n",
       "        text-align: right;\n",
       "    }\n",
       "</style>\n",
       "<table border=\"1\" class=\"dataframe\">\n",
       "  <thead>\n",
       "    <tr style=\"text-align: right;\">\n",
       "      <th></th>\n",
       "      <th>cuisines</th>\n",
       "      <th>Mean Rating</th>\n",
       "      <th>cost</th>\n",
       "      <th>name</th>\n",
       "    </tr>\n",
       "  </thead>\n",
       "  <tbody>\n",
       "    <tr>\n",
       "      <th>28</th>\n",
       "      <td>North Indian, Chinese, Biryani</td>\n",
       "      <td>3.62</td>\n",
       "      <td>550.0</td>\n",
       "      <td>Cinnamon</td>\n",
       "    </tr>\n",
       "    <tr>\n",
       "      <th>29</th>\n",
       "      <td>North Indian, Asian, Continental</td>\n",
       "      <td>3.62</td>\n",
       "      <td>1.0</td>\n",
       "      <td>Cinnamon</td>\n",
       "    </tr>\n",
       "    <tr>\n",
       "      <th>10</th>\n",
       "      <td>North Indian, Mithai</td>\n",
       "      <td>3.60</td>\n",
       "      <td>250.0</td>\n",
       "      <td>Samosa Singh</td>\n",
       "    </tr>\n",
       "    <tr>\n",
       "      <th>24</th>\n",
       "      <td>Cafe, South Indian</td>\n",
       "      <td>3.45</td>\n",
       "      <td>150.0</td>\n",
       "      <td>Shrusti Coffee</td>\n",
       "    </tr>\n",
       "    <tr>\n",
       "      <th>30</th>\n",
       "      <td>North Indian, Chinese, Andhra, Biryani</td>\n",
       "      <td>3.32</td>\n",
       "      <td>700.0</td>\n",
       "      <td>The Diner</td>\n",
       "    </tr>\n",
       "    <tr>\n",
       "      <th>6</th>\n",
       "      <td>South Indian</td>\n",
       "      <td>3.11</td>\n",
       "      <td>200.0</td>\n",
       "      <td>Container Coffee</td>\n",
       "    </tr>\n",
       "  </tbody>\n",
       "</table>\n",
       "</div>"
      ],
      "text/plain": [
       "                                  cuisines  Mean Rating   cost  \\\n",
       "28          North Indian, Chinese, Biryani         3.62  550.0   \n",
       "29        North Indian, Asian, Continental         3.62    1.0   \n",
       "10                    North Indian, Mithai         3.60  250.0   \n",
       "24                      Cafe, South Indian         3.45  150.0   \n",
       "30  North Indian, Chinese, Andhra, Biryani         3.32  700.0   \n",
       "6                             South Indian         3.11  200.0   \n",
       "\n",
       "                name  \n",
       "28          Cinnamon  \n",
       "29          Cinnamon  \n",
       "10      Samosa Singh  \n",
       "24    Shrusti Coffee  \n",
       "30         The Diner  \n",
       "6   Container Coffee  "
      ]
     },
     "execution_count": 64,
     "metadata": {},
     "output_type": "execute_result"
    }
   ],
   "source": [
    "recommend('Pai Vihar')\n"
   ]
  },
  {
   "cell_type": "code",
   "execution_count": 65,
   "id": "0c3299e0",
   "metadata": {
    "execution": {
     "iopub.execute_input": "2024-11-28T04:01:01.088045Z",
     "iopub.status.busy": "2024-11-28T04:01:01.087594Z",
     "iopub.status.idle": "2024-11-28T04:01:01.319302Z",
     "shell.execute_reply": "2024-11-28T04:01:01.318075Z"
    },
    "papermill": {
     "duration": 0.25631,
     "end_time": "2024-11-28T04:01:01.321618",
     "exception": false,
     "start_time": "2024-11-28T04:01:01.065308",
     "status": "completed"
    },
    "tags": []
   },
   "outputs": [
    {
     "name": "stdout",
     "output_type": "stream",
     "text": [
      "TOP 9 RESTAURANTS LIKE Atithi WITH SIMILAR REVIEWS:\n"
     ]
    },
    {
     "data": {
      "text/html": [
       "<div>\n",
       "<style scoped>\n",
       "    .dataframe tbody tr th:only-of-type {\n",
       "        vertical-align: middle;\n",
       "    }\n",
       "\n",
       "    .dataframe tbody tr th {\n",
       "        vertical-align: top;\n",
       "    }\n",
       "\n",
       "    .dataframe thead th {\n",
       "        text-align: right;\n",
       "    }\n",
       "</style>\n",
       "<table border=\"1\" class=\"dataframe\">\n",
       "  <thead>\n",
       "    <tr style=\"text-align: right;\">\n",
       "      <th></th>\n",
       "      <th>cuisines</th>\n",
       "      <th>Mean Rating</th>\n",
       "      <th>cost</th>\n",
       "      <th>name</th>\n",
       "    </tr>\n",
       "  </thead>\n",
       "  <tbody>\n",
       "    <tr>\n",
       "      <th>30</th>\n",
       "      <td>Continental, Finger Food, North Indian, Chinese</td>\n",
       "      <td>4.22</td>\n",
       "      <td>1.2</td>\n",
       "      <td>Crawl Street</td>\n",
       "    </tr>\n",
       "    <tr>\n",
       "      <th>7</th>\n",
       "      <td>North Indian, Street Food, Chinese</td>\n",
       "      <td>3.97</td>\n",
       "      <td>800.0</td>\n",
       "      <td>Bhartiya Jalpan</td>\n",
       "    </tr>\n",
       "    <tr>\n",
       "      <th>11</th>\n",
       "      <td>North Indian</td>\n",
       "      <td>3.88</td>\n",
       "      <td>950.0</td>\n",
       "      <td>Bathinda Dine</td>\n",
       "    </tr>\n",
       "    <tr>\n",
       "      <th>1</th>\n",
       "      <td>North Indian</td>\n",
       "      <td>3.63</td>\n",
       "      <td>750.0</td>\n",
       "      <td>Atithi</td>\n",
       "    </tr>\n",
       "    <tr>\n",
       "      <th>9</th>\n",
       "      <td>Street Food, Fast Food</td>\n",
       "      <td>3.45</td>\n",
       "      <td>250.0</td>\n",
       "      <td>Bombay Food Express</td>\n",
       "    </tr>\n",
       "    <tr>\n",
       "      <th>18</th>\n",
       "      <td>Chinese, North Indian, South Indian</td>\n",
       "      <td>3.45</td>\n",
       "      <td>400.0</td>\n",
       "      <td>Kadamba Foodline</td>\n",
       "    </tr>\n",
       "    <tr>\n",
       "      <th>22</th>\n",
       "      <td>North Indian</td>\n",
       "      <td>3.41</td>\n",
       "      <td>200.0</td>\n",
       "      <td>Paratha Plaza</td>\n",
       "    </tr>\n",
       "    <tr>\n",
       "      <th>2</th>\n",
       "      <td>North Indian, Street Food, Mithai</td>\n",
       "      <td>3.16</td>\n",
       "      <td>300.0</td>\n",
       "      <td>Bangalore Agarwal Bhavan</td>\n",
       "    </tr>\n",
       "    <tr>\n",
       "      <th>21</th>\n",
       "      <td>North Indian, Chinese</td>\n",
       "      <td>2.42</td>\n",
       "      <td>450.0</td>\n",
       "      <td>Golden Food Palace</td>\n",
       "    </tr>\n",
       "  </tbody>\n",
       "</table>\n",
       "</div>"
      ],
      "text/plain": [
       "                                           cuisines  Mean Rating   cost  \\\n",
       "30  Continental, Finger Food, North Indian, Chinese         4.22    1.2   \n",
       "7                North Indian, Street Food, Chinese         3.97  800.0   \n",
       "11                                     North Indian         3.88  950.0   \n",
       "1                                      North Indian         3.63  750.0   \n",
       "9                            Street Food, Fast Food         3.45  250.0   \n",
       "18              Chinese, North Indian, South Indian         3.45  400.0   \n",
       "22                                     North Indian         3.41  200.0   \n",
       "2                 North Indian, Street Food, Mithai         3.16  300.0   \n",
       "21                            North Indian, Chinese         2.42  450.0   \n",
       "\n",
       "                        name  \n",
       "30              Crawl Street  \n",
       "7            Bhartiya Jalpan  \n",
       "11             Bathinda Dine  \n",
       "1                     Atithi  \n",
       "9        Bombay Food Express  \n",
       "18          Kadamba Foodline  \n",
       "22             Paratha Plaza  \n",
       "2   Bangalore Agarwal Bhavan  \n",
       "21        Golden Food Palace  "
      ]
     },
     "execution_count": 65,
     "metadata": {},
     "output_type": "execute_result"
    }
   ],
   "source": [
    "recommend('Atithi')"
   ]
  },
  {
   "cell_type": "code",
   "execution_count": 66,
   "id": "56e26c0a",
   "metadata": {
    "execution": {
     "iopub.execute_input": "2024-11-28T04:01:01.362697Z",
     "iopub.status.busy": "2024-11-28T04:01:01.362284Z",
     "iopub.status.idle": "2024-11-28T04:01:01.381999Z",
     "shell.execute_reply": "2024-11-28T04:01:01.380931Z"
    },
    "papermill": {
     "duration": 0.042756,
     "end_time": "2024-11-28T04:01:01.384197",
     "exception": false,
     "start_time": "2024-11-28T04:01:01.341441",
     "status": "completed"
    },
    "tags": []
   },
   "outputs": [
    {
     "data": {
      "text/html": [
       "<div>\n",
       "<style scoped>\n",
       "    .dataframe tbody tr th:only-of-type {\n",
       "        vertical-align: middle;\n",
       "    }\n",
       "\n",
       "    .dataframe tbody tr th {\n",
       "        vertical-align: top;\n",
       "    }\n",
       "\n",
       "    .dataframe thead th {\n",
       "        text-align: right;\n",
       "    }\n",
       "</style>\n",
       "<table border=\"1\" class=\"dataframe\">\n",
       "  <thead>\n",
       "    <tr style=\"text-align: right;\">\n",
       "      <th></th>\n",
       "      <th>online_order</th>\n",
       "      <th>book_table</th>\n",
       "      <th>rate</th>\n",
       "      <th>location</th>\n",
       "      <th>cuisines</th>\n",
       "      <th>cost</th>\n",
       "      <th>reviews_list</th>\n",
       "      <th>city</th>\n",
       "      <th>Mean Rating</th>\n",
       "    </tr>\n",
       "    <tr>\n",
       "      <th>name</th>\n",
       "      <th></th>\n",
       "      <th></th>\n",
       "      <th></th>\n",
       "      <th></th>\n",
       "      <th></th>\n",
       "      <th></th>\n",
       "      <th></th>\n",
       "      <th></th>\n",
       "      <th></th>\n",
       "    </tr>\n",
       "  </thead>\n",
       "  <tbody>\n",
       "    <tr>\n",
       "      <th>Cinnamon</th>\n",
       "      <td>True</td>\n",
       "      <td>False</td>\n",
       "      <td>3.9</td>\n",
       "      <td>HSR</td>\n",
       "      <td>North Indian, Chinese, Biryani</td>\n",
       "      <td>550.0</td>\n",
       "      <td>rated 50 ratedn food restaurant truely matches...</td>\n",
       "      <td>HSR</td>\n",
       "      <td>3.62</td>\n",
       "    </tr>\n",
       "    <tr>\n",
       "      <th>Cinnamon</th>\n",
       "      <td>True</td>\n",
       "      <td>False</td>\n",
       "      <td>3.9</td>\n",
       "      <td>HSR</td>\n",
       "      <td>North Indian, Chinese, Biryani</td>\n",
       "      <td>550.0</td>\n",
       "      <td>rated 50 ratedn food restaurant truely matches...</td>\n",
       "      <td>Koramangala 4th Block</td>\n",
       "      <td>3.62</td>\n",
       "    </tr>\n",
       "    <tr>\n",
       "      <th>Cinnamon</th>\n",
       "      <td>False</td>\n",
       "      <td>False</td>\n",
       "      <td>3.7</td>\n",
       "      <td>Seshadripuram</td>\n",
       "      <td>North Indian, Asian, Continental</td>\n",
       "      <td>1.0</td>\n",
       "      <td>rated 50 ratedn staying citrine hotel first da...</td>\n",
       "      <td>Lavelle Road</td>\n",
       "      <td>3.62</td>\n",
       "    </tr>\n",
       "    <tr>\n",
       "      <th>Cinnamon</th>\n",
       "      <td>True</td>\n",
       "      <td>False</td>\n",
       "      <td>3.9</td>\n",
       "      <td>HSR</td>\n",
       "      <td>North Indian, Chinese, Biryani</td>\n",
       "      <td>550.0</td>\n",
       "      <td>rated 50 ratedn food restaurant truely matches...</td>\n",
       "      <td>Koramangala 5th Block</td>\n",
       "      <td>3.62</td>\n",
       "    </tr>\n",
       "    <tr>\n",
       "      <th>Cinnamon</th>\n",
       "      <td>True</td>\n",
       "      <td>False</td>\n",
       "      <td>3.9</td>\n",
       "      <td>HSR</td>\n",
       "      <td>North Indian, Chinese, Biryani</td>\n",
       "      <td>550.0</td>\n",
       "      <td>rated 50 ratedn food restaurant truely matches...</td>\n",
       "      <td>Koramangala 6th Block</td>\n",
       "      <td>3.62</td>\n",
       "    </tr>\n",
       "  </tbody>\n",
       "</table>\n",
       "</div>"
      ],
      "text/plain": [
       "         online_order book_table  rate       location  \\\n",
       "name                                                    \n",
       "Cinnamon         True      False   3.9            HSR   \n",
       "Cinnamon         True      False   3.9            HSR   \n",
       "Cinnamon        False      False   3.7  Seshadripuram   \n",
       "Cinnamon         True      False   3.9            HSR   \n",
       "Cinnamon         True      False   3.9            HSR   \n",
       "\n",
       "                                  cuisines   cost  \\\n",
       "name                                                \n",
       "Cinnamon    North Indian, Chinese, Biryani  550.0   \n",
       "Cinnamon    North Indian, Chinese, Biryani  550.0   \n",
       "Cinnamon  North Indian, Asian, Continental    1.0   \n",
       "Cinnamon    North Indian, Chinese, Biryani  550.0   \n",
       "Cinnamon    North Indian, Chinese, Biryani  550.0   \n",
       "\n",
       "                                               reviews_list  \\\n",
       "name                                                          \n",
       "Cinnamon  rated 50 ratedn food restaurant truely matches...   \n",
       "Cinnamon  rated 50 ratedn food restaurant truely matches...   \n",
       "Cinnamon  rated 50 ratedn staying citrine hotel first da...   \n",
       "Cinnamon  rated 50 ratedn food restaurant truely matches...   \n",
       "Cinnamon  rated 50 ratedn food restaurant truely matches...   \n",
       "\n",
       "                           city  Mean Rating  \n",
       "name                                          \n",
       "Cinnamon                    HSR         3.62  \n",
       "Cinnamon  Koramangala 4th Block         3.62  \n",
       "Cinnamon           Lavelle Road         3.62  \n",
       "Cinnamon  Koramangala 5th Block         3.62  \n",
       "Cinnamon  Koramangala 6th Block         3.62  "
      ]
     },
     "execution_count": 66,
     "metadata": {},
     "output_type": "execute_result"
    }
   ],
   "source": [
    "df_percent[df_percent.index == 'Cinnamon'].head()"
   ]
  },
  {
   "cell_type": "code",
   "execution_count": 67,
   "id": "43aa7fd8",
   "metadata": {
    "execution": {
     "iopub.execute_input": "2024-11-28T04:01:01.425853Z",
     "iopub.status.busy": "2024-11-28T04:01:01.425418Z",
     "iopub.status.idle": "2024-11-28T04:01:01.646462Z",
     "shell.execute_reply": "2024-11-28T04:01:01.644962Z"
    },
    "papermill": {
     "duration": 0.244564,
     "end_time": "2024-11-28T04:01:01.648796",
     "exception": false,
     "start_time": "2024-11-28T04:01:01.404232",
     "status": "completed"
    },
    "tags": []
   },
   "outputs": [
    {
     "name": "stdout",
     "output_type": "stream",
     "text": [
      "TOP 10 RESTAURANTS LIKE Big Pitcher WITH SIMILAR REVIEWS:\n"
     ]
    },
    {
     "data": {
      "text/html": [
       "<div>\n",
       "<style scoped>\n",
       "    .dataframe tbody tr th:only-of-type {\n",
       "        vertical-align: middle;\n",
       "    }\n",
       "\n",
       "    .dataframe tbody tr th {\n",
       "        vertical-align: top;\n",
       "    }\n",
       "\n",
       "    .dataframe thead th {\n",
       "        text-align: right;\n",
       "    }\n",
       "</style>\n",
       "<table border=\"1\" class=\"dataframe\">\n",
       "  <thead>\n",
       "    <tr style=\"text-align: right;\">\n",
       "      <th></th>\n",
       "      <th>cuisines</th>\n",
       "      <th>Mean Rating</th>\n",
       "      <th>cost</th>\n",
       "      <th>name</th>\n",
       "    </tr>\n",
       "  </thead>\n",
       "  <tbody>\n",
       "    <tr>\n",
       "      <th>9</th>\n",
       "      <td>Italian, Pizza, Beverages</td>\n",
       "      <td>4.87</td>\n",
       "      <td>1.2</td>\n",
       "      <td>The Pizza Bakery</td>\n",
       "    </tr>\n",
       "    <tr>\n",
       "      <th>1</th>\n",
       "      <td>Continental, European, BBQ, Chinese, Asian</td>\n",
       "      <td>4.83</td>\n",
       "      <td>2.4</td>\n",
       "      <td>Biergarten</td>\n",
       "    </tr>\n",
       "    <tr>\n",
       "      <th>0</th>\n",
       "      <td>American, Continental, North Indian, Mediterra...</td>\n",
       "      <td>4.68</td>\n",
       "      <td>1.8</td>\n",
       "      <td>Big Pitcher</td>\n",
       "    </tr>\n",
       "    <tr>\n",
       "      <th>27</th>\n",
       "      <td>North Indian, South Indian, Continental, Asian</td>\n",
       "      <td>4.65</td>\n",
       "      <td>1.2</td>\n",
       "      <td>Hammered</td>\n",
       "    </tr>\n",
       "    <tr>\n",
       "      <th>10</th>\n",
       "      <td>American, North Indian, Chinese, Finger Food</td>\n",
       "      <td>4.61</td>\n",
       "      <td>1.5</td>\n",
       "      <td>Sarjapur Social</td>\n",
       "    </tr>\n",
       "    <tr>\n",
       "      <th>8</th>\n",
       "      <td>American, Continental</td>\n",
       "      <td>4.48</td>\n",
       "      <td>2.0</td>\n",
       "      <td>Arbor Brewing Company</td>\n",
       "    </tr>\n",
       "    <tr>\n",
       "      <th>24</th>\n",
       "      <td>Italian</td>\n",
       "      <td>4.48</td>\n",
       "      <td>1.0</td>\n",
       "      <td>Bologna</td>\n",
       "    </tr>\n",
       "    <tr>\n",
       "      <th>30</th>\n",
       "      <td>Finger Food, Continental, North Indian</td>\n",
       "      <td>4.44</td>\n",
       "      <td>1.0</td>\n",
       "      <td>Gilly'S Restobar</td>\n",
       "    </tr>\n",
       "    <tr>\n",
       "      <th>28</th>\n",
       "      <td>Ice Cream, Cafe, Pizza, Burger, Desserts, Beve...</td>\n",
       "      <td>4.39</td>\n",
       "      <td>500.0</td>\n",
       "      <td>Stoner</td>\n",
       "    </tr>\n",
       "    <tr>\n",
       "      <th>14</th>\n",
       "      <td>Modern Indian</td>\n",
       "      <td>4.38</td>\n",
       "      <td>1.1</td>\n",
       "      <td>Bombay Adda</td>\n",
       "    </tr>\n",
       "  </tbody>\n",
       "</table>\n",
       "</div>"
      ],
      "text/plain": [
       "                                             cuisines  Mean Rating   cost  \\\n",
       "9                           Italian, Pizza, Beverages         4.87    1.2   \n",
       "1          Continental, European, BBQ, Chinese, Asian         4.83    2.4   \n",
       "0   American, Continental, North Indian, Mediterra...         4.68    1.8   \n",
       "27     North Indian, South Indian, Continental, Asian         4.65    1.2   \n",
       "10       American, North Indian, Chinese, Finger Food         4.61    1.5   \n",
       "8                               American, Continental         4.48    2.0   \n",
       "24                                            Italian         4.48    1.0   \n",
       "30             Finger Food, Continental, North Indian         4.44    1.0   \n",
       "28  Ice Cream, Cafe, Pizza, Burger, Desserts, Beve...         4.39  500.0   \n",
       "14                                      Modern Indian         4.38    1.1   \n",
       "\n",
       "                     name  \n",
       "9        The Pizza Bakery  \n",
       "1              Biergarten  \n",
       "0             Big Pitcher  \n",
       "27               Hammered  \n",
       "10        Sarjapur Social  \n",
       "8   Arbor Brewing Company  \n",
       "24                Bologna  \n",
       "30       Gilly'S Restobar  \n",
       "28                 Stoner  \n",
       "14            Bombay Adda  "
      ]
     },
     "execution_count": 67,
     "metadata": {},
     "output_type": "execute_result"
    }
   ],
   "source": [
    "recommend('Big Pitcher')"
   ]
  },
  {
   "cell_type": "code",
   "execution_count": null,
   "id": "21ff84d7",
   "metadata": {
    "papermill": {
     "duration": 0.021818,
     "end_time": "2024-11-28T04:01:01.692970",
     "exception": false,
     "start_time": "2024-11-28T04:01:01.671152",
     "status": "completed"
    },
    "tags": []
   },
   "outputs": [],
   "source": []
  },
  {
   "cell_type": "code",
   "execution_count": 68,
   "id": "0beabb15",
   "metadata": {
    "execution": {
     "iopub.execute_input": "2024-11-28T04:01:01.736985Z",
     "iopub.status.busy": "2024-11-28T04:01:01.736483Z",
     "iopub.status.idle": "2024-11-28T04:01:09.531556Z",
     "shell.execute_reply": "2024-11-28T04:01:09.530072Z"
    },
    "papermill": {
     "duration": 7.822839,
     "end_time": "2024-11-28T04:01:09.536944",
     "exception": false,
     "start_time": "2024-11-28T04:01:01.714105",
     "status": "completed"
    },
    "tags": []
   },
   "outputs": [],
   "source": [
    "import pickle\n",
    "\n",
    "# Save essential components for recommendations\n",
    "with open('model.pkl', 'wb') as file:\n",
    "    pickle.dump((tfidf_matrix, indices, cosine_similarities), file)\n"
   ]
  },
  {
   "cell_type": "code",
   "execution_count": null,
   "id": "35e7636f",
   "metadata": {
    "papermill": {
     "duration": 0.090473,
     "end_time": "2024-11-28T04:01:09.657625",
     "exception": false,
     "start_time": "2024-11-28T04:01:09.567152",
     "status": "completed"
    },
    "tags": []
   },
   "outputs": [],
   "source": []
  }
 ],
 "metadata": {
  "kaggle": {
   "accelerator": "none",
   "dataSources": [
    {
     "datasetId": 6178433,
     "sourceId": 10031545,
     "sourceType": "datasetVersion"
    }
   ],
   "dockerImageVersionId": 30786,
   "isGpuEnabled": false,
   "isInternetEnabled": false,
   "language": "python",
   "sourceType": "notebook"
  },
  "kernelspec": {
   "display_name": "Python 3",
   "language": "python",
   "name": "python3"
  },
  "language_info": {
   "codemirror_mode": {
    "name": "ipython",
    "version": 3
   },
   "file_extension": ".py",
   "mimetype": "text/x-python",
   "name": "python",
   "nbconvert_exporter": "python",
   "pygments_lexer": "ipython3",
   "version": "3.10.14"
  },
  "papermill": {
   "default_parameters": {},
   "duration": 261.301871,
   "end_time": "2024-11-28T04:01:11.543959",
   "environment_variables": {},
   "exception": null,
   "input_path": "__notebook__.ipynb",
   "output_path": "__notebook__.ipynb",
   "parameters": {},
   "start_time": "2024-11-28T03:56:50.242088",
   "version": "2.6.0"
  }
 },
 "nbformat": 4,
 "nbformat_minor": 5
}
